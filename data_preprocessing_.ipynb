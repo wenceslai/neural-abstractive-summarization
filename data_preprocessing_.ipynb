{
 "cells": [
  {
   "cell_type": "code",
   "execution_count": 2,
   "source": [
    "%load_ext autoreload\n",
    "%autoreload 2\n",
    "\n",
    "import tensorflow as tf\n",
    "import numpy as np\n",
    "\n",
    "import pandas as pd\n",
    "pd.set_option('max_colwidth', 200)\n",
    "\n",
    "import matplotlib.pyplot as plt\n",
    "%matplotlib inline\n",
    "import seaborn as sns\n",
    "\n",
    "import time\n",
    "import re\n",
    "import json_lines\n",
    "import pickle\n",
    "import sentencepiece as spm\n",
    "\n",
    "from model import *\n",
    "from helper_funcs import *\n",
    "\n",
    "print(\"using gpu\") if tf.test.is_gpu_available else print(\"gpu not available\")"
   ],
   "outputs": [
    {
     "output_type": "stream",
     "name": "stdout",
     "text": [
      "using gpu\n"
     ]
    }
   ],
   "metadata": {}
  },
  {
   "cell_type": "markdown",
   "source": [
    "# Creating sentence piece vocabulary for Czech sum"
   ],
   "metadata": {}
  },
  {
   "cell_type": "code",
   "execution_count": 9,
   "source": [
    "json_lines_to_txt(\"dataset/sumeczech-1.0-train.jsonl\", \"sp_corpus.txt\", dataset_len=len(train_data), proportion=0.5)"
   ],
   "outputs": [],
   "metadata": {}
  },
  {
   "cell_type": "code",
   "execution_count": 5,
   "source": [
    "\n",
    "spm.SentencePieceTrainer.train(input=\"sp_corpus.txt\", model_prefix=\"../sp_czechsum_model\", vocab_size=50000, input_sentence_size=2_500_000\n",
    ",user_defined_symbols=['0', '1', '2', '3', '4', '5', '6','7','8', '9'])"
   ],
   "outputs": [],
   "metadata": {}
  },
  {
   "cell_type": "code",
   "execution_count": 15,
   "source": [
    "sp = spm.SentencePieceProcessor(model_file='sp_czechsum_50K_model.model')"
   ],
   "outputs": [],
   "metadata": {}
  },
  {
   "cell_type": "code",
   "execution_count": 50,
   "source": [
    "sp.IdToPiece(0)"
   ],
   "outputs": [
    {
     "output_type": "execute_result",
     "data": {
      "text/plain": [
       "'<pad>'"
      ]
     },
     "metadata": {},
     "execution_count": 50
    }
   ],
   "metadata": {}
  },
  {
   "cell_type": "code",
   "execution_count": 40,
   "source": [
    "sp.PieceToId([\"ahoj\", \"ahoj\", \"asdlkfj\"])"
   ],
   "outputs": [
    {
     "output_type": "execute_result",
     "data": {
      "text/plain": [
       "[33813, 33813, 3]"
      ]
     },
     "metadata": {},
     "execution_count": 40
    }
   ],
   "metadata": {}
  },
  {
   "cell_type": "code",
   "execution_count": 60,
   "source": [
    "w = \"nejobhospodařovávatelnější\"\n",
    "\"\"\"\n",
    "a= sp.EncodeAsIds(w)\n",
    "print(a)\n",
    "print(len(a))\n",
    "a = sp.EncodeAsPieces(w)\n",
    "print(a)\n",
    "print(len(a))\n",
    "\n",
    "print(sp.Decode(a))\n",
    "\"\"\"\n",
    "r = r\"[\\w'.,!?;\\\"]+\"\n",
    "#r = r\"?[\\w\"\n",
    "\"\"\"\n",
    "print(sp.EncodeAsPieces(w))\n",
    "print(sp.EncodeAsIds(w))\n",
    "\n",
    "words = re.findall(r, w)\n",
    "print(words)\n",
    "a = []\n",
    "b = []\n",
    "for word in words:\n",
    "    a += (sp.EncodeAsPieces(word))\n",
    "    #b += (sp.DecodePieces(word))\n",
    "print(a)\n",
    "print(sp.PieceToId(a))\n",
    "\"\"\"\n",
    "\n",
    "a = create_merge_pieces(w, 4, sp)\n"
   ],
   "outputs": [
    {
     "output_type": "stream",
     "name": "stdout",
     "text": [
      "▁nej\n",
      "ob\n",
      "hospoda\n",
      "ř\n",
      "ová\n",
      "v\n",
      "atel\n",
      "nější\n",
      "['▁nejobhospodařovávatelnější']\n"
     ]
    }
   ],
   "metadata": {}
  },
  {
   "cell_type": "code",
   "execution_count": 90,
   "source": [
    "w = \"vládnoucí\"; w2 = \" garnitůra\"; w3= \" nemá\"; w4 =  \" možnost.\"\n",
    "\n",
    "w = sp.EncodeAsIds(w)\n",
    "w2 = sp.EncodeAsIds(w2)\n",
    "w3 = sp.EncodeAsIds(w3)\n",
    "w4 = sp.EncodeAsIds(w4)\n",
    "\n",
    "#print(sp.EncodeAsPieces(w))\n",
    "print(w, w2, w3, w4)\n",
    "print(sp.Decode(w + w2 + w3 + w4))"
   ],
   "outputs": [
    {
     "output_type": "stream",
     "name": "stdout",
     "text": [
      "[13713] [4204, 1158, 54, 353] [390] [408, 16]\n",
      "vládnoucí garnitůra nemá možnost.\n"
     ]
    }
   ],
   "metadata": {}
  },
  {
   "cell_type": "code",
   "execution_count": 27,
   "source": [
    "sp.Decode([2316, 0, 0, 0, 0, 0, 0, 0, 0, 0, 0, 0, 0, 0, 0, 0, 0, 0, 0, 0, 0, 0])"
   ],
   "outputs": [
    {
     "output_type": "execute_result",
     "data": {
      "text/plain": [
       "'útočník'"
      ]
     },
     "metadata": {},
     "execution_count": 27
    }
   ],
   "metadata": {}
  },
  {
   "cell_type": "code",
   "execution_count": 24,
   "source": [
    "b = [0, 0, 218,14,6,4,5,9,4887,809,9532,38,24807,43,19015,18,561,33604,9630,18938,16,295,53,24484,411,16047,42,35564,432,18353,48375,38,16,2,0,0,0,0,0,0,0,0,0,0,0,0,0,0,0,0,0,0,0,0,0,0,0,0,0,0,0,0,0,0,0,0,0,0,0,0,0,0,0,0,0,0,0,0,0,0,0,0,0,0,0,0,0,0,0,0,0,0,0,0,0,0,0,0,0,0,0,0,0,0,42060,6372,32262,3703,42,3632,33604,9630,18938,14,8,15,13,7218,2,0,0,0,0,0,0,0,0]"
   ],
   "outputs": [],
   "metadata": {}
  },
  {
   "cell_type": "code",
   "execution_count": 25,
   "source": [
    "a, b, c, d = train_data[0]"
   ],
   "outputs": [],
   "metadata": {}
  },
  {
   "cell_type": "code",
   "execution_count": 33,
   "source": [
    "d"
   ],
   "outputs": [
    {
     "output_type": "execute_result",
     "data": {
      "text/plain": [
       "{}"
      ]
     },
     "metadata": {},
     "execution_count": 33
    }
   ],
   "metadata": {}
  },
  {
   "cell_type": "code",
   "execution_count": 8,
   "source": [
    "a = [517,7525,19,31,18,2713,116,28560,28,15,2357,5382,273,770,193,16,19976,16480,15,74,19,582,16489,827,210,15,49887,12761,53,169,400,17,179,19,73,517,1999,228,14,5,4,10,4,713,14,6,10,16,6,8,4,289,34,8614,33,572,57,8281,29,184,50001,14,7,5,15,5,14230,38,16,34,2713,19798,21,122,12169,15,13992,32114,7097,48758,42,23418,1403,17,29057,25,2662,89,7879,24,11286,1304,42,1655,2631,16,263,1208,19,3352,3248,9529,15,189,809,8839,48,3830,7525,42767,2,5699,295,17478,50,159,29,17407,15,4567,520,218,34,611,2,0,0,0,0,0,0,0,0,1,333,50001]"
   ],
   "outputs": [],
   "metadata": {}
  },
  {
   "cell_type": "markdown",
   "source": [
    "# Dataset laoding"
   ],
   "metadata": {}
  },
  {
   "cell_type": "markdown",
   "source": [
    "## Czech Sum - sentencepiece"
   ],
   "metadata": {}
  },
  {
   "cell_type": "code",
   "execution_count": 63,
   "source": [
    "selected_columns = [\"abstract\", \"headline\"]\n",
    "\n",
    "for dataset in [\"train\"]:\n",
    "    json_lines_to_csv_dataset_sentencepiece(\n",
    "        selected_columns, \n",
    "        f\"dataset/sumeczech-1.0-{dataset}.jsonl\", \n",
    "        f\"dataset_sumeczech_sp/sumeczech_sp_{dataset}.csv\", \n",
    "        VOCAB_SIZE, Tx, Ty, max_global_oov, max_Tx, max_Ty)\n",
    "    print(f\"{dataset} DONE\")"
   ],
   "outputs": [
    {
     "output_type": "stream",
     "name": "stdout",
     "text": [
      "train DONE\n"
     ]
    }
   ],
   "metadata": {}
  },
  {
   "cell_type": "code",
   "execution_count": 3,
   "source": [
    "Tx = int(60 * 1.7) # 102\n",
    "Ty = int(13 * 1.7) # 22\n",
    "\n",
    "EPOCHS = 40\n",
    "\n",
    "BATCH_SIZE = 16\n",
    "max_global_oov = 3 # not many of them\n",
    "VOCAB_SIZE = 50_000 ## vocab does not include ! :("
   ],
   "outputs": [],
   "metadata": {}
  },
  {
   "cell_type": "code",
   "execution_count": 3,
   "source": [
    "#train_data = read_csv_dataset(\"dataset_sumeczech_sp/sumeczech_sp_train.csv\", Tx, Ty)\n",
    "val_data = read_csv_dataset(\"dataset_sumeczech_sp/sumeczech_sp_dev.csv\", Tx, Ty)[:500]"
   ],
   "outputs": [
    {
     "output_type": "error",
     "ename": "NameError",
     "evalue": "name 'Tx' is not defined",
     "traceback": [
      "\u001b[0;31m---------------------------------------------------------------------------\u001b[0m",
      "\u001b[0;31mNameError\u001b[0m                                 Traceback (most recent call last)",
      "\u001b[0;32m<ipython-input-3-abf7b9262ca9>\u001b[0m in \u001b[0;36m<module>\u001b[0;34m\u001b[0m\n\u001b[1;32m      1\u001b[0m \u001b[0;31m#train_data = read_csv_dataset(\"dataset_sumeczech_sp/sumeczech_sp_train.csv\", Tx, Ty)\u001b[0m\u001b[0;34m\u001b[0m\u001b[0;34m\u001b[0m\u001b[0;34m\u001b[0m\u001b[0m\n\u001b[0;32m----> 2\u001b[0;31m \u001b[0mval_data\u001b[0m \u001b[0;34m=\u001b[0m \u001b[0mread_csv_dataset\u001b[0m\u001b[0;34m(\u001b[0m\u001b[0;34m\"dataset_sumeczech_sp/sumeczech_sp_dev.csv\"\u001b[0m\u001b[0;34m,\u001b[0m \u001b[0mTx\u001b[0m\u001b[0;34m,\u001b[0m \u001b[0mTy\u001b[0m\u001b[0;34m)\u001b[0m\u001b[0;34m[\u001b[0m\u001b[0;34m:\u001b[0m\u001b[0;36m500\u001b[0m\u001b[0;34m]\u001b[0m\u001b[0;34m\u001b[0m\u001b[0;34m\u001b[0m\u001b[0m\n\u001b[0m",
      "\u001b[0;31mNameError\u001b[0m: name 'Tx' is not defined"
     ]
    }
   ],
   "metadata": {}
  },
  {
   "cell_type": "code",
   "execution_count": 3,
   "source": [
    "cnt = 0\n",
    "for a, b, c, d in train_data:\n",
    "    cnt += list(b).count(0) / len(b)\n",
    "\n",
    "cnt / len(train_data)"
   ],
   "outputs": [
    {
     "output_type": "error",
     "ename": "NameError",
     "evalue": "name 'train_data' is not defined",
     "traceback": [
      "\u001b[0;31m---------------------------------------------------------------------------\u001b[0m",
      "\u001b[0;31mNameError\u001b[0m                                 Traceback (most recent call last)",
      "\u001b[0;32m<ipython-input-3-26e3a19fd2aa>\u001b[0m in \u001b[0;36m<module>\u001b[0;34m\u001b[0m\n\u001b[1;32m      1\u001b[0m \u001b[0mcnt\u001b[0m \u001b[0;34m=\u001b[0m \u001b[0;36m0\u001b[0m\u001b[0;34m\u001b[0m\u001b[0;34m\u001b[0m\u001b[0m\n\u001b[0;32m----> 2\u001b[0;31m \u001b[0;32mfor\u001b[0m \u001b[0ma\u001b[0m\u001b[0;34m,\u001b[0m \u001b[0mb\u001b[0m\u001b[0;34m,\u001b[0m \u001b[0mc\u001b[0m\u001b[0;34m,\u001b[0m \u001b[0md\u001b[0m \u001b[0;32min\u001b[0m \u001b[0mtrain_data\u001b[0m\u001b[0;34m:\u001b[0m\u001b[0;34m\u001b[0m\u001b[0;34m\u001b[0m\u001b[0m\n\u001b[0m\u001b[1;32m      3\u001b[0m     \u001b[0mcnt\u001b[0m \u001b[0;34m+=\u001b[0m \u001b[0mlist\u001b[0m\u001b[0;34m(\u001b[0m\u001b[0mb\u001b[0m\u001b[0;34m)\u001b[0m\u001b[0;34m.\u001b[0m\u001b[0mcount\u001b[0m\u001b[0;34m(\u001b[0m\u001b[0;36m0\u001b[0m\u001b[0;34m)\u001b[0m \u001b[0;34m/\u001b[0m \u001b[0mlen\u001b[0m\u001b[0;34m(\u001b[0m\u001b[0mb\u001b[0m\u001b[0;34m)\u001b[0m\u001b[0;34m\u001b[0m\u001b[0;34m\u001b[0m\u001b[0m\n\u001b[1;32m      4\u001b[0m \u001b[0;34m\u001b[0m\u001b[0m\n\u001b[1;32m      5\u001b[0m \u001b[0mcnt\u001b[0m \u001b[0;34m/\u001b[0m \u001b[0mlen\u001b[0m\u001b[0;34m(\u001b[0m\u001b[0mtrain_data\u001b[0m\u001b[0;34m)\u001b[0m\u001b[0;34m\u001b[0m\u001b[0;34m\u001b[0m\u001b[0m\n",
      "\u001b[0;31mNameError\u001b[0m: name 'train_data' is not defined"
     ]
    }
   ],
   "metadata": {}
  },
  {
   "cell_type": "code",
   "execution_count": 8,
   "source": [
    "model = TextSummarizer(Tx, Ty, BATCH_SIZE, VOCAB_SIZE, \n",
    "                        embedding_dim=128, a_units=256, h_units=256, word_dict=None, index_dict=None, max_global_oov=max_global_oov, sp_mode=True)"
   ],
   "outputs": [],
   "metadata": {}
  },
  {
   "cell_type": "code",
   "execution_count": 11,
   "source": [
    "model.load_model(load_prev={\"model_name\" : \"WOW\", \"epoch\" : 3})"
   ],
   "outputs": [
    {
     "output_type": "stream",
     "name": "stdout",
     "text": [
      "model loaded\n"
     ]
    }
   ],
   "metadata": {}
  },
  {
   "cell_type": "code",
   "execution_count": null,
   "source": [
    "model = TextSummarizer(Tx, Ty, BATCH_SIZE, VOCAB_SIZE, \n",
    "                        embedding_dim=128, a_units=256, h_units=256, word_dict=None, index_dict=None, max_global_oov=max_global_oov, sp_mode=True)\n",
    "\n",
    "history = model.fit(\n",
    "            epochs=EPOCHS, \n",
    "            train_data=val_data,\n",
    "            val_data=val_data,\n",
    "            lr=0.15,\n",
    "            use_coverage=True,\n",
    "            early_stopping=CallbackEarlyStopping(patience=4, min_delta=0),\n",
    "            reduce_lr=None,\n",
    "            save_freq=100,\n",
    "            model_name=\"TEST\",\n",
    "\n",
    "            restore=True\n",
    "            )\n"
   ],
   "outputs": [],
   "metadata": {}
  },
  {
   "cell_type": "code",
   "execution_count": 14,
   "source": [
    "model = TextSummarizer(Tx, Ty, BATCH_SIZE, VOCAB_SIZE, \n",
    "                        embedding_dim=128, a_units=256, h_units=256, word_dict=None, index_dict=None, max_global_oov=max_global_oov, sp_mode=True)\n",
    "\n",
    "history = model.fit(\n",
    "            epochs=EPOCHS, \n",
    "            train_data=val_data,\n",
    "            val_data=val_data,\n",
    "            lr=0.15,\n",
    "            use_coverage=True,\n",
    "            early_stopping=CallbackEarlyStopping(patience=4, min_delta=0),\n",
    "            reduce_lr=None,\n",
    "            save_freq=100,\n",
    "            model_name=\"TEST\",\n",
    "\n",
    "            restore=True\n",
    "            )\n",
    "\n",
    "# 6.453955173492432"
   ],
   "outputs": [
    {
     "output_type": "stream",
     "name": "stdout",
     "text": [
      "...\n",
      "inital learning rate:  0.15\n",
      "optimizer loaded\n",
      "restoring checkpoint from: 25/07/2021 13:43:57 epoch: 25 batch_i:  0 38.20516347885132\n",
      "SDKJFLKDSJF tf.Tensor(6.4880843, shape=(), dtype=float32)\n",
      "epoch: 26/40         stage: val        batch: 030/31         [>>>>>>>>>>>>>>>>>>>>>>>>>>>>>>>] (96.8%)\tloss: 6.08963\tt+:0:25s\n",
      "model saved\n",
      "\n",
      "epoch: 26 DONE            \tavg_train_loss: 6.55046272277832            \texec_time: 0.43min\tavg_val_loss: 6.367172718048096\n",
      "epoch: 27/40         stage: val        batch: 030/31         [>>>>>>>>>>>>>>>>>>>>>>>>>>>>>>>] (96.8%)\tloss: 6.90149\tt+:0:15s\n",
      "model saved\n",
      "\n",
      "epoch: 27 DONE            \tavg_train_loss: 6.47194766998291            \texec_time: 0.27min\tavg_val_loss: 6.362111568450928\n",
      "epoch: 28/40         stage: val        batch: 030/31         [>>>>>>>>>>>>>>>>>>>>>>>>>>>>>>>] (96.8%)\tloss: 6.41082\tt+:0:15s\n",
      "model saved\n",
      "\n",
      "epoch: 28 DONE            \tavg_train_loss: 6.415095806121826            \texec_time: 0.27min\tavg_val_loss: 6.204564571380615\n",
      "epoch: 29/40         stage: val        batch: 030/31         [>>>>>>>>>>>>>>>>>>>>>>>>>>>>>>>] (96.8%)\tloss: 5.75660\tt+:0:16s\n",
      "model saved\n",
      "\n",
      "epoch: 29 DONE            \tavg_train_loss: 6.385210990905762            \texec_time: 0.27min\tavg_val_loss: 6.155850887298584\n",
      "epoch: 30/40         stage: train        batch: 030/31         [>>>>>>>>>>>>>>>>>>>>>>>>>>>>>>>] (96.8%)\tloss: 6.40392\tt+:0:9s"
     ]
    },
    {
     "output_type": "error",
     "ename": "KeyboardInterrupt",
     "evalue": "",
     "traceback": [
      "\u001b[0;31m---------------------------------------------------------------------------\u001b[0m",
      "\u001b[0;31mKeyboardInterrupt\u001b[0m                         Traceback (most recent call last)",
      "\u001b[0;32m<ipython-input-14-988a60bd683c>\u001b[0m in \u001b[0;36m<module>\u001b[0;34m\u001b[0m\n\u001b[1;32m     13\u001b[0m             \u001b[0mmodel_name\u001b[0m\u001b[0;34m=\u001b[0m\u001b[0;34m\"TEST\"\u001b[0m\u001b[0;34m,\u001b[0m\u001b[0;34m\u001b[0m\u001b[0;34m\u001b[0m\u001b[0m\n\u001b[1;32m     14\u001b[0m \u001b[0;34m\u001b[0m\u001b[0m\n\u001b[0;32m---> 15\u001b[0;31m             \u001b[0mrestore\u001b[0m\u001b[0;34m=\u001b[0m\u001b[0;32mTrue\u001b[0m\u001b[0;34m\u001b[0m\u001b[0;34m\u001b[0m\u001b[0m\n\u001b[0m\u001b[1;32m     16\u001b[0m             )\n\u001b[1;32m     17\u001b[0m \u001b[0;34m\u001b[0m\u001b[0m\n",
      "\u001b[0;32m~/dev/nlp_text_summarization/model/_train_utils.py\u001b[0m in \u001b[0;36mfit\u001b[0;34m(self, epochs, train_data, val_data, lr, use_coverage, early_stopping, reduce_lr, save_freq, restore, model_name)\u001b[0m\n\u001b[1;32m     84\u001b[0m             \u001b[0;32mfor\u001b[0m \u001b[0mbatch_i\u001b[0m \u001b[0;32min\u001b[0m \u001b[0mrange\u001b[0m\u001b[0;34m(\u001b[0m\u001b[0;36m0\u001b[0m\u001b[0;34m,\u001b[0m \u001b[0mtotal_val_batches\u001b[0m\u001b[0;34m)\u001b[0m\u001b[0;34m:\u001b[0m\u001b[0;34m\u001b[0m\u001b[0;34m\u001b[0m\u001b[0m\n\u001b[1;32m     85\u001b[0m \u001b[0;34m\u001b[0m\u001b[0m\n\u001b[0;32m---> 86\u001b[0;31m                 \u001b[0mX_batch\u001b[0m\u001b[0;34m,\u001b[0m \u001b[0mX_batch_indeces_ext\u001b[0m\u001b[0;34m,\u001b[0m \u001b[0m_\u001b[0m\u001b[0;34m,\u001b[0m \u001b[0my_batch\u001b[0m\u001b[0;34m,\u001b[0m \u001b[0mmax_oov\u001b[0m\u001b[0;34m,\u001b[0m \u001b[0m_\u001b[0m \u001b[0;34m=\u001b[0m \u001b[0mself\u001b[0m\u001b[0;34m.\u001b[0m\u001b[0mget_batch\u001b[0m\u001b[0;34m(\u001b[0m\u001b[0mbatch_i\u001b[0m\u001b[0;34m,\u001b[0m \u001b[0mval_data\u001b[0m\u001b[0;34m)\u001b[0m\u001b[0;34m\u001b[0m\u001b[0;34m\u001b[0m\u001b[0m\n\u001b[0m\u001b[1;32m     87\u001b[0m \u001b[0;34m\u001b[0m\u001b[0m\n\u001b[1;32m     88\u001b[0m                 \u001b[0mloss\u001b[0m\u001b[0;34m,\u001b[0m \u001b[0m_\u001b[0m\u001b[0;34m,\u001b[0m \u001b[0m_\u001b[0m \u001b[0;34m=\u001b[0m \u001b[0mself\u001b[0m\u001b[0;34m.\u001b[0m\u001b[0mevaluate\u001b[0m\u001b[0;34m(\u001b[0m\u001b[0mX_batch\u001b[0m\u001b[0;34m,\u001b[0m \u001b[0my_batch\u001b[0m\u001b[0;34m,\u001b[0m \u001b[0mX_batch_indeces_ext\u001b[0m\u001b[0;34m,\u001b[0m \u001b[0mmax_oov\u001b[0m\u001b[0;34m,\u001b[0m \u001b[0muse_coverage\u001b[0m\u001b[0;34m,\u001b[0m \u001b[0mcompute_rouge\u001b[0m\u001b[0;34m=\u001b[0m\u001b[0;32mFalse\u001b[0m\u001b[0;34m)\u001b[0m\u001b[0;31m#=True if batch_i == total_val_batches - 1 else False)\u001b[0m\u001b[0;34m\u001b[0m\u001b[0;34m\u001b[0m\u001b[0m\n",
      "\u001b[0;32m~/dev/nlp_text_summarization/model/_train_utils.py\u001b[0m in \u001b[0;36mget_batch\u001b[0;34m(self, batch_i, dataset)\u001b[0m\n\u001b[1;32m    159\u001b[0m             \u001b[0mX_ext\u001b[0m\u001b[0;34m,\u001b[0m \u001b[0my_ext\u001b[0m\u001b[0;34m,\u001b[0m \u001b[0moov_cnt\u001b[0m\u001b[0;34m,\u001b[0m \u001b[0moov_vocab\u001b[0m \u001b[0;34m=\u001b[0m \u001b[0mdataset\u001b[0m\u001b[0;34m[\u001b[0m\u001b[0mi\u001b[0m\u001b[0;34m]\u001b[0m\u001b[0;34m\u001b[0m\u001b[0;34m\u001b[0m\u001b[0m\n\u001b[1;32m    160\u001b[0m \u001b[0;34m\u001b[0m\u001b[0m\n\u001b[0;32m--> 161\u001b[0;31m             \u001b[0mX_batch\u001b[0m\u001b[0;34m.\u001b[0m\u001b[0mappend\u001b[0m\u001b[0;34m(\u001b[0m\u001b[0mlist\u001b[0m\u001b[0;34m(\u001b[0m\u001b[0mmap\u001b[0m\u001b[0;34m(\u001b[0m\u001b[0m_ext_to_unk\u001b[0m\u001b[0;34m,\u001b[0m \u001b[0mX_ext\u001b[0m\u001b[0;34m)\u001b[0m\u001b[0;34m)\u001b[0m\u001b[0;34m)\u001b[0m\u001b[0;34m\u001b[0m\u001b[0;34m\u001b[0m\u001b[0m\n\u001b[0m\u001b[1;32m    162\u001b[0m             \u001b[0my_batch_teacher_force\u001b[0m\u001b[0;34m.\u001b[0m\u001b[0mappend\u001b[0m\u001b[0;34m(\u001b[0m\u001b[0mlist\u001b[0m\u001b[0;34m(\u001b[0m\u001b[0mmap\u001b[0m\u001b[0;34m(\u001b[0m\u001b[0m_ext_to_unk\u001b[0m\u001b[0;34m,\u001b[0m \u001b[0my_ext\u001b[0m\u001b[0;34m)\u001b[0m\u001b[0;34m)\u001b[0m\u001b[0;34m)\u001b[0m\u001b[0;34m\u001b[0m\u001b[0;34m\u001b[0m\u001b[0m\n\u001b[1;32m    163\u001b[0m             \u001b[0mX_batch_ext\u001b[0m\u001b[0;34m.\u001b[0m\u001b[0mappend\u001b[0m\u001b[0;34m(\u001b[0m\u001b[0mX_ext\u001b[0m\u001b[0;34m)\u001b[0m\u001b[0;34m\u001b[0m\u001b[0;34m\u001b[0m\u001b[0m\n",
      "\u001b[0;31mKeyboardInterrupt\u001b[0m: "
     ]
    }
   ],
   "metadata": {}
  },
  {
   "cell_type": "markdown",
   "source": [
    "## Czech Sum Dataset"
   ],
   "metadata": {}
  },
  {
   "cell_type": "code",
   "execution_count": 2,
   "source": [
    "with open('word_dict.pickle', 'rb') as f:\n",
    "    word_dict = pickle.load(f)\n",
    "\n",
    "index_dict = {}\n",
    "for key, value in word_dict.items():\n",
    "    index_dict[value] = key\n"
   ],
   "outputs": [],
   "metadata": {}
  },
  {
   "cell_type": "code",
   "execution_count": 28,
   "source": [
    "BATCH_SIZE = 64 # 16 in orig paper\n",
    "EPOCHS = 3\n",
    "#Tx = 450 #length of input sequence (article)\n",
    "#Ty = 50 #length of output sequence (abstract)\n",
    "Tx = 50\n",
    "Ty = 12 + 1 # +1 for <eos> token\n",
    "#max_global_oov = 50\n",
    "max_global_oov = 5 #!!! increase?????? better more than less, flexibility just for elegance + performance??j\n",
    "VOCAB_SIZE = len(word_dict)"
   ],
   "outputs": [],
   "metadata": {}
  },
  {
   "cell_type": "code",
   "execution_count": 29,
   "source": [
    "t0 = time.time()\n",
    "\n",
    "val_data = read_csv_dataset(f\"dataset_csv/sumeczech_dev.csv\", Tx, Ty)\n",
    "#train_data = read_csv_dataset(f\"dataset_csv/sumeczech_train.csv\", word_dict, VOCAB_SIZE, Tx, Ty)\n",
    "\n",
    "time.time() - t0"
   ],
   "outputs": [
    {
     "output_type": "stream",
     "name": "stdout",
     "text": [
      "pračiková\n",
      "zavaleným\n",
      "zavážet\n",
      "propadům\n",
      "spojujících\n",
      "evakuovaná\n",
      "frýdštejn\n",
      "657\n",
      "zalesněný\n",
      "kopanina\n",
      "cihlovou\n",
      "frontou\n",
      "hřebenů\n",
      "přestavila\n",
      "personalizace\n",
      "šéfdesignérovi\n",
      "neodpustil\n",
      "nbl\n",
      "psychiatrická\n",
      "jaroslavě\n",
      "musilové\n",
      "síťovém\n",
      "nezanedbali\n",
      "23leté\n",
      "indky\n",
      "znásilnila\n",
      "šaší\n",
      "tharúr\n"
     ]
    },
    {
     "output_type": "error",
     "ename": "Error",
     "evalue": "field larger than field limit (131072)",
     "traceback": [
      "\u001b[0;31m---------------------------------------------------------------------------\u001b[0m",
      "\u001b[0;31mError\u001b[0m                                     Traceback (most recent call last)",
      "\u001b[0;32m<ipython-input-29-a9244a4414df>\u001b[0m in \u001b[0;36m<module>\u001b[0;34m\u001b[0m\n\u001b[1;32m      1\u001b[0m \u001b[0mt0\u001b[0m \u001b[0;34m=\u001b[0m \u001b[0mtime\u001b[0m\u001b[0;34m.\u001b[0m\u001b[0mtime\u001b[0m\u001b[0;34m(\u001b[0m\u001b[0;34m)\u001b[0m\u001b[0;34m\u001b[0m\u001b[0;34m\u001b[0m\u001b[0m\n\u001b[1;32m      2\u001b[0m \u001b[0;34m\u001b[0m\u001b[0m\n\u001b[0;32m----> 3\u001b[0;31m \u001b[0mval_data\u001b[0m \u001b[0;34m=\u001b[0m \u001b[0mread_csv_dataset\u001b[0m\u001b[0;34m(\u001b[0m\u001b[0;34mf\"dataset_csv/sumeczech_dev.csv\"\u001b[0m\u001b[0;34m,\u001b[0m \u001b[0mTx\u001b[0m\u001b[0;34m,\u001b[0m \u001b[0mTy\u001b[0m\u001b[0;34m)\u001b[0m\u001b[0;34m\u001b[0m\u001b[0;34m\u001b[0m\u001b[0m\n\u001b[0m\u001b[1;32m      4\u001b[0m \u001b[0;31m#train_data = read_csv_dataset(f\"dataset_csv/sumeczech_train.csv\", word_dict, VOCAB_SIZE, Tx, Ty)\u001b[0m\u001b[0;34m\u001b[0m\u001b[0;34m\u001b[0m\u001b[0;34m\u001b[0m\u001b[0m\n\u001b[1;32m      5\u001b[0m \u001b[0;34m\u001b[0m\u001b[0m\n",
      "\u001b[0;32m~/dev/nlp_text_summarization/helper_funcs.py\u001b[0m in \u001b[0;36mread_csv_dataset\u001b[0;34m(source_file, Tx, Ty)\u001b[0m\n\u001b[1;32m    173\u001b[0m         \u001b[0mdataset\u001b[0m \u001b[0;34m=\u001b[0m \u001b[0;34m[\u001b[0m\u001b[0;34m]\u001b[0m\u001b[0;34m\u001b[0m\u001b[0;34m\u001b[0m\u001b[0m\n\u001b[1;32m    174\u001b[0m \u001b[0;34m\u001b[0m\u001b[0m\n\u001b[0;32m--> 175\u001b[0;31m         \u001b[0;32mfor\u001b[0m \u001b[0mrow\u001b[0m \u001b[0;32min\u001b[0m \u001b[0mreader\u001b[0m\u001b[0;34m:\u001b[0m\u001b[0;34m\u001b[0m\u001b[0;34m\u001b[0m\u001b[0m\n\u001b[0m\u001b[1;32m    176\u001b[0m             \u001b[0mX\u001b[0m \u001b[0;34m=\u001b[0m \u001b[0mnp\u001b[0m\u001b[0;34m.\u001b[0m\u001b[0marray\u001b[0m\u001b[0;34m(\u001b[0m\u001b[0mrow\u001b[0m\u001b[0;34m[\u001b[0m\u001b[0;36m0\u001b[0m\u001b[0;34m:\u001b[0m\u001b[0mTx\u001b[0m\u001b[0;34m]\u001b[0m\u001b[0;34m)\u001b[0m\u001b[0;34m.\u001b[0m\u001b[0mastype\u001b[0m\u001b[0;34m(\u001b[0m\u001b[0mnp\u001b[0m\u001b[0;34m.\u001b[0m\u001b[0muint16\u001b[0m\u001b[0;34m)\u001b[0m\u001b[0;34m\u001b[0m\u001b[0;34m\u001b[0m\u001b[0m\n\u001b[1;32m    177\u001b[0m             \u001b[0my\u001b[0m \u001b[0;34m=\u001b[0m \u001b[0mnp\u001b[0m\u001b[0;34m.\u001b[0m\u001b[0marray\u001b[0m\u001b[0;34m(\u001b[0m\u001b[0mrow\u001b[0m\u001b[0;34m[\u001b[0m\u001b[0mTx\u001b[0m\u001b[0;34m:\u001b[0m\u001b[0mTx\u001b[0m \u001b[0;34m+\u001b[0m \u001b[0mTy\u001b[0m\u001b[0;34m]\u001b[0m\u001b[0;34m)\u001b[0m\u001b[0;34m.\u001b[0m\u001b[0mastype\u001b[0m\u001b[0;34m(\u001b[0m\u001b[0mnp\u001b[0m\u001b[0;34m.\u001b[0m\u001b[0muint16\u001b[0m\u001b[0;34m)\u001b[0m\u001b[0;34m\u001b[0m\u001b[0;34m\u001b[0m\u001b[0m\n",
      "\u001b[0;31mError\u001b[0m: field larger than field limit (131072)"
     ]
    }
   ],
   "metadata": {
    "tags": []
   }
  },
  {
   "cell_type": "code",
   "execution_count": 8,
   "source": [
    "len(train_data)"
   ],
   "outputs": [
    {
     "output_type": "execute_result",
     "data": {
      "text/plain": [
       "867603"
      ]
     },
     "metadata": {},
     "execution_count": 8
    }
   ],
   "metadata": {}
  },
  {
   "cell_type": "markdown",
   "source": [
    "## CNN-Daily mail dataset"
   ],
   "metadata": {}
  },
  {
   "cell_type": "code",
   "execution_count": 4,
   "source": [
    "with open('dailymail_word_dict.pickle', 'rb') as f:\n",
    "    word_dict = pickle.load(f)\n",
    "\n",
    "index_dict = {}\n",
    "for key, value in word_dict.items():\n",
    "    index_dict[value] = key"
   ],
   "outputs": [],
   "metadata": {}
  },
  {
   "cell_type": "code",
   "execution_count": 5,
   "source": [
    "# stodvacetidolarové ['▁sto', 'dvacet', 'i', 'do', 'lar', 'ové']\n",
    "# e-neschopenky ['▁e', '-', 'ne', 'schop', 'enky']\n",
    "#přestavila ['▁pře', 'stav', 'ila']\n",
    "# jednašedesátiletá ['jedna', 'šedesát', 'iletá']\n",
    "\n",
    "BATCH_SIZE = 8 # 16 in orig paper\n",
    "EPOCHS = 3\n",
    "#Tx = 450 #length of input sequence (article)\n",
    "Ty = 50 #length of output sequence (abstract)\n",
    "Tx = 400\n",
    "Ty = 100 # +1 for <eos> token\n",
    "\n",
    "max_global_oov = 100\n",
    "\n",
    "VOCAB_SIZE = len(word_dict)"
   ],
   "outputs": [],
   "metadata": {}
  },
  {
   "cell_type": "code",
   "execution_count": 7,
   "source": [
    "t0 = time.time()\n",
    "\n",
    "val_data = read_csv_dataset(f\"dataset_dailymail/val.csv\", Tx, Ty)\n",
    "#train_data = read_csv_dataset(f\"dataset_dailymail/train.csv\", word_dict, VOCAB_SIZE, Tx, Ty)\n",
    "\n",
    "time.time() - t0"
   ],
   "outputs": [
    {
     "output_type": "execute_result",
     "data": {
      "text/plain": [
       "2.646956443786621"
      ]
     },
     "metadata": {},
     "execution_count": 7
    }
   ],
   "metadata": {}
  },
  {
   "cell_type": "markdown",
   "source": [
    "from rouge_eval import *\n",
    "\n",
    "evaluate_model(dataset_path=\"dataset_dailymail/val.csv\", \n",
    "               save_dir=\"\",\n",
    "               use_beam_search=True,\n",
    "               bw=3,\n",
    "               save_n_samples=6,\n",
    "               use_coverage=False,\n",
    "               batch_size=BATCH_SIZE,\n",
    "               total_batches=3,\n",
    "               word_dict=word_dict, index_dict=index_dict, \n",
    "               vocab_size=VOCAB_SIZE,\n",
    "               Tx=Tx, Ty=Ty, max_global_oov=max_global_oov,\n",
    "               embedding_dim=128, a_units=256, h_units=256\n",
    "               )"
   ],
   "metadata": {
    "tags": []
   }
  },
  {
   "cell_type": "markdown",
   "source": [
    "Loading dataset in json lines form into memory"
   ],
   "metadata": {}
  },
  {
   "cell_type": "code",
   "execution_count": 6,
   "source": [
    "\"\"\" dict values: abstract, dataset, filename, headline, length, md5, offset, published, section, subdomain, text \"\"\"\n",
    "t0 = time.time()\n",
    "data = []\n",
    "selected_columns = [\"text\", \"abstract\"]\n",
    "\n",
    "for dataset in [\"dev\"]:\n",
    "    with json_lines.open(f\"dataset/sumeczech-1.0-{dataset}.jsonl\", 'r') as json_data:\n",
    "        for line in json_data:\n",
    "            data.append(line)\n",
    "        if dataset == \"dev\": val = pd.DataFrame(data); val = val[selected_columns]\n",
    "        elif dataset == \"oodtest\": ood_test = pd.DataFrame(data); ood_test = ood_test[selected_columns]\n",
    "        elif dataset == \"test\": test = pd.DataFrame(data); test = test[selected_columns]\n",
    "        elif dataset == \"train\": train = pd.DataFrame(data); train = train[selected_columns]\n",
    "del data\n",
    "time.time() - t0"
   ],
   "outputs": [
    {
     "output_type": "execute_result",
     "data": {
      "text/plain": [
       "1.6024775505065918"
      ]
     },
     "metadata": {},
     "execution_count": 6
    }
   ],
   "metadata": {}
  },
  {
   "cell_type": "code",
   "execution_count": 7,
   "source": [
    "sp = spm.SentencePieceProcessor(model_file='sp_czechsum_50K_model.model')"
   ],
   "outputs": [],
   "metadata": {}
  },
  {
   "cell_type": "code",
   "execution_count": 8,
   "source": [
    "#sp = spm.SentencePieceProcessor(model_file='sp_czechsum_50K_model.model')\n",
    "\n",
    "t_len = []; sp_len = []\n",
    "\n",
    "for s in val[\"text\"]:\n",
    "    #t_len.append(len(re.findall(r\"[\\w']+|[.,!?;]\", s)))\n",
    "    sp_len.append(len(sp.EncodeAsPieces(s)))\n"
   ],
   "outputs": [],
   "metadata": {}
  },
  {
   "cell_type": "code",
   "execution_count": 9,
   "source": [
    "len(sp_len)"
   ],
   "outputs": [
    {
     "output_type": "execute_result",
     "data": {
      "text/plain": [
       "44567"
      ]
     },
     "metadata": {},
     "execution_count": 9
    }
   ],
   "metadata": {}
  },
  {
   "cell_type": "code",
   "execution_count": 72,
   "source": [
    "sum(t_len) / len(t_len)"
   ],
   "outputs": [
    {
     "output_type": "execute_result",
     "data": {
      "text/plain": [
       "9.488837031884579"
      ]
     },
     "metadata": {},
     "execution_count": 72
    }
   ],
   "metadata": {}
  },
  {
   "cell_type": "code",
   "execution_count": 19,
   "source": [
    "Tx = 800"
   ],
   "outputs": [],
   "metadata": {}
  },
  {
   "cell_type": "code",
   "execution_count": 73,
   "source": [
    "(sum(sp_len) / len(sp_len)) / (sum(t_len) / len(t_len))"
   ],
   "outputs": [
    {
     "output_type": "execute_result",
     "data": {
      "text/plain": [
       "1.8980512616785963"
      ]
     },
     "metadata": {},
     "execution_count": 73
    }
   ],
   "metadata": {}
  },
  {
   "cell_type": "code",
   "execution_count": 18,
   "source": [
    "text_len_stats(sp_len, Tx)"
   ],
   "outputs": [
    {
     "output_type": "stream",
     "name": "stderr",
     "text": [
      "/home/wenceslai/anaconda3/envs/ml/lib/python3.7/site-packages/seaborn/_decorators.py:43: FutureWarning: Pass the following variable as a keyword arg: x. From version 0.12, the only valid positional argument will be `data`, and passing other arguments without an explicit keyword will result in an error or misinterpretation.\n",
      "  FutureWarning\n"
     ]
    },
    {
     "output_type": "stream",
     "name": "stdout",
     "text": [
      "5num summary:  150 399.0 571.0 847.0 20179\n",
      "num of outlier:  2925\n",
      "proportion of sentences that are longer than the cutoff\n",
      "delta > 1  0.3613211569098212\n",
      "delta < 5:  0.0039042340745394574\n",
      "5 < delta < 10:  0.0033881571566405635\n",
      "10 < delta < 20:  0.008661116969955349\n",
      "20 < delta < 40:  0.01662665200709045\n",
      "40 < delta < 80:  0.02993246123813584\n",
      "delta > 80:  0.29402921444117847\n"
     ]
    },
    {
     "output_type": "display_data",
     "data": {
      "text/plain": [
       "<Figure size 3456x1152 with 3 Axes>"
      ],
      "image/png": "[encoded data removed]"
     },
     "metadata": {
      "needs_background": "light"
     }
    }
   ],
   "metadata": {}
  },
  {
   "cell_type": "markdown",
   "source": [
    "Converting json lines files to csv for compatibility with tensorflow and easier manipulation"
   ],
   "metadata": {}
  },
  {
   "cell_type": "markdown",
   "source": [
    "# Creating datasets in csv form"
   ],
   "metadata": {}
  },
  {
   "cell_type": "code",
   "execution_count": 42,
   "source": [
    "t0 = time.time()\n",
    "selected_columns = [\"abstract\", \"headline\"]\n",
    "\n",
    "for dataset in [\"train\", \"dev\"]:\n",
    "    json_lines_to_csv_dataset(\n",
    "        selected_columns, \n",
    "        f\"dataset/sumeczech-1.0-{dataset}.jsonl\", \n",
    "        f\"dataset_csv/sumeczech_{dataset}.csv\", \n",
    "        word_dict, VOCAB_SIZE, Tx, Ty, max_global_oov)\n",
    "    print(f\"{dataset} DONE\")\n",
    "\n",
    "time.time() - t0"
   ],
   "outputs": [
    {
     "output_type": "stream",
     "name": "stdout",
     "text": [
      "train DONE\n",
      "dev DONE\n"
     ]
    },
    {
     "output_type": "execute_result",
     "data": {
      "text/plain": [
       "165.60018825531006"
      ]
     },
     "metadata": {},
     "execution_count": 42
    }
   ],
   "metadata": {
    "tags": []
   }
  },
  {
   "cell_type": "code",
   "execution_count": 14,
   "source": [
    "Sigma = 0\n",
    "for point in val_data:\n",
    "    a, b, c, d = point\n",
    "    #print(len(b))\n",
    "    Sigma += np.count_nonzero(a)\n",
    "\n",
    "Sigma / len(val_data)\n"
   ],
   "outputs": [
    {
     "output_type": "execute_result",
     "data": {
      "text/plain": [
       "40.50416227253349"
      ]
     },
     "metadata": {},
     "execution_count": 14
    }
   ],
   "metadata": {
    "tags": []
   }
  },
  {
   "cell_type": "markdown",
   "source": [
    "Retrieving dataset encoded from csv format"
   ],
   "metadata": {}
  },
  {
   "cell_type": "markdown",
   "source": [
    "Creating dictionary"
   ],
   "metadata": {}
  },
  {
   "cell_type": "code",
   "execution_count": 33,
   "source": [
    "t0 = time.time()\n",
    "#creating a dictionary from train\n",
    "word_dict = {}\n",
    "reg = r\"[\\w']+|[.,!?;]\"\n",
    "\n",
    "for i in range(train.shape[0]):\n",
    "    for word in re.findall(reg, train.iloc[i]['abstract']) + re.findall(reg, train.iloc[i]['headline']):\n",
    "        word = word.lower()\n",
    "\n",
    "        if word not in word_dict.keys(): word_dict[word] = 0\n",
    "\n",
    "        word_dict[word] += 1\n",
    "\n",
    "vocab_size = 50000\n",
    "\n",
    "word_dict = {k : v for k, v in sorted(word_dict.items(), key=lambda x: x[1], reverse=True)[:vocab_size]} #sorting keys by count of occurences \n",
    "for i, (word, _) in enumerate(word_dict.items()): word_dict[word] = i + 4 #replacing count values by unique token values\n",
    "#special tokens\n",
    "word_dict[\"<sos>\"] = 1 # start of sequence !later used in model\n",
    "word_dict[\"<eos>\"] = 2 # end of sequence\n",
    "word_dict[\"<unk>\"] = 3 # unknown token/word\n",
    "word_dict[\"<pad>\"] = 0 # padding\n",
    "\n",
    "with open('word_dict.pickle', 'wb') as f:\n",
    "    pickle.dump(word_dict, f, protocol=pickle.HIGHEST_PROTOCOL)\n",
    "\n",
    "time.time() - t0"
   ],
   "outputs": [
    {
     "output_type": "execute_result",
     "data": {
      "text/plain": [
       "214.57923245429993"
      ]
     },
     "metadata": {},
     "execution_count": 33
    }
   ],
   "metadata": {}
  },
  {
   "cell_type": "code",
   "execution_count": 8,
   "source": [
    "for key, value in list(word_dict.items())[0:10]: #removing number > x from dict?, jména politiků,\n",
    "    print(value, \"\\t\", key)"
   ],
   "outputs": [
    {
     "output_type": "stream",
     "name": "stdout",
     "text": [
      "5 \t .\n",
      "6 \t ,\n",
      "7 \t v\n",
      "8 \t na\n",
      "9 \t a\n",
      "10 \t se\n",
      "11 \t z\n",
      "12 \t je\n",
      "13 \t s\n",
      "14 \t o\n"
     ]
    }
   ],
   "metadata": {}
  },
  {
   "cell_type": "markdown",
   "source": [
    "Opening the dictionary"
   ],
   "metadata": {}
  },
  {
   "cell_type": "markdown",
   "source": [
    "# Determining lengths of input and output sequences (Tx and Ty)\n",
    "setting Tx and Ty on heuristicaly from graph information"
   ],
   "metadata": {}
  },
  {
   "cell_type": "code",
   "execution_count": 9,
   "source": [
    "text_lens = []\n",
    "abstract_lens = []\n",
    "\n",
    "for i in range(val.shape[0]):\n",
    "    text_lens.append(len(re.findall(r\"[\\w']+|[.,!?;\\\"]\", val.iloc[i]['abstract'])))\n",
    "    abstract_lens.append(len(re.findall(r\"[\\w']+|[.,!?;\\\"]\", val.iloc[i]['headline'])))"
   ],
   "outputs": [],
   "metadata": {}
  },
  {
   "cell_type": "code",
   "execution_count": 22,
   "source": [
    "sum(text_lens) / len(text_lens)"
   ],
   "outputs": [
    {
     "output_type": "execute_result",
     "data": {
      "text/plain": [
       "43.64271770592591"
      ]
     },
     "metadata": {},
     "execution_count": 22
    }
   ],
   "metadata": {}
  },
  {
   "cell_type": "code",
   "execution_count": 18,
   "source": [
    "cnt = 0\n",
    "for l in text_lens:\n",
    "    if l <= Tx + 10: cnt += 1\n",
    "print(cnt / len(text_lens))\n",
    "cnt=0\n",
    "for l in abstract_lens: \n",
    "    if l <= 12: cnt += 1\n",
    "print(cnt / len(text_lens))\n"
   ],
   "outputs": [
    {
     "output_type": "error",
     "ename": "NameError",
     "evalue": "name 'Tx' is not defined",
     "traceback": [
      "\u001b[0;31m---------------------------------------------------------------------------\u001b[0m",
      "\u001b[0;31mNameError\u001b[0m                                 Traceback (most recent call last)",
      "\u001b[0;32m<ipython-input-18-a40856487d1b>\u001b[0m in \u001b[0;36m<module>\u001b[0;34m\u001b[0m\n\u001b[1;32m      1\u001b[0m \u001b[0mcnt\u001b[0m \u001b[0;34m=\u001b[0m \u001b[0;36m0\u001b[0m\u001b[0;34m\u001b[0m\u001b[0;34m\u001b[0m\u001b[0m\n\u001b[1;32m      2\u001b[0m \u001b[0;32mfor\u001b[0m \u001b[0ml\u001b[0m \u001b[0;32min\u001b[0m \u001b[0mtext_lens\u001b[0m\u001b[0;34m:\u001b[0m\u001b[0;34m\u001b[0m\u001b[0;34m\u001b[0m\u001b[0m\n\u001b[0;32m----> 3\u001b[0;31m     \u001b[0;32mif\u001b[0m \u001b[0ml\u001b[0m \u001b[0;34m<=\u001b[0m \u001b[0mTx\u001b[0m \u001b[0;34m+\u001b[0m \u001b[0;36m10\u001b[0m\u001b[0;34m:\u001b[0m \u001b[0mcnt\u001b[0m \u001b[0;34m+=\u001b[0m \u001b[0;36m1\u001b[0m\u001b[0;34m\u001b[0m\u001b[0;34m\u001b[0m\u001b[0m\n\u001b[0m\u001b[1;32m      4\u001b[0m \u001b[0mprint\u001b[0m\u001b[0;34m(\u001b[0m\u001b[0mcnt\u001b[0m \u001b[0;34m/\u001b[0m \u001b[0mlen\u001b[0m\u001b[0;34m(\u001b[0m\u001b[0mtext_lens\u001b[0m\u001b[0;34m)\u001b[0m\u001b[0;34m)\u001b[0m\u001b[0;34m\u001b[0m\u001b[0;34m\u001b[0m\u001b[0m\n\u001b[1;32m      5\u001b[0m \u001b[0mcnt\u001b[0m\u001b[0;34m=\u001b[0m\u001b[0;36m0\u001b[0m\u001b[0;34m\u001b[0m\u001b[0;34m\u001b[0m\u001b[0m\n",
      "\u001b[0;31mNameError\u001b[0m: name 'Tx' is not defined"
     ]
    }
   ],
   "metadata": {}
  },
  {
   "cell_type": "code",
   "execution_count": 20,
   "source": [
    "fig, ax = plt.subplots(2,2, figsize=(17,8))\n",
    "sns.distplot(text_lens, bins=100, ax=ax[0, 0])\n",
    "sns.distplot(abstract_lens, bins=100, ax=ax[1, 0])\n",
    "\n",
    "sns.boxplot(text_lens, ax=ax[0, 1])\n",
    "sns.boxplot(abstract_lens, ax=ax[1, 1])\n",
    "\n",
    "ax[0, 0].set_title(\"text_lens\")\n",
    "ax[1, 0].set_title(\"abstract_lens\")\n",
    "\n",
    "ax[0, 0].set_xlim([0, 200])\n",
    "ax[0, 1].set_xlim([0, 50])"
   ],
   "outputs": [
    {
     "output_type": "stream",
     "name": "stderr",
     "text": [
      "/home/wenceslai/anaconda3/envs/ml/lib/python3.7/site-packages/seaborn/distributions.py:2557: FutureWarning: `distplot` is a deprecated function and will be removed in a future version. Please adapt your code to use either `displot` (a figure-level function with similar flexibility) or `histplot` (an axes-level function for histograms).\n",
      "  warnings.warn(msg, FutureWarning)\n",
      "/home/wenceslai/anaconda3/envs/ml/lib/python3.7/site-packages/matplotlib/cbook/__init__.py:1402: FutureWarning: Support for multi-dimensional indexing (e.g. `obj[:, None]`) is deprecated and will be removed in a future version.  Convert to a numpy array before indexing instead.\n",
      "  ndim = x[:, None].ndim\n",
      "/home/wenceslai/anaconda3/envs/ml/lib/python3.7/site-packages/matplotlib/axes/_base.py:276: FutureWarning: Support for multi-dimensional indexing (e.g. `obj[:, None]`) is deprecated and will be removed in a future version.  Convert to a numpy array before indexing instead.\n",
      "  x = x[:, np.newaxis]\n",
      "/home/wenceslai/anaconda3/envs/ml/lib/python3.7/site-packages/matplotlib/axes/_base.py:278: FutureWarning: Support for multi-dimensional indexing (e.g. `obj[:, None]`) is deprecated and will be removed in a future version.  Convert to a numpy array before indexing instead.\n",
      "  y = y[:, np.newaxis]\n",
      "/home/wenceslai/anaconda3/envs/ml/lib/python3.7/site-packages/seaborn/distributions.py:2557: FutureWarning: `distplot` is a deprecated function and will be removed in a future version. Please adapt your code to use either `displot` (a figure-level function with similar flexibility) or `histplot` (an axes-level function for histograms).\n",
      "  warnings.warn(msg, FutureWarning)\n",
      "/home/wenceslai/anaconda3/envs/ml/lib/python3.7/site-packages/matplotlib/cbook/__init__.py:1402: FutureWarning: Support for multi-dimensional indexing (e.g. `obj[:, None]`) is deprecated and will be removed in a future version.  Convert to a numpy array before indexing instead.\n",
      "  ndim = x[:, None].ndim\n",
      "/home/wenceslai/anaconda3/envs/ml/lib/python3.7/site-packages/matplotlib/axes/_base.py:276: FutureWarning: Support for multi-dimensional indexing (e.g. `obj[:, None]`) is deprecated and will be removed in a future version.  Convert to a numpy array before indexing instead.\n",
      "  x = x[:, np.newaxis]\n",
      "/home/wenceslai/anaconda3/envs/ml/lib/python3.7/site-packages/matplotlib/axes/_base.py:278: FutureWarning: Support for multi-dimensional indexing (e.g. `obj[:, None]`) is deprecated and will be removed in a future version.  Convert to a numpy array before indexing instead.\n",
      "  y = y[:, np.newaxis]\n",
      "/home/wenceslai/anaconda3/envs/ml/lib/python3.7/site-packages/seaborn/_decorators.py:43: FutureWarning: Pass the following variable as a keyword arg: x. From version 0.12, the only valid positional argument will be `data`, and passing other arguments without an explicit keyword will result in an error or misinterpretation.\n",
      "  FutureWarning\n",
      "/home/wenceslai/anaconda3/envs/ml/lib/python3.7/site-packages/seaborn/_decorators.py:43: FutureWarning: Pass the following variable as a keyword arg: x. From version 0.12, the only valid positional argument will be `data`, and passing other arguments without an explicit keyword will result in an error or misinterpretation.\n",
      "  FutureWarning\n"
     ]
    },
    {
     "output_type": "execute_result",
     "data": {
      "text/plain": [
       "(0, 50)"
      ]
     },
     "metadata": {},
     "execution_count": 20
    },
    {
     "output_type": "display_data",
     "data": {
      "text/plain": [
       "<Figure size 1224x576 with 4 Axes>"
      ],
      "image/png": "[encoded data removed]"
     },
     "metadata": {
      "needs_background": "light"
     }
    }
   ],
   "metadata": {}
  },
  {
   "cell_type": "code",
   "execution_count": 50,
   "source": [
    "print(f\"median text len: {text_lens[len(text_lens) // 2]}\")\n",
    "print(f\"median abstract len: {abstract_lens[len(abstract_lens) // 2]}\")"
   ],
   "outputs": [
    {
     "output_type": "stream",
     "name": "stdout",
     "text": [
      "median text len: 48\n",
      "median abstract len: 11\n"
     ]
    }
   ],
   "metadata": {}
  },
  {
   "cell_type": "code",
   "execution_count": null,
   "source": [
    "\"\"\" \n",
    "Ideas:\n",
    "try shorter input seq if attention over words is not enough\n",
    "add attention over sentences\n",
    "\n",
    "Notes:\n",
    "dimensions batch x examples x features\n",
    "\n",
    "change h_units, a_units\n",
    "try adding bilstm layers\n",
    "investigate why does first pass takes so long\n",
    "\"\"\""
   ],
   "outputs": [],
   "metadata": {}
  },
  {
   "cell_type": "code",
   "execution_count": 37,
   "source": [
    "Q1, Q2, Q3 = np.percentile(text_lens, [25, 50, 55])"
   ],
   "outputs": [],
   "metadata": {}
  },
  {
   "cell_type": "code",
   "execution_count": 33,
   "source": [
    "text_len_stats(abstract_lens, T=13)"
   ],
   "outputs": [
    {
     "output_type": "stream",
     "name": "stderr",
     "text": [
      "/home/wenceslai/anaconda3/envs/ml/lib/python3.7/site-packages/seaborn/_decorators.py:43: FutureWarning: Pass the following variable as a keyword arg: x. From version 0.12, the only valid positional argument will be `data`, and passing other arguments without an explicit keyword will result in an error or misinterpretation.\n",
      "  FutureWarning\n"
     ]
    },
    {
     "output_type": "stream",
     "name": "stdout",
     "text": [
      "5num summary:  2 7.0 10.0 12.0 26\n",
      "num of outlier:  18\n",
      "proportion of sentences that are longer than the cutoff\n",
      "delta > 1  0.08095676172953081\n",
      "delta < 5:  0.07895976843853075\n",
      "5 < delta < 10:  0.0009424013283371104\n",
      "10 < delta < 20:  2.2438126865169297e-05\n",
      "20 < delta < 40:  0.0\n",
      "40 < delta < 80:  0.0\n",
      "delta > 80:  0.0\n"
     ]
    },
    {
     "output_type": "display_data",
     "data": {
      "text/plain": [
       "<Figure size 3456x1152 with 3 Axes>"
      ],
      "image/png": "[encoded data removed]"
     },
     "metadata": {
      "needs_background": "light"
     }
    }
   ],
   "metadata": {}
  },
  {
   "cell_type": "code",
   "execution_count": 28,
   "source": [
    "text_len_stats(text_lens, T=60)"
   ],
   "outputs": [
    {
     "output_type": "stream",
     "name": "stderr",
     "text": [
      "/home/wenceslai/anaconda3/envs/ml/lib/python3.7/site-packages/seaborn/_decorators.py:43: FutureWarning: Pass the following variable as a keyword arg: x. From version 0.12, the only valid positional argument will be `data`, and passing other arguments without an explicit keyword will result in an error or misinterpretation.\n",
      "  FutureWarning\n"
     ]
    },
    {
     "output_type": "stream",
     "name": "stdout",
     "text": [
      "5num summary:  10 34.0 43.0 52.0 303\n",
      "num of outlier:  706\n",
      "proportion of sentences that are longer than the cutoff\n",
      "delta > 1  0.1026768685350147\n",
      "delta < 5:  0.03518298292458546\n",
      "5 < delta < 10:  0.020867457984607447\n",
      "10 < delta < 20:  0.020912334238337785\n",
      "20 < delta < 40:  0.010725424641550923\n",
      "40 < delta < 80:  0.0029393946193371776\n",
      "delta > 80:  0.0005609531716292324\n"
     ]
    },
    {
     "output_type": "display_data",
     "data": {
      "text/plain": [
       "<Figure size 3456x1152 with 3 Axes>"
      ],
      "image/png": "[encoded data removed]"
     },
     "metadata": {
      "needs_background": "light"
     }
    }
   ],
   "metadata": {}
  },
  {
   "cell_type": "code",
   "execution_count": 33,
   "source": [
    "fig, ax = plt.subplots(1, 2, figsize=(14,4))\n",
    "sns.distplot(oov_cnts, ax=ax[0])\n",
    "sns.boxplot(oov_cnts, ax=ax[1])\n",
    "print(\"5num summary: \", np.min(oov_cnts), np.percentile(oov_cnts, [25, 50, 55]), np.max(oov_cnts))"
   ],
   "outputs": [
    {
     "output_type": "stream",
     "name": "stdout",
     "text": [
      "5num summary:  0 [15. 23. 24.] 50\n"
     ]
    },
    {
     "output_type": "display_data",
     "data": {
      "text/plain": [
       "<Figure size 1008x288 with 2 Axes>"
      ],
      "image/png": "[encoded data removed]",
      "image/svg+xml": "<?xml version=\"1.0\" encoding=\"utf-8\" standalone=\"no\"?>\n<!DOCTYPE svg PUBLIC \"-//W3C//DTD SVG 1.1//EN\"\n  \"http://www.w3.org/Graphics/SVG/1.1/DTD/svg11.dtd\">\n<!-- Created with matplotlib (https://matplotlib.org/) -->\n<svg height=\"249.438364pt\" version=\"1.1\" viewBox=\"0 0 838.54375 249.438364\" width=\"838.54375pt\" xmlns=\"http://www.w3.org/2000/svg\" xmlns:xlink=\"http://www.w3.org/1999/xlink\">\n <metadata>\n  <rdf:RDF xmlns:cc=\"http://creativecommons.org/ns#\" xmlns:dc=\"http://purl.org/dc/elements/1.1/\" xmlns:rdf=\"http://www.w3.org/1999/02/22-rdf-syntax-ns#\">\n   <cc:Work>\n    <dc:type rdf:resource=\"http://purl.org/dc/dcmitype/StillImage\"/>\n    <dc:date>2021-02-16T15:01:03.924166</dc:date>\n    <dc:format>image/svg+xml</dc:format>\n    <dc:creator>\n     <cc:Agent>\n      <dc:title>Matplotlib v3.3.3, https://matplotlib.org/</dc:title>\n     </cc:Agent>\n    </dc:creator>\n   </cc:Work>\n  </rdf:RDF>\n </metadata>\n <defs>\n  <style type=\"text/css\">*{stroke-linecap:butt;stroke-linejoin:round;}</style>\n </defs>\n <g id=\"figure_1\">\n  <g id=\"patch_1\">\n   <path d=\"M 0 249.438364 \nL 838.54375 249.438364 \nL 838.54375 0 \nL 0 0 \nz\n\" style=\"fill:none;\"/>\n  </g>\n  <g id=\"axes_1\">\n   <g id=\"patch_2\">\n    <path d=\"M 50.14375 225.560239 \nL 405.234659 225.560239 \nL 405.234659 8.120239 \nL 50.14375 8.120239 \nz\n\" style=\"fill:#ffffff;\"/>\n   </g>\n   <g id=\"patch_3\">\n    <path clip-path=\"url(#pb5f343a7c4)\" d=\"M 89.778153 225.560239 \nL 95.294595 225.560239 \nL 95.294595 225.35391 \nL 89.778153 225.35391 \nz\n\" style=\"fill:#1f77b4;opacity:0.4;\"/>\n   </g>\n   <g id=\"patch_4\">\n    <path clip-path=\"url(#pb5f343a7c4)\" d=\"M 95.294595 225.560239 \nL 100.811037 225.560239 \nL 100.811037 224.459817 \nL 95.294595 224.459817 \nz\n\" style=\"fill:#1f77b4;opacity:0.4;\"/>\n   </g>\n   <g id=\"patch_5\">\n    <path clip-path=\"url(#pb5f343a7c4)\" d=\"M 100.811037 225.560239 \nL 106.327479 225.560239 \nL 106.327479 221.708761 \nL 100.811037 221.708761 \nz\n\" style=\"fill:#1f77b4;opacity:0.4;\"/>\n   </g>\n   <g id=\"patch_6\">\n    <path clip-path=\"url(#pb5f343a7c4)\" d=\"M 106.327479 225.560239 \nL 111.843921 225.560239 \nL 111.843921 218.269942 \nL 106.327479 218.269942 \nz\n\" style=\"fill:#1f77b4;opacity:0.4;\"/>\n   </g>\n   <g id=\"patch_7\">\n    <path clip-path=\"url(#pb5f343a7c4)\" d=\"M 111.843921 225.560239 \nL 117.360363 225.560239 \nL 117.360363 213.318041 \nL 111.843921 213.318041 \nz\n\" style=\"fill:#1f77b4;opacity:0.4;\"/>\n   </g>\n   <g id=\"patch_8\">\n    <path clip-path=\"url(#pb5f343a7c4)\" d=\"M 117.360363 225.560239 \nL 122.876805 225.560239 \nL 122.876805 202.588924 \nL 117.360363 202.588924 \nz\n\" style=\"fill:#1f77b4;opacity:0.4;\"/>\n   </g>\n   <g id=\"patch_9\">\n    <path clip-path=\"url(#pb5f343a7c4)\" d=\"M 122.876805 225.560239 \nL 128.393247 225.560239 \nL 128.393247 194.335757 \nL 122.876805 194.335757 \nz\n\" style=\"fill:#1f77b4;opacity:0.4;\"/>\n   </g>\n   <g id=\"patch_10\">\n    <path clip-path=\"url(#pb5f343a7c4)\" d=\"M 128.393247 225.560239 \nL 133.909689 225.560239 \nL 133.909689 185.669932 \nL 128.393247 185.669932 \nz\n\" style=\"fill:#1f77b4;opacity:0.4;\"/>\n   </g>\n   <g id=\"patch_11\">\n    <path clip-path=\"url(#pb5f343a7c4)\" d=\"M 133.909689 225.560239 \nL 139.426131 225.560239 \nL 139.426131 172.464865 \nL 133.909689 172.464865 \nz\n\" style=\"fill:#1f77b4;opacity:0.4;\"/>\n   </g>\n   <g id=\"patch_12\">\n    <path clip-path=\"url(#pb5f343a7c4)\" d=\"M 139.426131 225.560239 \nL 144.942573 225.560239 \nL 144.942573 165.174567 \nL 139.426131 165.174567 \nz\n\" style=\"fill:#1f77b4;opacity:0.4;\"/>\n   </g>\n   <g id=\"patch_13\">\n    <path clip-path=\"url(#pb5f343a7c4)\" d=\"M 144.942573 225.560239 \nL 150.459016 225.560239 \nL 150.459016 158.296928 \nL 144.942573 158.296928 \nz\n\" style=\"fill:#1f77b4;opacity:0.4;\"/>\n   </g>\n   <g id=\"patch_14\">\n    <path clip-path=\"url(#pb5f343a7c4)\" d=\"M 150.459016 225.560239 \nL 155.975458 225.560239 \nL 155.975458 143.78511 \nL 150.459016 143.78511 \nz\n\" style=\"fill:#1f77b4;opacity:0.4;\"/>\n   </g>\n   <g id=\"patch_15\">\n    <path clip-path=\"url(#pb5f343a7c4)\" d=\"M 155.975458 225.560239 \nL 161.4919 225.560239 \nL 161.4919 134.500297 \nL 155.975458 134.500297 \nz\n\" style=\"fill:#1f77b4;opacity:0.4;\"/>\n   </g>\n   <g id=\"patch_16\">\n    <path clip-path=\"url(#pb5f343a7c4)\" d=\"M 161.4919 225.560239 \nL 167.008342 225.560239 \nL 167.008342 131.680465 \nL 161.4919 131.680465 \nz\n\" style=\"fill:#1f77b4;opacity:0.4;\"/>\n   </g>\n   <g id=\"patch_17\">\n    <path clip-path=\"url(#pb5f343a7c4)\" d=\"M 167.008342 225.560239 \nL 172.524784 225.560239 \nL 172.524784 125.765695 \nL 167.008342 125.765695 \nz\n\" style=\"fill:#1f77b4;opacity:0.4;\"/>\n   </g>\n   <g id=\"patch_18\">\n    <path clip-path=\"url(#pb5f343a7c4)\" d=\"M 172.524784 225.560239 \nL 178.041226 225.560239 \nL 178.041226 122.533205 \nL 172.524784 122.533205 \nz\n\" style=\"fill:#1f77b4;opacity:0.4;\"/>\n   </g>\n   <g id=\"patch_19\">\n    <path clip-path=\"url(#pb5f343a7c4)\" d=\"M 178.041226 225.560239 \nL 183.557668 225.560239 \nL 183.557668 119.782149 \nL 178.041226 119.782149 \nz\n\" style=\"fill:#1f77b4;opacity:0.4;\"/>\n   </g>\n   <g id=\"patch_20\">\n    <path clip-path=\"url(#pb5f343a7c4)\" d=\"M 183.557668 225.560239 \nL 189.07411 225.560239 \nL 189.07411 124.390167 \nL 183.557668 124.390167 \nz\n\" style=\"fill:#1f77b4;opacity:0.4;\"/>\n   </g>\n   <g id=\"patch_21\">\n    <path clip-path=\"url(#pb5f343a7c4)\" d=\"M 189.07411 225.560239 \nL 194.590552 225.560239 \nL 194.590552 116.893541 \nL 189.07411 116.893541 \nz\n\" style=\"fill:#1f77b4;opacity:0.4;\"/>\n   </g>\n   <g id=\"patch_22\">\n    <path clip-path=\"url(#pb5f343a7c4)\" d=\"M 194.590552 225.560239 \nL 200.106994 225.560239 \nL 200.106994 120.607466 \nL 194.590552 120.607466 \nz\n\" style=\"fill:#1f77b4;opacity:0.4;\"/>\n   </g>\n   <g id=\"patch_23\">\n    <path clip-path=\"url(#pb5f343a7c4)\" d=\"M 200.106994 225.560239 \nL 205.623436 225.560239 \nL 205.623436 119.919702 \nL 200.106994 119.919702 \nz\n\" style=\"fill:#1f77b4;opacity:0.4;\"/>\n   </g>\n   <g id=\"patch_24\">\n    <path clip-path=\"url(#pb5f343a7c4)\" d=\"M 205.623436 225.560239 \nL 211.139878 225.560239 \nL 211.139878 120.401137 \nL 205.623436 120.401137 \nz\n\" style=\"fill:#1f77b4;opacity:0.4;\"/>\n   </g>\n   <g id=\"patch_25\">\n    <path clip-path=\"url(#pb5f343a7c4)\" d=\"M 211.139878 225.560239 \nL 216.65632 225.560239 \nL 216.65632 118.062739 \nL 211.139878 118.062739 \nz\n\" style=\"fill:#1f77b4;opacity:0.4;\"/>\n   </g>\n   <g id=\"patch_26\">\n    <path clip-path=\"url(#pb5f343a7c4)\" d=\"M 216.65632 225.560239 \nL 222.172762 225.560239 \nL 222.172762 129.617173 \nL 216.65632 129.617173 \nz\n\" style=\"fill:#1f77b4;opacity:0.4;\"/>\n   </g>\n   <g id=\"patch_27\">\n    <path clip-path=\"url(#pb5f343a7c4)\" d=\"M 222.172762 225.560239 \nL 227.689205 225.560239 \nL 227.689205 129.754726 \nL 222.172762 129.754726 \nz\n\" style=\"fill:#1f77b4;opacity:0.4;\"/>\n   </g>\n   <g id=\"patch_28\">\n    <path clip-path=\"url(#pb5f343a7c4)\" d=\"M 227.689205 225.560239 \nL 233.205647 225.560239 \nL 233.205647 135.325614 \nL 227.689205 135.325614 \nz\n\" style=\"fill:#1f77b4;opacity:0.4;\"/>\n   </g>\n   <g id=\"patch_29\">\n    <path clip-path=\"url(#pb5f343a7c4)\" d=\"M 233.205647 225.560239 \nL 238.722089 225.560239 \nL 238.722089 137.664011 \nL 233.205647 137.664011 \nz\n\" style=\"fill:#1f77b4;opacity:0.4;\"/>\n   </g>\n   <g id=\"patch_30\">\n    <path clip-path=\"url(#pb5f343a7c4)\" d=\"M 238.722089 225.560239 \nL 244.238531 225.560239 \nL 244.238531 144.54165 \nL 238.722089 144.54165 \nz\n\" style=\"fill:#1f77b4;opacity:0.4;\"/>\n   </g>\n   <g id=\"patch_31\">\n    <path clip-path=\"url(#pb5f343a7c4)\" d=\"M 244.238531 225.560239 \nL 249.754973 225.560239 \nL 249.754973 148.73701 \nL 244.238531 148.73701 \nz\n\" style=\"fill:#1f77b4;opacity:0.4;\"/>\n   </g>\n   <g id=\"patch_32\">\n    <path clip-path=\"url(#pb5f343a7c4)\" d=\"M 249.754973 225.560239 \nL 255.271415 225.560239 \nL 255.271415 156.439966 \nL 249.754973 156.439966 \nz\n\" style=\"fill:#1f77b4;opacity:0.4;\"/>\n   </g>\n   <g id=\"patch_33\">\n    <path clip-path=\"url(#pb5f343a7c4)\" d=\"M 255.271415 225.560239 \nL 260.787857 225.560239 \nL 260.787857 157.609164 \nL 255.271415 157.609164 \nz\n\" style=\"fill:#1f77b4;opacity:0.4;\"/>\n   </g>\n   <g id=\"patch_34\">\n    <path clip-path=\"url(#pb5f343a7c4)\" d=\"M 260.787857 225.560239 \nL 266.304299 225.560239 \nL 266.304299 159.466127 \nL 260.787857 159.466127 \nz\n\" style=\"fill:#1f77b4;opacity:0.4;\"/>\n   </g>\n   <g id=\"patch_35\">\n    <path clip-path=\"url(#pb5f343a7c4)\" d=\"M 266.304299 225.560239 \nL 271.820741 225.560239 \nL 271.820741 167.719294 \nL 266.304299 167.719294 \nz\n\" style=\"fill:#1f77b4;opacity:0.4;\"/>\n   </g>\n   <g id=\"patch_36\">\n    <path clip-path=\"url(#pb5f343a7c4)\" d=\"M 271.820741 225.560239 \nL 277.337183 225.560239 \nL 277.337183 170.26402 \nL 271.820741 170.26402 \nz\n\" style=\"fill:#1f77b4;opacity:0.4;\"/>\n   </g>\n   <g id=\"patch_37\">\n    <path clip-path=\"url(#pb5f343a7c4)\" d=\"M 277.337183 225.560239 \nL 282.853625 225.560239 \nL 282.853625 175.697355 \nL 277.337183 175.697355 \nz\n\" style=\"fill:#1f77b4;opacity:0.4;\"/>\n   </g>\n   <g id=\"patch_38\">\n    <path clip-path=\"url(#pb5f343a7c4)\" d=\"M 282.853625 225.560239 \nL 288.370067 225.560239 \nL 288.370067 174.734486 \nL 282.853625 174.734486 \nz\n\" style=\"fill:#1f77b4;opacity:0.4;\"/>\n   </g>\n   <g id=\"patch_39\">\n    <path clip-path=\"url(#pb5f343a7c4)\" d=\"M 288.370067 225.560239 \nL 293.886509 225.560239 \nL 293.886509 180.993137 \nL 288.370067 180.993137 \nz\n\" style=\"fill:#1f77b4;opacity:0.4;\"/>\n   </g>\n   <g id=\"patch_40\">\n    <path clip-path=\"url(#pb5f343a7c4)\" d=\"M 293.886509 225.560239 \nL 299.402951 225.560239 \nL 299.402951 178.929846 \nL 293.886509 178.929846 \nz\n\" style=\"fill:#1f77b4;opacity:0.4;\"/>\n   </g>\n   <g id=\"patch_41\">\n    <path clip-path=\"url(#pb5f343a7c4)\" d=\"M 299.402951 225.560239 \nL 304.919394 225.560239 \nL 304.919394 184.775839 \nL 299.402951 184.775839 \nz\n\" style=\"fill:#1f77b4;opacity:0.4;\"/>\n   </g>\n   <g id=\"patch_42\">\n    <path clip-path=\"url(#pb5f343a7c4)\" d=\"M 304.919394 225.560239 \nL 310.435836 225.560239 \nL 310.435836 189.590186 \nL 304.919394 189.590186 \nz\n\" style=\"fill:#1f77b4;opacity:0.4;\"/>\n   </g>\n   <g id=\"patch_43\">\n    <path clip-path=\"url(#pb5f343a7c4)\" d=\"M 310.435836 225.560239 \nL 315.952278 225.560239 \nL 315.952278 190.965714 \nL 310.435836 190.965714 \nz\n\" style=\"fill:#1f77b4;opacity:0.4;\"/>\n   </g>\n   <g id=\"patch_44\">\n    <path clip-path=\"url(#pb5f343a7c4)\" d=\"M 315.952278 225.560239 \nL 321.46872 225.560239 \nL 321.46872 192.891453 \nL 315.952278 192.891453 \nz\n\" style=\"fill:#1f77b4;opacity:0.4;\"/>\n   </g>\n   <g id=\"patch_45\">\n    <path clip-path=\"url(#pb5f343a7c4)\" d=\"M 321.46872 225.560239 \nL 326.985162 225.560239 \nL 326.985162 194.885968 \nL 321.46872 194.885968 \nz\n\" style=\"fill:#1f77b4;opacity:0.4;\"/>\n   </g>\n   <g id=\"patch_46\">\n    <path clip-path=\"url(#pb5f343a7c4)\" d=\"M 326.985162 225.560239 \nL 332.501604 225.560239 \nL 332.501604 195.642509 \nL 326.985162 195.642509 \nz\n\" style=\"fill:#1f77b4;opacity:0.4;\"/>\n   </g>\n   <g id=\"patch_47\">\n    <path clip-path=\"url(#pb5f343a7c4)\" d=\"M 332.501604 225.560239 \nL 338.018046 225.560239 \nL 338.018046 200.38808 \nL 332.501604 200.38808 \nz\n\" style=\"fill:#1f77b4;opacity:0.4;\"/>\n   </g>\n   <g id=\"patch_48\">\n    <path clip-path=\"url(#pb5f343a7c4)\" d=\"M 338.018046 225.560239 \nL 343.534488 225.560239 \nL 343.534488 200.38808 \nL 338.018046 200.38808 \nz\n\" style=\"fill:#1f77b4;opacity:0.4;\"/>\n   </g>\n   <g id=\"patch_49\">\n    <path clip-path=\"url(#pb5f343a7c4)\" d=\"M 343.534488 225.560239 \nL 349.05093 225.560239 \nL 349.05093 204.445887 \nL 343.534488 204.445887 \nz\n\" style=\"fill:#1f77b4;opacity:0.4;\"/>\n   </g>\n   <g id=\"patch_50\">\n    <path clip-path=\"url(#pb5f343a7c4)\" d=\"M 349.05093 225.560239 \nL 354.567372 225.560239 \nL 354.567372 205.477533 \nL 349.05093 205.477533 \nz\n\" style=\"fill:#1f77b4;opacity:0.4;\"/>\n   </g>\n   <g id=\"patch_51\">\n    <path clip-path=\"url(#pb5f343a7c4)\" d=\"M 354.567372 225.560239 \nL 360.083814 225.560239 \nL 360.083814 207.472048 \nL 354.567372 207.472048 \nz\n\" style=\"fill:#1f77b4;opacity:0.4;\"/>\n   </g>\n   <g id=\"patch_52\">\n    <path clip-path=\"url(#pb5f343a7c4)\" d=\"M 360.083814 225.560239 \nL 365.600256 225.560239 \nL 365.600256 18.474525 \nL 360.083814 18.474525 \nz\n\" style=\"fill:#1f77b4;opacity:0.4;\"/>\n   </g>\n   <g id=\"matplotlib.axis_1\">\n    <g id=\"xtick_1\">\n     <g id=\"line2d_1\">\n      <defs>\n       <path d=\"M 0 0 \nL 0 3.5 \n\" id=\"mfb23ccec81\" style=\"stroke:#000000;stroke-width:0.8;\"/>\n      </defs>\n      <g>\n       <use style=\"stroke:#000000;stroke-width:0.8;\" x=\"89.778153\" xlink:href=\"#mfb23ccec81\" y=\"225.560239\"/>\n      </g>\n     </g>\n     <g id=\"text_1\">\n      <!-- 0 -->\n      <g transform=\"translate(86.596903 240.158677)scale(0.1 -0.1)\">\n       <defs>\n        <path d=\"M 31.78125 66.40625 \nQ 24.171875 66.40625 20.328125 58.90625 \nQ 16.5 51.421875 16.5 36.375 \nQ 16.5 21.390625 20.328125 13.890625 \nQ 24.171875 6.390625 31.78125 6.390625 \nQ 39.453125 6.390625 43.28125 13.890625 \nQ 47.125 21.390625 47.125 36.375 \nQ 47.125 51.421875 43.28125 58.90625 \nQ 39.453125 66.40625 31.78125 66.40625 \nz\nM 31.78125 74.21875 \nQ 44.046875 74.21875 50.515625 64.515625 \nQ 56.984375 54.828125 56.984375 36.375 \nQ 56.984375 17.96875 50.515625 8.265625 \nQ 44.046875 -1.421875 31.78125 -1.421875 \nQ 19.53125 -1.421875 13.0625 8.265625 \nQ 6.59375 17.96875 6.59375 36.375 \nQ 6.59375 54.828125 13.0625 64.515625 \nQ 19.53125 74.21875 31.78125 74.21875 \nz\n\" id=\"DejaVuSans-48\"/>\n       </defs>\n       <use xlink:href=\"#DejaVuSans-48\"/>\n      </g>\n     </g>\n    </g>\n    <g id=\"xtick_2\">\n     <g id=\"line2d_2\">\n      <g>\n       <use style=\"stroke:#000000;stroke-width:0.8;\" x=\"144.942573\" xlink:href=\"#mfb23ccec81\" y=\"225.560239\"/>\n      </g>\n     </g>\n     <g id=\"text_2\">\n      <!-- 10 -->\n      <g transform=\"translate(138.580073 240.158677)scale(0.1 -0.1)\">\n       <defs>\n        <path d=\"M 12.40625 8.296875 \nL 28.515625 8.296875 \nL 28.515625 63.921875 \nL 10.984375 60.40625 \nL 10.984375 69.390625 \nL 28.421875 72.90625 \nL 38.28125 72.90625 \nL 38.28125 8.296875 \nL 54.390625 8.296875 \nL 54.390625 0 \nL 12.40625 0 \nz\n\" id=\"DejaVuSans-49\"/>\n       </defs>\n       <use xlink:href=\"#DejaVuSans-49\"/>\n       <use x=\"63.623047\" xlink:href=\"#DejaVuSans-48\"/>\n      </g>\n     </g>\n    </g>\n    <g id=\"xtick_3\">\n     <g id=\"line2d_3\">\n      <g>\n       <use style=\"stroke:#000000;stroke-width:0.8;\" x=\"200.106994\" xlink:href=\"#mfb23ccec81\" y=\"225.560239\"/>\n      </g>\n     </g>\n     <g id=\"text_3\">\n      <!-- 20 -->\n      <g transform=\"translate(193.744494 240.158677)scale(0.1 -0.1)\">\n       <defs>\n        <path d=\"M 19.1875 8.296875 \nL 53.609375 8.296875 \nL 53.609375 0 \nL 7.328125 0 \nL 7.328125 8.296875 \nQ 12.9375 14.109375 22.625 23.890625 \nQ 32.328125 33.6875 34.8125 36.53125 \nQ 39.546875 41.84375 41.421875 45.53125 \nQ 43.3125 49.21875 43.3125 52.78125 \nQ 43.3125 58.59375 39.234375 62.25 \nQ 35.15625 65.921875 28.609375 65.921875 \nQ 23.96875 65.921875 18.8125 64.3125 \nQ 13.671875 62.703125 7.8125 59.421875 \nL 7.8125 69.390625 \nQ 13.765625 71.78125 18.9375 73 \nQ 24.125 74.21875 28.421875 74.21875 \nQ 39.75 74.21875 46.484375 68.546875 \nQ 53.21875 62.890625 53.21875 53.421875 \nQ 53.21875 48.921875 51.53125 44.890625 \nQ 49.859375 40.875 45.40625 35.40625 \nQ 44.1875 33.984375 37.640625 27.21875 \nQ 31.109375 20.453125 19.1875 8.296875 \nz\n\" id=\"DejaVuSans-50\"/>\n       </defs>\n       <use xlink:href=\"#DejaVuSans-50\"/>\n       <use x=\"63.623047\" xlink:href=\"#DejaVuSans-48\"/>\n      </g>\n     </g>\n    </g>\n    <g id=\"xtick_4\">\n     <g id=\"line2d_4\">\n      <g>\n       <use style=\"stroke:#000000;stroke-width:0.8;\" x=\"255.271415\" xlink:href=\"#mfb23ccec81\" y=\"225.560239\"/>\n      </g>\n     </g>\n     <g id=\"text_4\">\n      <!-- 30 -->\n      <g transform=\"translate(248.908915 240.158677)scale(0.1 -0.1)\">\n       <defs>\n        <path d=\"M 40.578125 39.3125 \nQ 47.65625 37.796875 51.625 33 \nQ 55.609375 28.21875 55.609375 21.1875 \nQ 55.609375 10.40625 48.1875 4.484375 \nQ 40.765625 -1.421875 27.09375 -1.421875 \nQ 22.515625 -1.421875 17.65625 -0.515625 \nQ 12.796875 0.390625 7.625 2.203125 \nL 7.625 11.71875 \nQ 11.71875 9.328125 16.59375 8.109375 \nQ 21.484375 6.890625 26.8125 6.890625 \nQ 36.078125 6.890625 40.9375 10.546875 \nQ 45.796875 14.203125 45.796875 21.1875 \nQ 45.796875 27.640625 41.28125 31.265625 \nQ 36.765625 34.90625 28.71875 34.90625 \nL 20.21875 34.90625 \nL 20.21875 43.015625 \nL 29.109375 43.015625 \nQ 36.375 43.015625 40.234375 45.921875 \nQ 44.09375 48.828125 44.09375 54.296875 \nQ 44.09375 59.90625 40.109375 62.90625 \nQ 36.140625 65.921875 28.71875 65.921875 \nQ 24.65625 65.921875 20.015625 65.03125 \nQ 15.375 64.15625 9.8125 62.3125 \nL 9.8125 71.09375 \nQ 15.4375 72.65625 20.34375 73.4375 \nQ 25.25 74.21875 29.59375 74.21875 \nQ 40.828125 74.21875 47.359375 69.109375 \nQ 53.90625 64.015625 53.90625 55.328125 \nQ 53.90625 49.265625 50.4375 45.09375 \nQ 46.96875 40.921875 40.578125 39.3125 \nz\n\" id=\"DejaVuSans-51\"/>\n       </defs>\n       <use xlink:href=\"#DejaVuSans-51\"/>\n       <use x=\"63.623047\" xlink:href=\"#DejaVuSans-48\"/>\n      </g>\n     </g>\n    </g>\n    <g id=\"xtick_5\">\n     <g id=\"line2d_5\">\n      <g>\n       <use style=\"stroke:#000000;stroke-width:0.8;\" x=\"310.435836\" xlink:href=\"#mfb23ccec81\" y=\"225.560239\"/>\n      </g>\n     </g>\n     <g id=\"text_5\">\n      <!-- 40 -->\n      <g transform=\"translate(304.073336 240.158677)scale(0.1 -0.1)\">\n       <defs>\n        <path d=\"M 37.796875 64.3125 \nL 12.890625 25.390625 \nL 37.796875 25.390625 \nz\nM 35.203125 72.90625 \nL 47.609375 72.90625 \nL 47.609375 25.390625 \nL 58.015625 25.390625 \nL 58.015625 17.1875 \nL 47.609375 17.1875 \nL 47.609375 0 \nL 37.796875 0 \nL 37.796875 17.1875 \nL 4.890625 17.1875 \nL 4.890625 26.703125 \nz\n\" id=\"DejaVuSans-52\"/>\n       </defs>\n       <use xlink:href=\"#DejaVuSans-52\"/>\n       <use x=\"63.623047\" xlink:href=\"#DejaVuSans-48\"/>\n      </g>\n     </g>\n    </g>\n    <g id=\"xtick_6\">\n     <g id=\"line2d_6\">\n      <g>\n       <use style=\"stroke:#000000;stroke-width:0.8;\" x=\"365.600256\" xlink:href=\"#mfb23ccec81\" y=\"225.560239\"/>\n      </g>\n     </g>\n     <g id=\"text_6\">\n      <!-- 50 -->\n      <g transform=\"translate(359.237756 240.158677)scale(0.1 -0.1)\">\n       <defs>\n        <path d=\"M 10.796875 72.90625 \nL 49.515625 72.90625 \nL 49.515625 64.59375 \nL 19.828125 64.59375 \nL 19.828125 46.734375 \nQ 21.96875 47.46875 24.109375 47.828125 \nQ 26.265625 48.1875 28.421875 48.1875 \nQ 40.625 48.1875 47.75 41.5 \nQ 54.890625 34.8125 54.890625 23.390625 \nQ 54.890625 11.625 47.5625 5.09375 \nQ 40.234375 -1.421875 26.90625 -1.421875 \nQ 22.3125 -1.421875 17.546875 -0.640625 \nQ 12.796875 0.140625 7.71875 1.703125 \nL 7.71875 11.625 \nQ 12.109375 9.234375 16.796875 8.0625 \nQ 21.484375 6.890625 26.703125 6.890625 \nQ 35.15625 6.890625 40.078125 11.328125 \nQ 45.015625 15.765625 45.015625 23.390625 \nQ 45.015625 31 40.078125 35.4375 \nQ 35.15625 39.890625 26.703125 39.890625 \nQ 22.75 39.890625 18.8125 39.015625 \nQ 14.890625 38.140625 10.796875 36.28125 \nz\n\" id=\"DejaVuSans-53\"/>\n       </defs>\n       <use xlink:href=\"#DejaVuSans-53\"/>\n       <use x=\"63.623047\" xlink:href=\"#DejaVuSans-48\"/>\n      </g>\n     </g>\n    </g>\n   </g>\n   <g id=\"matplotlib.axis_2\">\n    <g id=\"ytick_1\">\n     <g id=\"line2d_7\">\n      <defs>\n       <path d=\"M 0 0 \nL -3.5 0 \n\" id=\"m85f0139eeb\" style=\"stroke:#000000;stroke-width:0.8;\"/>\n      </defs>\n      <g>\n       <use style=\"stroke:#000000;stroke-width:0.8;\" x=\"50.14375\" xlink:href=\"#m85f0139eeb\" y=\"225.560239\"/>\n      </g>\n     </g>\n     <g id=\"text_7\">\n      <!-- 0.00 -->\n      <g transform=\"translate(20.878125 229.359458)scale(0.1 -0.1)\">\n       <defs>\n        <path d=\"M 10.6875 12.40625 \nL 21 12.40625 \nL 21 0 \nL 10.6875 0 \nz\n\" id=\"DejaVuSans-46\"/>\n       </defs>\n       <use xlink:href=\"#DejaVuSans-48\"/>\n       <use x=\"63.623047\" xlink:href=\"#DejaVuSans-46\"/>\n       <use x=\"95.410156\" xlink:href=\"#DejaVuSans-48\"/>\n       <use x=\"159.033203\" xlink:href=\"#DejaVuSans-48\"/>\n      </g>\n     </g>\n    </g>\n    <g id=\"ytick_2\">\n     <g id=\"line2d_8\">\n      <g>\n       <use style=\"stroke:#000000;stroke-width:0.8;\" x=\"50.14375\" xlink:href=\"#m85f0139eeb\" y=\"194.908665\"/>\n      </g>\n     </g>\n     <g id=\"text_8\">\n      <!-- 0.01 -->\n      <g transform=\"translate(20.878125 198.707883)scale(0.1 -0.1)\">\n       <use xlink:href=\"#DejaVuSans-48\"/>\n       <use x=\"63.623047\" xlink:href=\"#DejaVuSans-46\"/>\n       <use x=\"95.410156\" xlink:href=\"#DejaVuSans-48\"/>\n       <use x=\"159.033203\" xlink:href=\"#DejaVuSans-49\"/>\n      </g>\n     </g>\n    </g>\n    <g id=\"ytick_3\">\n     <g id=\"line2d_9\">\n      <g>\n       <use style=\"stroke:#000000;stroke-width:0.8;\" x=\"50.14375\" xlink:href=\"#m85f0139eeb\" y=\"164.25709\"/>\n      </g>\n     </g>\n     <g id=\"text_9\">\n      <!-- 0.02 -->\n      <g transform=\"translate(20.878125 168.056309)scale(0.1 -0.1)\">\n       <use xlink:href=\"#DejaVuSans-48\"/>\n       <use x=\"63.623047\" xlink:href=\"#DejaVuSans-46\"/>\n       <use x=\"95.410156\" xlink:href=\"#DejaVuSans-48\"/>\n       <use x=\"159.033203\" xlink:href=\"#DejaVuSans-50\"/>\n      </g>\n     </g>\n    </g>\n    <g id=\"ytick_4\">\n     <g id=\"line2d_10\">\n      <g>\n       <use style=\"stroke:#000000;stroke-width:0.8;\" x=\"50.14375\" xlink:href=\"#m85f0139eeb\" y=\"133.605516\"/>\n      </g>\n     </g>\n     <g id=\"text_10\">\n      <!-- 0.03 -->\n      <g transform=\"translate(20.878125 137.404735)scale(0.1 -0.1)\">\n       <use xlink:href=\"#DejaVuSans-48\"/>\n       <use x=\"63.623047\" xlink:href=\"#DejaVuSans-46\"/>\n       <use x=\"95.410156\" xlink:href=\"#DejaVuSans-48\"/>\n       <use x=\"159.033203\" xlink:href=\"#DejaVuSans-51\"/>\n      </g>\n     </g>\n    </g>\n    <g id=\"ytick_5\">\n     <g id=\"line2d_11\">\n      <g>\n       <use style=\"stroke:#000000;stroke-width:0.8;\" x=\"50.14375\" xlink:href=\"#m85f0139eeb\" y=\"102.953942\"/>\n      </g>\n     </g>\n     <g id=\"text_11\">\n      <!-- 0.04 -->\n      <g transform=\"translate(20.878125 106.75316)scale(0.1 -0.1)\">\n       <use xlink:href=\"#DejaVuSans-48\"/>\n       <use x=\"63.623047\" xlink:href=\"#DejaVuSans-46\"/>\n       <use x=\"95.410156\" xlink:href=\"#DejaVuSans-48\"/>\n       <use x=\"159.033203\" xlink:href=\"#DejaVuSans-52\"/>\n      </g>\n     </g>\n    </g>\n    <g id=\"ytick_6\">\n     <g id=\"line2d_12\">\n      <g>\n       <use style=\"stroke:#000000;stroke-width:0.8;\" x=\"50.14375\" xlink:href=\"#m85f0139eeb\" y=\"72.302367\"/>\n      </g>\n     </g>\n     <g id=\"text_12\">\n      <!-- 0.05 -->\n      <g transform=\"translate(20.878125 76.101586)scale(0.1 -0.1)\">\n       <use xlink:href=\"#DejaVuSans-48\"/>\n       <use x=\"63.623047\" xlink:href=\"#DejaVuSans-46\"/>\n       <use x=\"95.410156\" xlink:href=\"#DejaVuSans-48\"/>\n       <use x=\"159.033203\" xlink:href=\"#DejaVuSans-53\"/>\n      </g>\n     </g>\n    </g>\n    <g id=\"ytick_7\">\n     <g id=\"line2d_13\">\n      <g>\n       <use style=\"stroke:#000000;stroke-width:0.8;\" x=\"50.14375\" xlink:href=\"#m85f0139eeb\" y=\"41.650793\"/>\n      </g>\n     </g>\n     <g id=\"text_13\">\n      <!-- 0.06 -->\n      <g transform=\"translate(20.878125 45.450012)scale(0.1 -0.1)\">\n       <defs>\n        <path d=\"M 33.015625 40.375 \nQ 26.375 40.375 22.484375 35.828125 \nQ 18.609375 31.296875 18.609375 23.390625 \nQ 18.609375 15.53125 22.484375 10.953125 \nQ 26.375 6.390625 33.015625 6.390625 \nQ 39.65625 6.390625 43.53125 10.953125 \nQ 47.40625 15.53125 47.40625 23.390625 \nQ 47.40625 31.296875 43.53125 35.828125 \nQ 39.65625 40.375 33.015625 40.375 \nz\nM 52.59375 71.296875 \nL 52.59375 62.3125 \nQ 48.875 64.0625 45.09375 64.984375 \nQ 41.3125 65.921875 37.59375 65.921875 \nQ 27.828125 65.921875 22.671875 59.328125 \nQ 17.53125 52.734375 16.796875 39.40625 \nQ 19.671875 43.65625 24.015625 45.921875 \nQ 28.375 48.1875 33.59375 48.1875 \nQ 44.578125 48.1875 50.953125 41.515625 \nQ 57.328125 34.859375 57.328125 23.390625 \nQ 57.328125 12.15625 50.6875 5.359375 \nQ 44.046875 -1.421875 33.015625 -1.421875 \nQ 20.359375 -1.421875 13.671875 8.265625 \nQ 6.984375 17.96875 6.984375 36.375 \nQ 6.984375 53.65625 15.1875 63.9375 \nQ 23.390625 74.21875 37.203125 74.21875 \nQ 40.921875 74.21875 44.703125 73.484375 \nQ 48.484375 72.75 52.59375 71.296875 \nz\n\" id=\"DejaVuSans-54\"/>\n       </defs>\n       <use xlink:href=\"#DejaVuSans-48\"/>\n       <use x=\"63.623047\" xlink:href=\"#DejaVuSans-46\"/>\n       <use x=\"95.410156\" xlink:href=\"#DejaVuSans-48\"/>\n       <use x=\"159.033203\" xlink:href=\"#DejaVuSans-54\"/>\n      </g>\n     </g>\n    </g>\n    <g id=\"ytick_8\">\n     <g id=\"line2d_14\">\n      <g>\n       <use style=\"stroke:#000000;stroke-width:0.8;\" x=\"50.14375\" xlink:href=\"#m85f0139eeb\" y=\"10.999219\"/>\n      </g>\n     </g>\n     <g id=\"text_14\">\n      <!-- 0.07 -->\n      <g transform=\"translate(20.878125 14.798437)scale(0.1 -0.1)\">\n       <defs>\n        <path d=\"M 8.203125 72.90625 \nL 55.078125 72.90625 \nL 55.078125 68.703125 \nL 28.609375 0 \nL 18.3125 0 \nL 43.21875 64.59375 \nL 8.203125 64.59375 \nz\n\" id=\"DejaVuSans-55\"/>\n       </defs>\n       <use xlink:href=\"#DejaVuSans-48\"/>\n       <use x=\"63.623047\" xlink:href=\"#DejaVuSans-46\"/>\n       <use x=\"95.410156\" xlink:href=\"#DejaVuSans-48\"/>\n       <use x=\"159.033203\" xlink:href=\"#DejaVuSans-55\"/>\n      </g>\n     </g>\n    </g>\n    <g id=\"text_15\">\n     <!-- Density -->\n     <g transform=\"translate(14.798438 135.848833)rotate(-90)scale(0.1 -0.1)\">\n      <defs>\n       <path d=\"M 19.671875 64.796875 \nL 19.671875 8.109375 \nL 31.59375 8.109375 \nQ 46.6875 8.109375 53.6875 14.9375 \nQ 60.6875 21.78125 60.6875 36.53125 \nQ 60.6875 51.171875 53.6875 57.984375 \nQ 46.6875 64.796875 31.59375 64.796875 \nz\nM 9.8125 72.90625 \nL 30.078125 72.90625 \nQ 51.265625 72.90625 61.171875 64.09375 \nQ 71.09375 55.28125 71.09375 36.53125 \nQ 71.09375 17.671875 61.125 8.828125 \nQ 51.171875 0 30.078125 0 \nL 9.8125 0 \nz\n\" id=\"DejaVuSans-68\"/>\n       <path d=\"M 56.203125 29.59375 \nL 56.203125 25.203125 \nL 14.890625 25.203125 \nQ 15.484375 15.921875 20.484375 11.0625 \nQ 25.484375 6.203125 34.421875 6.203125 \nQ 39.59375 6.203125 44.453125 7.46875 \nQ 49.3125 8.734375 54.109375 11.28125 \nL 54.109375 2.78125 \nQ 49.265625 0.734375 44.1875 -0.34375 \nQ 39.109375 -1.421875 33.890625 -1.421875 \nQ 20.796875 -1.421875 13.15625 6.1875 \nQ 5.515625 13.8125 5.515625 26.8125 \nQ 5.515625 40.234375 12.765625 48.109375 \nQ 20.015625 56 32.328125 56 \nQ 43.359375 56 49.78125 48.890625 \nQ 56.203125 41.796875 56.203125 29.59375 \nz\nM 47.21875 32.234375 \nQ 47.125 39.59375 43.09375 43.984375 \nQ 39.0625 48.390625 32.421875 48.390625 \nQ 24.90625 48.390625 20.390625 44.140625 \nQ 15.875 39.890625 15.1875 32.171875 \nz\n\" id=\"DejaVuSans-101\"/>\n       <path d=\"M 54.890625 33.015625 \nL 54.890625 0 \nL 45.90625 0 \nL 45.90625 32.71875 \nQ 45.90625 40.484375 42.875 44.328125 \nQ 39.84375 48.1875 33.796875 48.1875 \nQ 26.515625 48.1875 22.3125 43.546875 \nQ 18.109375 38.921875 18.109375 30.90625 \nL 18.109375 0 \nL 9.078125 0 \nL 9.078125 54.6875 \nL 18.109375 54.6875 \nL 18.109375 46.1875 \nQ 21.34375 51.125 25.703125 53.5625 \nQ 30.078125 56 35.796875 56 \nQ 45.21875 56 50.046875 50.171875 \nQ 54.890625 44.34375 54.890625 33.015625 \nz\n\" id=\"DejaVuSans-110\"/>\n       <path d=\"M 44.28125 53.078125 \nL 44.28125 44.578125 \nQ 40.484375 46.53125 36.375 47.5 \nQ 32.28125 48.484375 27.875 48.484375 \nQ 21.1875 48.484375 17.84375 46.4375 \nQ 14.5 44.390625 14.5 40.28125 \nQ 14.5 37.15625 16.890625 35.375 \nQ 19.28125 33.59375 26.515625 31.984375 \nL 29.59375 31.296875 \nQ 39.15625 29.25 43.1875 25.515625 \nQ 47.21875 21.78125 47.21875 15.09375 \nQ 47.21875 7.46875 41.1875 3.015625 \nQ 35.15625 -1.421875 24.609375 -1.421875 \nQ 20.21875 -1.421875 15.453125 -0.5625 \nQ 10.6875 0.296875 5.421875 2 \nL 5.421875 11.28125 \nQ 10.40625 8.6875 15.234375 7.390625 \nQ 20.0625 6.109375 24.8125 6.109375 \nQ 31.15625 6.109375 34.5625 8.28125 \nQ 37.984375 10.453125 37.984375 14.40625 \nQ 37.984375 18.0625 35.515625 20.015625 \nQ 33.0625 21.96875 24.703125 23.78125 \nL 21.578125 24.515625 \nQ 13.234375 26.265625 9.515625 29.90625 \nQ 5.8125 33.546875 5.8125 39.890625 \nQ 5.8125 47.609375 11.28125 51.796875 \nQ 16.75 56 26.8125 56 \nQ 31.78125 56 36.171875 55.265625 \nQ 40.578125 54.546875 44.28125 53.078125 \nz\n\" id=\"DejaVuSans-115\"/>\n       <path d=\"M 9.421875 54.6875 \nL 18.40625 54.6875 \nL 18.40625 0 \nL 9.421875 0 \nz\nM 9.421875 75.984375 \nL 18.40625 75.984375 \nL 18.40625 64.59375 \nL 9.421875 64.59375 \nz\n\" id=\"DejaVuSans-105\"/>\n       <path d=\"M 18.3125 70.21875 \nL 18.3125 54.6875 \nL 36.8125 54.6875 \nL 36.8125 47.703125 \nL 18.3125 47.703125 \nL 18.3125 18.015625 \nQ 18.3125 11.328125 20.140625 9.421875 \nQ 21.96875 7.515625 27.59375 7.515625 \nL 36.8125 7.515625 \nL 36.8125 0 \nL 27.59375 0 \nQ 17.1875 0 13.234375 3.875 \nQ 9.28125 7.765625 9.28125 18.015625 \nL 9.28125 47.703125 \nL 2.6875 47.703125 \nL 2.6875 54.6875 \nL 9.28125 54.6875 \nL 9.28125 70.21875 \nz\n\" id=\"DejaVuSans-116\"/>\n       <path d=\"M 32.171875 -5.078125 \nQ 28.375 -14.84375 24.75 -17.8125 \nQ 21.140625 -20.796875 15.09375 -20.796875 \nL 7.90625 -20.796875 \nL 7.90625 -13.28125 \nL 13.1875 -13.28125 \nQ 16.890625 -13.28125 18.9375 -11.515625 \nQ 21 -9.765625 23.484375 -3.21875 \nL 25.09375 0.875 \nL 2.984375 54.6875 \nL 12.5 54.6875 \nL 29.59375 11.921875 \nL 46.6875 54.6875 \nL 56.203125 54.6875 \nz\n\" id=\"DejaVuSans-121\"/>\n      </defs>\n      <use xlink:href=\"#DejaVuSans-68\"/>\n      <use x=\"77.001953\" xlink:href=\"#DejaVuSans-101\"/>\n      <use x=\"138.525391\" xlink:href=\"#DejaVuSans-110\"/>\n      <use x=\"201.904297\" xlink:href=\"#DejaVuSans-115\"/>\n      <use x=\"254.003906\" xlink:href=\"#DejaVuSans-105\"/>\n      <use x=\"281.787109\" xlink:href=\"#DejaVuSans-116\"/>\n      <use x=\"320.996094\" xlink:href=\"#DejaVuSans-121\"/>\n     </g>\n    </g>\n   </g>\n   <g id=\"line2d_15\">\n    <path clip-path=\"url(#pb5f343a7c4)\" d=\"M 66.284246 225.559201 \nL 79.261529 225.468251 \nL 84.12801 225.247475 \nL 87.372331 224.931184 \nL 90.616652 224.397949 \nL 93.860972 223.570652 \nL 97.105293 222.373703 \nL 100.349614 220.732622 \nL 101.971774 219.721219 \nL 103.593935 218.569135 \nL 105.216095 217.266849 \nL 106.838256 215.806509 \nL 108.460416 214.183229 \nL 111.704737 210.449734 \nL 114.949058 206.117877 \nL 118.193378 201.298275 \nL 121.437699 196.115384 \nL 126.30418 187.885054 \nL 147.392265 151.458509 \nL 150.636586 146.05912 \nL 153.880907 141.087693 \nL 157.125228 136.73183 \nL 160.369548 133.040555 \nL 163.613869 129.9542 \nL 166.85819 127.39501 \nL 170.102511 125.32721 \nL 173.346832 123.741155 \nL 176.591152 122.593663 \nL 179.835473 121.776591 \nL 184.701954 120.891419 \nL 189.568435 120.263676 \nL 192.812756 120.032492 \nL 196.057077 119.976975 \nL 199.301398 120.096991 \nL 202.545719 120.432177 \nL 205.790039 121.095744 \nL 207.4122 121.595134 \nL 209.03436 122.223489 \nL 210.65652 122.983777 \nL 213.900841 124.86293 \nL 217.145162 127.082946 \nL 225.255964 133.066727 \nL 230.122445 136.79674 \nL 234.988926 140.844052 \nL 241.477568 146.701207 \nL 246.344049 151.032116 \nL 249.58837 153.683938 \nL 254.454851 157.284222 \nL 260.943493 161.961959 \nL 272.298615 170.474158 \nL 275.542936 172.538421 \nL 278.787257 174.357941 \nL 283.653738 176.753166 \nL 293.3867 181.371536 \nL 298.253181 184.071803 \nL 304.741823 187.824473 \nL 307.986144 189.498213 \nL 311.230465 190.961056 \nL 316.096946 192.84864 \nL 327.452068 197.054657 \nL 338.807191 201.54405 \nL 340.429352 202.049235 \nL 342.051512 202.429 \nL 343.673672 202.609557 \nL 345.295833 202.488808 \nL 346.917993 201.936538 \nL 348.540154 200.802579 \nL 350.162314 198.936111 \nL 351.784474 196.217377 \nL 353.406635 192.599323 \nL 355.028795 188.151673 \nL 359.895276 172.822884 \nL 361.517437 168.718479 \nL 363.139597 166.070523 \nL 364.761757 165.323464 \nL 366.383918 166.704721 \nL 368.006078 170.174207 \nL 369.628239 175.428477 \nL 371.250399 181.958829 \nL 376.11688 203.121257 \nL 377.739041 209.013843 \nL 379.361201 213.861255 \nL 380.983361 217.630424 \nL 382.605522 220.408065 \nL 384.227682 222.351864 \nL 385.849842 223.645493 \nL 387.472003 224.465174 \nL 389.094163 224.960105 \nL 389.094163 224.960105 \n\" style=\"fill:none;stroke:#1f77b4;stroke-linecap:square;stroke-width:1.5;\"/>\n   </g>\n   <g id=\"patch_53\">\n    <path d=\"M 50.14375 225.560239 \nL 50.14375 8.120239 \n\" style=\"fill:none;stroke:#000000;stroke-linecap:square;stroke-linejoin:miter;stroke-width:0.8;\"/>\n   </g>\n   <g id=\"patch_54\">\n    <path d=\"M 405.234659 225.560239 \nL 405.234659 8.120239 \n\" style=\"fill:none;stroke:#000000;stroke-linecap:square;stroke-linejoin:miter;stroke-width:0.8;\"/>\n   </g>\n   <g id=\"patch_55\">\n    <path d=\"M 50.14375 225.560239 \nL 405.234659 225.560239 \n\" style=\"fill:none;stroke:#000000;stroke-linecap:square;stroke-linejoin:miter;stroke-width:0.8;\"/>\n   </g>\n   <g id=\"patch_56\">\n    <path d=\"M 50.14375 8.120239 \nL 405.234659 8.120239 \n\" style=\"fill:none;stroke:#000000;stroke-linecap:square;stroke-linejoin:miter;stroke-width:0.8;\"/>\n   </g>\n  </g>\n  <g id=\"axes_2\">\n   <g id=\"patch_57\">\n    <path d=\"M 476.252841 225.560239 \nL 831.34375 225.560239 \nL 831.34375 8.120239 \nL 476.252841 8.120239 \nz\n\" style=\"fill:#ffffff;\"/>\n   </g>\n   <g id=\"patch_58\">\n    <path clip-path=\"url(#p4e1fe94d29)\" d=\"M 589.236312 29.864239 \nL 589.236312 203.816239 \nL 705.447882 203.816239 \nL 705.447882 29.864239 \nL 589.236312 29.864239 \nz\n\" style=\"fill:#3274a1;stroke:#3f3f3f;stroke-linejoin:miter;stroke-width:1.5;\"/>\n   </g>\n   <g id=\"matplotlib.axis_3\">\n    <g id=\"xtick_7\">\n     <g id=\"line2d_16\">\n      <g>\n       <use style=\"stroke:#000000;stroke-width:0.8;\" x=\"492.393337\" xlink:href=\"#mfb23ccec81\" y=\"225.560239\"/>\n      </g>\n     </g>\n     <g id=\"text_16\">\n      <!-- 0 -->\n      <g transform=\"translate(489.212087 240.158677)scale(0.1 -0.1)\">\n       <use xlink:href=\"#DejaVuSans-48\"/>\n      </g>\n     </g>\n    </g>\n    <g id=\"xtick_8\">\n     <g id=\"line2d_17\">\n      <g>\n       <use style=\"stroke:#000000;stroke-width:0.8;\" x=\"556.95532\" xlink:href=\"#mfb23ccec81\" y=\"225.560239\"/>\n      </g>\n     </g>\n     <g id=\"text_17\">\n      <!-- 10 -->\n      <g transform=\"translate(550.59282 240.158677)scale(0.1 -0.1)\">\n       <use xlink:href=\"#DejaVuSans-49\"/>\n       <use x=\"63.623047\" xlink:href=\"#DejaVuSans-48\"/>\n      </g>\n     </g>\n    </g>\n    <g id=\"xtick_9\">\n     <g id=\"line2d_18\">\n      <g>\n       <use style=\"stroke:#000000;stroke-width:0.8;\" x=\"621.517304\" xlink:href=\"#mfb23ccec81\" y=\"225.560239\"/>\n      </g>\n     </g>\n     <g id=\"text_18\">\n      <!-- 20 -->\n      <g transform=\"translate(615.154804 240.158677)scale(0.1 -0.1)\">\n       <use xlink:href=\"#DejaVuSans-50\"/>\n       <use x=\"63.623047\" xlink:href=\"#DejaVuSans-48\"/>\n      </g>\n     </g>\n    </g>\n    <g id=\"xtick_10\">\n     <g id=\"line2d_19\">\n      <g>\n       <use style=\"stroke:#000000;stroke-width:0.8;\" x=\"686.079287\" xlink:href=\"#mfb23ccec81\" y=\"225.560239\"/>\n      </g>\n     </g>\n     <g id=\"text_19\">\n      <!-- 30 -->\n      <g transform=\"translate(679.716787 240.158677)scale(0.1 -0.1)\">\n       <use xlink:href=\"#DejaVuSans-51\"/>\n       <use x=\"63.623047\" xlink:href=\"#DejaVuSans-48\"/>\n      </g>\n     </g>\n    </g>\n    <g id=\"xtick_11\">\n     <g id=\"line2d_20\">\n      <g>\n       <use style=\"stroke:#000000;stroke-width:0.8;\" x=\"750.641271\" xlink:href=\"#mfb23ccec81\" y=\"225.560239\"/>\n      </g>\n     </g>\n     <g id=\"text_20\">\n      <!-- 40 -->\n      <g transform=\"translate(744.278771 240.158677)scale(0.1 -0.1)\">\n       <use xlink:href=\"#DejaVuSans-52\"/>\n       <use x=\"63.623047\" xlink:href=\"#DejaVuSans-48\"/>\n      </g>\n     </g>\n    </g>\n    <g id=\"xtick_12\">\n     <g id=\"line2d_21\">\n      <g>\n       <use style=\"stroke:#000000;stroke-width:0.8;\" x=\"815.203254\" xlink:href=\"#mfb23ccec81\" y=\"225.560239\"/>\n      </g>\n     </g>\n     <g id=\"text_21\">\n      <!-- 50 -->\n      <g transform=\"translate(808.840754 240.158677)scale(0.1 -0.1)\">\n       <use xlink:href=\"#DejaVuSans-53\"/>\n       <use x=\"63.623047\" xlink:href=\"#DejaVuSans-48\"/>\n      </g>\n     </g>\n    </g>\n   </g>\n   <g id=\"matplotlib.axis_4\">\n    <g id=\"ytick_9\">\n     <g id=\"line2d_22\">\n      <g>\n       <use style=\"stroke:#000000;stroke-width:0.8;\" x=\"476.252841\" xlink:href=\"#m85f0139eeb\" y=\"116.840239\"/>\n      </g>\n     </g>\n    </g>\n   </g>\n   <g id=\"line2d_23\">\n    <path clip-path=\"url(#p4e1fe94d29)\" d=\"M 589.236312 116.840239 \nL 492.393337 116.840239 \n\" style=\"fill:none;stroke:#3f3f3f;stroke-linecap:square;stroke-width:1.5;\"/>\n   </g>\n   <g id=\"line2d_24\">\n    <path clip-path=\"url(#p4e1fe94d29)\" d=\"M 705.447882 116.840239 \nL 815.203254 116.840239 \n\" style=\"fill:none;stroke:#3f3f3f;stroke-linecap:square;stroke-width:1.5;\"/>\n   </g>\n   <g id=\"line2d_25\">\n    <path clip-path=\"url(#p4e1fe94d29)\" d=\"M 492.393337 73.352239 \nL 492.393337 160.328239 \n\" style=\"fill:none;stroke:#3f3f3f;stroke-linecap:square;stroke-width:1.5;\"/>\n   </g>\n   <g id=\"line2d_26\">\n    <path clip-path=\"url(#p4e1fe94d29)\" d=\"M 815.203254 73.352239 \nL 815.203254 160.328239 \n\" style=\"fill:none;stroke:#3f3f3f;stroke-linecap:square;stroke-width:1.5;\"/>\n   </g>\n   <g id=\"line2d_27\"/>\n   <g id=\"line2d_28\">\n    <path clip-path=\"url(#p4e1fe94d29)\" d=\"M 640.885899 29.864239 \nL 640.885899 203.816239 \n\" style=\"fill:none;stroke:#3f3f3f;stroke-linecap:square;stroke-width:1.5;\"/>\n   </g>\n   <g id=\"patch_59\">\n    <path d=\"M 476.252841 225.560239 \nL 476.252841 8.120239 \n\" style=\"fill:none;stroke:#000000;stroke-linecap:square;stroke-linejoin:miter;stroke-width:0.8;\"/>\n   </g>\n   <g id=\"patch_60\">\n    <path d=\"M 831.34375 225.560239 \nL 831.34375 8.120239 \n\" style=\"fill:none;stroke:#000000;stroke-linecap:square;stroke-linejoin:miter;stroke-width:0.8;\"/>\n   </g>\n   <g id=\"patch_61\">\n    <path d=\"M 476.252841 225.560239 \nL 831.34375 225.560239 \n\" style=\"fill:none;stroke:#000000;stroke-linecap:square;stroke-linejoin:miter;stroke-width:0.8;\"/>\n   </g>\n   <g id=\"patch_62\">\n    <path d=\"M 476.252841 8.120239 \nL 831.34375 8.120239 \n\" style=\"fill:none;stroke:#000000;stroke-linecap:square;stroke-linejoin:miter;stroke-width:0.8;\"/>\n   </g>\n  </g>\n </g>\n <defs>\n  <clipPath id=\"pb5f343a7c4\">\n   <rect height=\"217.44\" width=\"355.090909\" x=\"50.14375\" y=\"8.120239\"/>\n  </clipPath>\n  <clipPath id=\"p4e1fe94d29\">\n   <rect height=\"217.44\" width=\"355.090909\" x=\"476.252841\" y=\"8.120239\"/>\n  </clipPath>\n </defs>\n</svg>\n"
     },
     "metadata": {
      "needs_background": "light"
     }
    }
   ],
   "metadata": {}
  },
  {
   "cell_type": "code",
   "execution_count": 16,
   "source": [
    "    def ext_to_unk(index):\n",
    "        if index >= VOCAB_SIZE: #############..greater tha equals??\n",
    "            return word_dict[\"<unk>\"]\n",
    "        else: return index"
   ],
   "outputs": [],
   "metadata": {}
  },
  {
   "cell_type": "code",
   "execution_count": 32,
   "source": [
    "X_batch_ext = []; y_batch = []; oov_cnts = []; oov_vocabs = []; X_batch = []; y_batch_teacher_force = []\n",
    "                \n",
    "for i in range(len(val_data)):\n",
    "                     X_ext, y_ext, oov_cnt, oov_vocab = val_data[i]\n",
    "\n",
    "                     #X_batch.append(list(map(ext_to_unk, X_ext)))\n",
    "                     #y_batch_teacher_force.append(list(map(ext_to_unk, y_ext)))\n",
    "                     #X_batch_ext.append(X_ext)\n",
    "                     #y_batch.append(y_ext)\n",
    "                     oov_cnts.append(oov_cnt) \n",
    "                     #oov_vocabs.append(oov_vocab)"
   ],
   "outputs": [],
   "metadata": {}
  },
  {
   "cell_type": "markdown",
   "source": [
    "# model training"
   ],
   "metadata": {}
  },
  {
   "cell_type": "code",
   "execution_count": 5,
   "source": [
    "model = TextSummarizer(Tx, Ty, BATCH_SIZE, VOCAB_SIZE, \n",
    "                        embedding_dim=128, a_units=256, h_units=256, word_dict=word_dict, index_dict=index_dict, max_global_oov=max_global_oov)"
   ],
   "outputs": [],
   "metadata": {}
  },
  {
   "cell_type": "code",
   "execution_count": 6,
   "source": [
    "model.load_model()"
   ],
   "outputs": [
    {
     "output_type": "stream",
     "name": "stdout",
     "text": [
      "model loaded\n"
     ]
    }
   ],
   "metadata": {}
  },
  {
   "cell_type": "code",
   "execution_count": 8,
   "source": [
    "history = model.fit(\n",
    "            epochs=EPOCHS, \n",
    "            train_data=val_data,\n",
    "            val_data=val_data,\n",
    "            lr=0.15,\n",
    "            use_coverage=False,\n",
    "            early_stopping=CallbackEarlyStopping(patience=2, min_delta=0.001),\n",
    "            reduce_lr=None,\n",
    "            save_freq=100,\n",
    "            \n",
    "            restore=True\n",
    "            )"
   ],
   "outputs": [
    {
     "output_type": "stream",
     "name": "stdout",
     "text": [
      "...\n",
      "inital learning rate:  0.15\n",
      "WARNING:tensorflow:Gradients do not exist for variables ['decoder/attention/dense_4/kernel:0'] when minimizing the loss.\n"
     ]
    },
    {
     "output_type": "error",
     "ename": "ResourceExhaustedError",
     "evalue": " [_Derived_]  OOM when allocating tensor with shape[395264] and type float on /job:localhost/replica:0/task:0/device:GPU:0 by allocator GPU_0_bfc\n\t [[{{node concat_1_0}}]]\nHint: If you want to see a list of allocated tensors when OOM happens, add report_tensor_allocations_upon_oom to RunOptions for current allocation info.\n\n\t [[decoder_50/lstm_1/StatefulPartitionedCall]]\nHint: If you want to see a list of allocated tensors when OOM happens, add report_tensor_allocations_upon_oom to RunOptions for current allocation info.\n\n\t [[clip_by_global_norm/mul_12/_624]]\nHint: If you want to see a list of allocated tensors when OOM happens, add report_tensor_allocations_upon_oom to RunOptions for current allocation info.\n [Op:__inference_train_step_371752]\n\nFunction call stack:\ntrain_step -> train_step -> train_step\n",
     "traceback": [
      "\u001b[0;31m---------------------------------------------------------------------------\u001b[0m",
      "\u001b[0;31mResourceExhaustedError\u001b[0m                    Traceback (most recent call last)",
      "\u001b[0;32m<ipython-input-8-3c249a3cebf3>\u001b[0m in \u001b[0;36m<module>\u001b[0;34m\u001b[0m\n\u001b[1;32m      9\u001b[0m             \u001b[0msave_freq\u001b[0m\u001b[0;34m=\u001b[0m\u001b[0;36m100\u001b[0m\u001b[0;34m,\u001b[0m\u001b[0;34m\u001b[0m\u001b[0;34m\u001b[0m\u001b[0m\n\u001b[1;32m     10\u001b[0m \u001b[0;34m\u001b[0m\u001b[0m\n\u001b[0;32m---> 11\u001b[0;31m             \u001b[0mrestore\u001b[0m\u001b[0;34m=\u001b[0m\u001b[0;32mTrue\u001b[0m\u001b[0;34m\u001b[0m\u001b[0;34m\u001b[0m\u001b[0m\n\u001b[0m\u001b[1;32m     12\u001b[0m             )\n",
      "\u001b[0;32m~/dev/nlp_text_summarization/model.py\u001b[0m in \u001b[0;36mfit\u001b[0;34m(self, epochs, train_data, val_data, lr, use_coverage, early_stopping, reduce_lr, save_freq, restore)\u001b[0m\n\u001b[1;32m    334\u001b[0m             \u001b[0;31m# one train step to \"warm up the model\" - otherwise raises error during opt.set_weights() this does not affect weights because reload the weights\u001b[0m\u001b[0;34m\u001b[0m\u001b[0;34m\u001b[0m\u001b[0;34m\u001b[0m\u001b[0m\n\u001b[1;32m    335\u001b[0m             \u001b[0mX_batch\u001b[0m\u001b[0;34m,\u001b[0m \u001b[0mX_batch_indeces_ext\u001b[0m\u001b[0;34m,\u001b[0m \u001b[0my_batch_teacher_force\u001b[0m\u001b[0;34m,\u001b[0m \u001b[0my_batch\u001b[0m\u001b[0;34m,\u001b[0m \u001b[0mmax_oov\u001b[0m\u001b[0;34m,\u001b[0m \u001b[0m_\u001b[0m \u001b[0;34m=\u001b[0m \u001b[0mself\u001b[0m\u001b[0;34m.\u001b[0m\u001b[0m_get_batch\u001b[0m\u001b[0;34m(\u001b[0m\u001b[0;36m0\u001b[0m\u001b[0;34m,\u001b[0m \u001b[0mtrain_data\u001b[0m\u001b[0;34m)\u001b[0m\u001b[0;34m\u001b[0m\u001b[0;34m\u001b[0m\u001b[0m\n\u001b[0;32m--> 336\u001b[0;31m             \u001b[0mself\u001b[0m\u001b[0;34m.\u001b[0m\u001b[0mtrain_step\u001b[0m\u001b[0;34m(\u001b[0m\u001b[0mX_batch\u001b[0m\u001b[0;34m,\u001b[0m \u001b[0my_batch\u001b[0m\u001b[0;34m,\u001b[0m \u001b[0my_batch_teacher_force\u001b[0m\u001b[0;34m,\u001b[0m \u001b[0mX_batch_indeces_ext\u001b[0m\u001b[0;34m,\u001b[0m  \u001b[0mmax_oov\u001b[0m\u001b[0;34m,\u001b[0m \u001b[0muse_coverage\u001b[0m\u001b[0;34m)\u001b[0m\u001b[0;34m\u001b[0m\u001b[0;34m\u001b[0m\u001b[0m\n\u001b[0m\u001b[1;32m    337\u001b[0m \u001b[0;34m\u001b[0m\u001b[0m\n\u001b[1;32m    338\u001b[0m             \u001b[0mstart_epoch\u001b[0m\u001b[0;34m,\u001b[0m \u001b[0mstart_batch_i\u001b[0m\u001b[0;34m,\u001b[0m \u001b[0mtrain_indeces\u001b[0m\u001b[0;34m,\u001b[0m \u001b[0mlosses\u001b[0m\u001b[0;34m,\u001b[0m \u001b[0mtrain_time\u001b[0m \u001b[0;34m=\u001b[0m \u001b[0mself\u001b[0m\u001b[0;34m.\u001b[0m\u001b[0mload_model\u001b[0m\u001b[0;34m(\u001b[0m\u001b[0mreturn_train_metadata\u001b[0m\u001b[0;34m=\u001b[0m\u001b[0;32mTrue\u001b[0m\u001b[0;34m,\u001b[0m \u001b[0mload_optimizer\u001b[0m\u001b[0;34m=\u001b[0m\u001b[0;32mTrue\u001b[0m\u001b[0;34m)\u001b[0m\u001b[0;34m\u001b[0m\u001b[0;34m\u001b[0m\u001b[0m\n",
      "\u001b[0;32m~/anaconda3/envs/ml/lib/python3.7/site-packages/tensorflow_core/python/eager/def_function.py\u001b[0m in \u001b[0;36m__call__\u001b[0;34m(self, *args, **kwds)\u001b[0m\n\u001b[1;32m    566\u001b[0m         \u001b[0mxla_context\u001b[0m\u001b[0;34m.\u001b[0m\u001b[0mExit\u001b[0m\u001b[0;34m(\u001b[0m\u001b[0;34m)\u001b[0m\u001b[0;34m\u001b[0m\u001b[0;34m\u001b[0m\u001b[0m\n\u001b[1;32m    567\u001b[0m     \u001b[0;32melse\u001b[0m\u001b[0;34m:\u001b[0m\u001b[0;34m\u001b[0m\u001b[0;34m\u001b[0m\u001b[0m\n\u001b[0;32m--> 568\u001b[0;31m       \u001b[0mresult\u001b[0m \u001b[0;34m=\u001b[0m \u001b[0mself\u001b[0m\u001b[0;34m.\u001b[0m\u001b[0m_call\u001b[0m\u001b[0;34m(\u001b[0m\u001b[0;34m*\u001b[0m\u001b[0margs\u001b[0m\u001b[0;34m,\u001b[0m \u001b[0;34m**\u001b[0m\u001b[0mkwds\u001b[0m\u001b[0;34m)\u001b[0m\u001b[0;34m\u001b[0m\u001b[0;34m\u001b[0m\u001b[0m\n\u001b[0m\u001b[1;32m    569\u001b[0m \u001b[0;34m\u001b[0m\u001b[0m\n\u001b[1;32m    570\u001b[0m     \u001b[0;32mif\u001b[0m \u001b[0mtracing_count\u001b[0m \u001b[0;34m==\u001b[0m \u001b[0mself\u001b[0m\u001b[0;34m.\u001b[0m\u001b[0m_get_tracing_count\u001b[0m\u001b[0;34m(\u001b[0m\u001b[0;34m)\u001b[0m\u001b[0;34m:\u001b[0m\u001b[0;34m\u001b[0m\u001b[0;34m\u001b[0m\u001b[0m\n",
      "\u001b[0;32m~/anaconda3/envs/ml/lib/python3.7/site-packages/tensorflow_core/python/eager/def_function.py\u001b[0m in \u001b[0;36m_call\u001b[0;34m(self, *args, **kwds)\u001b[0m\n\u001b[1;32m    597\u001b[0m       \u001b[0;31m# In this case we have created variables on the first call, so we run the\u001b[0m\u001b[0;34m\u001b[0m\u001b[0;34m\u001b[0m\u001b[0;34m\u001b[0m\u001b[0m\n\u001b[1;32m    598\u001b[0m       \u001b[0;31m# defunned version which is guaranteed to never create variables.\u001b[0m\u001b[0;34m\u001b[0m\u001b[0;34m\u001b[0m\u001b[0;34m\u001b[0m\u001b[0m\n\u001b[0;32m--> 599\u001b[0;31m       \u001b[0;32mreturn\u001b[0m \u001b[0mself\u001b[0m\u001b[0;34m.\u001b[0m\u001b[0m_stateless_fn\u001b[0m\u001b[0;34m(\u001b[0m\u001b[0;34m*\u001b[0m\u001b[0margs\u001b[0m\u001b[0;34m,\u001b[0m \u001b[0;34m**\u001b[0m\u001b[0mkwds\u001b[0m\u001b[0;34m)\u001b[0m  \u001b[0;31m# pylint: disable=not-callable\u001b[0m\u001b[0;34m\u001b[0m\u001b[0;34m\u001b[0m\u001b[0m\n\u001b[0m\u001b[1;32m    600\u001b[0m     \u001b[0;32melif\u001b[0m \u001b[0mself\u001b[0m\u001b[0;34m.\u001b[0m\u001b[0m_stateful_fn\u001b[0m \u001b[0;32mis\u001b[0m \u001b[0;32mnot\u001b[0m \u001b[0;32mNone\u001b[0m\u001b[0;34m:\u001b[0m\u001b[0;34m\u001b[0m\u001b[0;34m\u001b[0m\u001b[0m\n\u001b[1;32m    601\u001b[0m       \u001b[0;31m# Release the lock early so that multiple threads can perform the call\u001b[0m\u001b[0;34m\u001b[0m\u001b[0;34m\u001b[0m\u001b[0;34m\u001b[0m\u001b[0m\n",
      "\u001b[0;32m~/anaconda3/envs/ml/lib/python3.7/site-packages/tensorflow_core/python/eager/function.py\u001b[0m in \u001b[0;36m__call__\u001b[0;34m(self, *args, **kwargs)\u001b[0m\n\u001b[1;32m   2361\u001b[0m     \u001b[0;32mwith\u001b[0m \u001b[0mself\u001b[0m\u001b[0;34m.\u001b[0m\u001b[0m_lock\u001b[0m\u001b[0;34m:\u001b[0m\u001b[0;34m\u001b[0m\u001b[0;34m\u001b[0m\u001b[0m\n\u001b[1;32m   2362\u001b[0m       \u001b[0mgraph_function\u001b[0m\u001b[0;34m,\u001b[0m \u001b[0margs\u001b[0m\u001b[0;34m,\u001b[0m \u001b[0mkwargs\u001b[0m \u001b[0;34m=\u001b[0m \u001b[0mself\u001b[0m\u001b[0;34m.\u001b[0m\u001b[0m_maybe_define_function\u001b[0m\u001b[0;34m(\u001b[0m\u001b[0margs\u001b[0m\u001b[0;34m,\u001b[0m \u001b[0mkwargs\u001b[0m\u001b[0;34m)\u001b[0m\u001b[0;34m\u001b[0m\u001b[0;34m\u001b[0m\u001b[0m\n\u001b[0;32m-> 2363\u001b[0;31m     \u001b[0;32mreturn\u001b[0m \u001b[0mgraph_function\u001b[0m\u001b[0;34m.\u001b[0m\u001b[0m_filtered_call\u001b[0m\u001b[0;34m(\u001b[0m\u001b[0margs\u001b[0m\u001b[0;34m,\u001b[0m \u001b[0mkwargs\u001b[0m\u001b[0;34m)\u001b[0m  \u001b[0;31m# pylint: disable=protected-access\u001b[0m\u001b[0;34m\u001b[0m\u001b[0;34m\u001b[0m\u001b[0m\n\u001b[0m\u001b[1;32m   2364\u001b[0m \u001b[0;34m\u001b[0m\u001b[0m\n\u001b[1;32m   2365\u001b[0m   \u001b[0;34m@\u001b[0m\u001b[0mproperty\u001b[0m\u001b[0;34m\u001b[0m\u001b[0;34m\u001b[0m\u001b[0m\n",
      "\u001b[0;32m~/anaconda3/envs/ml/lib/python3.7/site-packages/tensorflow_core/python/eager/function.py\u001b[0m in \u001b[0;36m_filtered_call\u001b[0;34m(self, args, kwargs)\u001b[0m\n\u001b[1;32m   1609\u001b[0m          if isinstance(t, (ops.Tensor,\n\u001b[1;32m   1610\u001b[0m                            resource_variable_ops.BaseResourceVariable))),\n\u001b[0;32m-> 1611\u001b[0;31m         self.captured_inputs)\n\u001b[0m\u001b[1;32m   1612\u001b[0m \u001b[0;34m\u001b[0m\u001b[0m\n\u001b[1;32m   1613\u001b[0m   \u001b[0;32mdef\u001b[0m \u001b[0m_call_flat\u001b[0m\u001b[0;34m(\u001b[0m\u001b[0mself\u001b[0m\u001b[0;34m,\u001b[0m \u001b[0margs\u001b[0m\u001b[0;34m,\u001b[0m \u001b[0mcaptured_inputs\u001b[0m\u001b[0;34m,\u001b[0m \u001b[0mcancellation_manager\u001b[0m\u001b[0;34m=\u001b[0m\u001b[0;32mNone\u001b[0m\u001b[0;34m)\u001b[0m\u001b[0;34m:\u001b[0m\u001b[0;34m\u001b[0m\u001b[0;34m\u001b[0m\u001b[0m\n",
      "\u001b[0;32m~/anaconda3/envs/ml/lib/python3.7/site-packages/tensorflow_core/python/eager/function.py\u001b[0m in \u001b[0;36m_call_flat\u001b[0;34m(self, args, captured_inputs, cancellation_manager)\u001b[0m\n\u001b[1;32m   1690\u001b[0m       \u001b[0;31m# No tape is watching; skip to running the function.\u001b[0m\u001b[0;34m\u001b[0m\u001b[0;34m\u001b[0m\u001b[0;34m\u001b[0m\u001b[0m\n\u001b[1;32m   1691\u001b[0m       return self._build_call_outputs(self._inference_function.call(\n\u001b[0;32m-> 1692\u001b[0;31m           ctx, args, cancellation_manager=cancellation_manager))\n\u001b[0m\u001b[1;32m   1693\u001b[0m     forward_backward = self._select_forward_and_backward_functions(\n\u001b[1;32m   1694\u001b[0m         \u001b[0margs\u001b[0m\u001b[0;34m,\u001b[0m\u001b[0;34m\u001b[0m\u001b[0;34m\u001b[0m\u001b[0m\n",
      "\u001b[0;32m~/anaconda3/envs/ml/lib/python3.7/site-packages/tensorflow_core/python/eager/function.py\u001b[0m in \u001b[0;36mcall\u001b[0;34m(self, ctx, args, cancellation_manager)\u001b[0m\n\u001b[1;32m    543\u001b[0m               \u001b[0minputs\u001b[0m\u001b[0;34m=\u001b[0m\u001b[0margs\u001b[0m\u001b[0;34m,\u001b[0m\u001b[0;34m\u001b[0m\u001b[0;34m\u001b[0m\u001b[0m\n\u001b[1;32m    544\u001b[0m               \u001b[0mattrs\u001b[0m\u001b[0;34m=\u001b[0m\u001b[0;34m(\u001b[0m\u001b[0;34m\"executor_type\"\u001b[0m\u001b[0;34m,\u001b[0m \u001b[0mexecutor_type\u001b[0m\u001b[0;34m,\u001b[0m \u001b[0;34m\"config_proto\"\u001b[0m\u001b[0;34m,\u001b[0m \u001b[0mconfig\u001b[0m\u001b[0;34m)\u001b[0m\u001b[0;34m,\u001b[0m\u001b[0;34m\u001b[0m\u001b[0;34m\u001b[0m\u001b[0m\n\u001b[0;32m--> 545\u001b[0;31m               ctx=ctx)\n\u001b[0m\u001b[1;32m    546\u001b[0m         \u001b[0;32melse\u001b[0m\u001b[0;34m:\u001b[0m\u001b[0;34m\u001b[0m\u001b[0;34m\u001b[0m\u001b[0m\n\u001b[1;32m    547\u001b[0m           outputs = execute.execute_with_cancellation(\n",
      "\u001b[0;32m~/anaconda3/envs/ml/lib/python3.7/site-packages/tensorflow_core/python/eager/execute.py\u001b[0m in \u001b[0;36mquick_execute\u001b[0;34m(op_name, num_outputs, inputs, attrs, ctx, name)\u001b[0m\n\u001b[1;32m     65\u001b[0m     \u001b[0;32melse\u001b[0m\u001b[0;34m:\u001b[0m\u001b[0;34m\u001b[0m\u001b[0;34m\u001b[0m\u001b[0m\n\u001b[1;32m     66\u001b[0m       \u001b[0mmessage\u001b[0m \u001b[0;34m=\u001b[0m \u001b[0me\u001b[0m\u001b[0;34m.\u001b[0m\u001b[0mmessage\u001b[0m\u001b[0;34m\u001b[0m\u001b[0;34m\u001b[0m\u001b[0m\n\u001b[0;32m---> 67\u001b[0;31m     \u001b[0msix\u001b[0m\u001b[0;34m.\u001b[0m\u001b[0mraise_from\u001b[0m\u001b[0;34m(\u001b[0m\u001b[0mcore\u001b[0m\u001b[0;34m.\u001b[0m\u001b[0m_status_to_exception\u001b[0m\u001b[0;34m(\u001b[0m\u001b[0me\u001b[0m\u001b[0;34m.\u001b[0m\u001b[0mcode\u001b[0m\u001b[0;34m,\u001b[0m \u001b[0mmessage\u001b[0m\u001b[0;34m)\u001b[0m\u001b[0;34m,\u001b[0m \u001b[0;32mNone\u001b[0m\u001b[0;34m)\u001b[0m\u001b[0;34m\u001b[0m\u001b[0;34m\u001b[0m\u001b[0m\n\u001b[0m\u001b[1;32m     68\u001b[0m   \u001b[0;32mexcept\u001b[0m \u001b[0mTypeError\u001b[0m \u001b[0;32mas\u001b[0m \u001b[0me\u001b[0m\u001b[0;34m:\u001b[0m\u001b[0;34m\u001b[0m\u001b[0;34m\u001b[0m\u001b[0m\n\u001b[1;32m     69\u001b[0m     keras_symbolic_tensors = [\n",
      "\u001b[0;32m~/anaconda3/envs/ml/lib/python3.7/site-packages/six.py\u001b[0m in \u001b[0;36mraise_from\u001b[0;34m(value, from_value)\u001b[0m\n",
      "\u001b[0;31mResourceExhaustedError\u001b[0m:  [_Derived_]  OOM when allocating tensor with shape[395264] and type float on /job:localhost/replica:0/task:0/device:GPU:0 by allocator GPU_0_bfc\n\t [[{{node concat_1_0}}]]\nHint: If you want to see a list of allocated tensors when OOM happens, add report_tensor_allocations_upon_oom to RunOptions for current allocation info.\n\n\t [[decoder_50/lstm_1/StatefulPartitionedCall]]\nHint: If you want to see a list of allocated tensors when OOM happens, add report_tensor_allocations_upon_oom to RunOptions for current allocation info.\n\n\t [[clip_by_global_norm/mul_12/_624]]\nHint: If you want to see a list of allocated tensors when OOM happens, add report_tensor_allocations_upon_oom to RunOptions for current allocation info.\n [Op:__inference_train_step_371752]\n\nFunction call stack:\ntrain_step -> train_step -> train_step\n"
     ]
    }
   ],
   "metadata": {
    "tags": []
   }
  },
  {
   "cell_type": "markdown",
   "source": [
    "# beam search for 1 batch"
   ],
   "metadata": {}
  },
  {
   "cell_type": "code",
   "execution_count": 5,
   "source": [
    "model = TextSummarizer(Tx, Ty, 2, VOCAB_SIZE, \n",
    "                        embedding_dim=128, a_units=256, h_units=256, word_dict=None, index_dict=None, max_global_oov=max_global_oov + 1, sp_mode=True)\n",
    "\n",
    "model.load_model()"
   ],
   "outputs": [
    {
     "output_type": "stream",
     "name": "stdout",
     "text": [
      "\n",
      "model loaded\n"
     ]
    }
   ],
   "metadata": {}
  },
  {
   "cell_type": "code",
   "execution_count": 8,
   "source": [
    "X_batch, X_batch_indeces_ext, _, y_batch, max_oov, oov_vocabs = model.get_batch(8, val_data)"
   ],
   "outputs": [],
   "metadata": {}
  },
  {
   "cell_type": "code",
   "execution_count": 17,
   "source": [
    "#Mars or, passengers of pizza passengers should be used..................... And.... And.. Is and..... And.. Of and.... Of and.... Of and... Feel like the unwell\n",
    "# dell opouští hp, dell oznámí zprávy o světové válce\n",
    "pred_sentences_batch, a, sen = model.beam_decode_batch(X_batch, X_batch_indeces_ext, 3, 2, False, block_unk=False)\n",
    "\n",
    "pred_sentences_batch = pred_sentences_batch.numpy()\n",
    "print(pred_sentences_batch)\n",
    "\n",
    "for i, sentence in enumerate(pred_sentences_batch):\n",
    "    print(i, model.indeces_to_words(sentence, oov_vocabs[i], remove_paddings=True, model_file=\"sp_czechsum_50K_model.model\"))\n",
    "    print(a[i].numpy())\n",
    "    print(\"\")\n",
    "\n",
    "sen = sen.numpy()\n",
    "for sentence in sen:\n",
    "    print(model.indeces_to_words(sentence, oov_vocabs[0], remove_paddings=False, model_file=\"sp_czechsum_50K_model.model\"))\n"
   ],
   "outputs": [
    {
     "output_type": "stream",
     "name": "stdout",
     "text": [
      "[[0.16507502 0.14679915 0.04836432]\n",
      " [0.13119218 0.11407856 0.06249027]]\n",
      "[    6    14 41161]\n",
      "[41161   306    97]\n",
      "[11158    39     4]\n",
      "[    4 13408   448]\n",
      "[ 109 3533    4]\n",
      "[   39 13408    29]\n",
      "[16 17 37]\n",
      "[   49    37 32351]\n",
      "[11158    15    39]\n",
      "[13408    21    21]\n",
      "[ 4 74 17]\n",
      "[  4 834  37]\n",
      "[109  17  37]\n",
      "[  273 10193    25]\n",
      "[   14    20 11630]\n",
      "[ 5  7 64]\n",
      "[4 4 9]\n",
      "[    4     4 20215]\n",
      "[  4   4 177]\n",
      "[13408   555   175]\n",
      "[ 273 7323    4]\n",
      "[[41161     6     0     0     0     0     0     0     0     0     0     0\n",
      "      0     0     0     0     0     0     0     0     0     0]\n",
      " [ 8136  1099     0     0     0     0     0     0     0     0     0     0\n",
      "      0     0     0     0     0     0     0     0     0     0]]\n",
      "0 syřané2\n",
      "[0.]\n",
      "\n",
      "1 free zprávy\n",
      "[0.]\n",
      "\n",
      "syřané\n",
      "ham\n",
      "firma\n",
      "syřané2\n",
      "ham \n",
      "firma syřané\n",
      "ham  syřané\n",
      "ham  chce\n",
      "syřané2á\n",
      "ham  syřané závodech\n",
      "ham  syřané si\n",
      "ham  syřané0\n",
      "ham  syřané závodech0\n",
      "ham  syřané závodech sněhem\n",
      "ham  syřané si firma\n",
      "ham  syřané závodech sněhemme\n",
      "ham  syřané závodech sněhemdají\n",
      "ham  syřané závodech00\n",
      "ham  syřané závodech sněhemme si\n",
      "ham  syřané závodech sněhemme sněhem\n",
      "ham  syřané závodech sněhemdají o\n",
      "ham  syřané závodech sněhemme si.\n",
      "ham  syřané závodech sněhemme sněhem a\n",
      "ham  syřané závodech sněhemme sněhem pro\n",
      "ham  syřané závodech sněhemme sněhem a podle\n",
      "ham  syřané závodech sněhemme sněhem a pro\n",
      "ham  syřané závodech sněhemme si. solidaritu\n",
      "ham  syřané závodech sněhemme sněhem a podle závodech\n",
      "ham  syřané závodech sněhemme sněhem a podle,\n",
      "ham  syřané závodech sněhemme si. solidaritu si\n",
      "ham  syřané závodech sněhemme sněhem a podle závodech sněhem\n",
      "ham  syřané závodech sněhemme si. solidaritu si je\n",
      "ham  syřané závodech sněhemme sněhem a podle závodech je\n",
      "ham  syřané závodech sněhemme si. solidaritu si je0\n",
      "ham  syřané závodech sněhemme sněhem a podle závodech je jak\n",
      "ham  syřané závodech sněhemme sněhem a podle závodech sněhem a\n",
      "ham  syřané závodech sněhemme sněhem a podle závodech je jak0\n",
      "ham  syřané závodech sněhemme sněhem a podle závodech je jakf\n",
      "ham  syřané závodech sněhemme si. solidaritu si je0 pro\n",
      "ham  syřané závodech sněhemme sněhem a podle závodech je jakfme\n",
      "ham  syřané závodech sněhemme sněhem a podle závodech je jak0 a\n",
      "ham  syřané závodech sněhemme sněhem a podle závodech je jak0 pro\n",
      "ham  syřané závodech sněhemme sněhem a podle závodech je jakfme zhruba\n",
      "ham  syřané závodech sněhemme sněhem a podle závodech je jakfmenat\n",
      "ham  syřané závodech sněhemme sněhem a podle závodech je jakfme z\n",
      "ham  syřané závodech sněhemme sněhem a podle závodech je jakfme zhruba \n",
      "ham  syřané závodech sněhemme sněhem a podle závodech je jakfme zhruba na\n",
      "ham  syřané závodech sněhemme sněhem a podle závodech je jakfme zhruba rakouský\n",
      "ham  syřané závodech sněhemme sněhem a podle závodech je jakfme zhruba 1\n",
      "ham  syřané závodech sněhemme sněhem a podle závodech je jakfme zhruba 3\n",
      "ham  syřané závodech sněhemme sněhem a podle závodech je jakfme zhruba nami\n",
      "ham  syřané závodech sněhemme sněhem a podle závodech je jakfme zhruba 10\n",
      "ham  syřané závodech sněhemme sněhem a podle závodech je jakfme zhruba 10\n",
      "ham  syřané závodech sněhemme sněhem a podle závodech je jakfme zhruba nami5\n",
      "ham  syřané závodech sněhemme sněhem a podle závodech je jakfme zhruba 100\n",
      "ham  syřané závodech sněhemme sněhem a podle závodech je jakfme zhruba 100\n",
      "ham  syřané závodech sněhemme sněhem a podle závodech je jakfme zhruba 10 syrských\n",
      "ham  syřané závodech sněhemme sněhem a podle závodech je jakfme zhruba 1000\n",
      "ham  syřané závodech sněhemme sněhem a podle závodech je jakfme zhruba 1000\n",
      "ham  syřané závodech sněhemme sněhem a podle závodech je jakfme zhruba 100 tisíc\n",
      "ham  syřané závodech sněhemme sněhem a podle závodech je jakfme zhruba 1000 sněhem\n",
      "ham  syřané závodech sněhemme sněhem a podle závodech je jakfme zhruba 1000 nabízí\n",
      "ham  syřané závodech sněhemme sněhem a podle závodech je jakfme zhruba 1000 nad\n",
      "ham  syřané závodech sněhemme sněhem a podle závodech je jakfme zhruba 1000 nabízí zhruba\n",
      "ham  syřané závodech sněhemme sněhem a podle závodech je jakfme zhruba 1000 sněhem potvrzují\n",
      "ham  syřané závodech sněhemme sněhem a podle závodech je jakfme zhruba 1000 nabízí0\n"
     ]
    }
   ],
   "metadata": {}
  },
  {
   "cell_type": "code",
   "execution_count": null,
   "source": [
    "[470]\n",
    " [ 15]]\n",
    "[[ 6660]\n",
    " [26550]]\n",
    "[[  14]\n",
    " [3683]]\n",
    "[[  5]\n",
    " [105]]\n",
    "[[ 5]\n",
    " [15]]\n",
    "[[   9]\n",
    " [5792]]\n",
    "[[102]\n",
    " [ 45]]\n",
    "[[  16]\n",
    " [9520]]\n",
    "[[6147]\n",
    " [  16]]\n",
    "[[  19]\n",
    " [3683]]\n",
    "[[ 15]\n",
    " [105]]\n",
    "[[74]\n",
    " [19]]\n",
    "[[  19]\n",
    " [3053]]\n",
    "[[5135]\n",
    " [  18]]\n",
    "[[9068]\n",
    " [1170]]\n",
    "[[4061]\n",
    " [ 574]]\n",
    "[[33]\n",
    " [ 2]]\n",
    "[[2]\n",
    " [0]]\n",
    "[[0]\n",
    " [0]]\n",
    "[[0]\n",
    " [0]]\n",
    "[[0]\n",
    " [0]]\n",
    "0 olomoucké nemocnice slaví 115 let. podívejte se, jak se měří lampiony\n",
    "[1.]"
   ],
   "outputs": [],
   "metadata": {}
  },
  {
   "cell_type": "code",
   "execution_count": 20,
   "source": [
    "pred_sentences_batch, a, u = model.beam_decode_batch(X_batch, X_batch_indeces_ext, 2, 2, False, block_unk=False)\n",
    "\n",
    "pred_sentences_batch = pred_sentences_batch.numpy()\n",
    "\n",
    "for i, sentence in enumerate(pred_sentences_batch):\n",
    "    print(i, model.indeces_to_words(X_batch[i], oov_vocabs[i], remove_paddings=False, model_file=\"sp_czechsum_50K_model.model\"))\n",
    "    print(i, model.indeces_to_words(y_batch[i], oov_vocabs[i], remove_paddings=False, model_file=\"sp_czechsum_50K_model.model\"))\n",
    "    print(i, model.indeces_to_words(sentence, oov_vocabs[i], remove_paddings=True, model_file=\"sp_czechsum_50K_model.model\"))\n",
    "    print(\"\")"
   ],
   "outputs": [
    {
     "output_type": "stream",
     "name": "stdout",
     "text": [
      "[[0.16507502 0.14679915]\n",
      " [0.13119218 0.11407856]]\n",
      "[29335    39]\n",
      "[306 448]\n",
      "[18 58]\n",
      "[ 539 2207]\n",
      "[2861  122]\n",
      "[407  58]\n",
      "[ 17 301]\n",
      "[333  58]\n",
      "[58 17]\n",
      "[15 19]\n",
      "[  58 3479]\n",
      "[19 17]\n",
      "[14 24]\n",
      "[ 5 80]\n",
      "[4 9]\n",
      "[   17 20215]\n",
      "[58 14]\n",
      "[19  5]\n",
      "[19  4]\n",
      "[ 182 8586]\n",
      "[ 58 142]\n",
      "0 potravinářská firma hamé nabízí zajištění ubytování a práci ve svých závodech pro zhruba deset syrských rodin. v budoucnu by se počty mohly zvýšit, uvedla v pondělí společnost v tiskové zprávě. syřané si podle firmy azyl v česku zaslouží.\n",
      "0 máme ubytování i práci pro deset syrských rodin, nabídlo hamé pomoc\n",
      "0 syřané potah\n",
      "\n",
      "1 hypermoderní lyžařská aréna silvretta nad rakouským ischglem hýčká své návštěvníky 200 kilometry sjezdovek a lanovkami s koženým potahem. ovšem nejde jen o luxus, jak potvrzují zdejší terény. bezmála třítisícové vrcholky dobře zásobené sněhem jsou bezednou studnou freeridu.\n",
      "1 ischgl tisíc a jeden freeride\n",
      "1 free zprávy\n",
      "\n"
     ]
    }
   ],
   "metadata": {}
  },
  {
   "cell_type": "code",
   "execution_count": null,
   "source": [
    "#15 americká společnost dell computer se stala největším výrobcem osobních počítačů na světě a na druhé místo tak odsunula firmu hewlettpackard. dell se tak vrátil zpět na první příčku, kde byl už loni ve třetím čtvrtletí i před fúzí firem hewlettpackard a compa ⁇  computer.\n",
    "#15 dell je největším světovým výrobcem pc ⁇  odsunul firmu hewlett\n",
    "#15 dell opouští hp, dell oznámí zprávy o světové válce"
   ],
   "outputs": [],
   "metadata": {}
  },
  {
   "cell_type": "markdown",
   "source": [
    "# dirty validation without beam search"
   ],
   "metadata": {}
  },
  {
   "cell_type": "code",
   "execution_count": 18,
   "source": [
    "total_val_batches = len(val_data) // BATCH_SIZE\n",
    "val_epoch_loss = 0\n",
    "rouge_scores = []\n",
    "predictions = []\n",
    "oov_vocabs = []\n",
    "x = []\n",
    "y = []\n",
    "losses = []\n",
    "\n",
    "for batch_i in range(0, total_val_batches):\n",
    "\n",
    "  X_batch, X_batch_indeces_ext, _, y_batch, max_oov, oov_vocab = model._get_batch(batch_i, val_data)\n",
    "                                        \n",
    "  loss, rouge, preds = model.evaluate(X_batch, y_batch, X_batch_indeces_ext, max_oov, use_coverage=False, compute_rouge=True)\n",
    "  \n",
    "  losses.append(loss.numpy())\n",
    "  rouge_scores.append(rouge.numpy())\n",
    "  predictions.append(preds.numpy())\n",
    "  oov_vocabs.append(oov_vocab)\n",
    "  x.append(X_batch_indeces_ext)\n",
    "  y.append(y_batch)\n",
    "\n",
    "  print(f\"\\r{batch_i}/{total_val_batches}\", end=\"\")\n",
    "  #print(rouge)\n",
    "\n"
   ],
   "outputs": [
    {
     "output_type": "stream",
     "name": "stdout",
     "text": [
      "0/1671WARNING:tensorflow:Unresolved object in checkpoint: (root).lstm.cell.state_size\n",
      "WARNING:tensorflow:A checkpoint was restored (e.g. tf.train.Checkpoint.restore or tf.keras.Model.load_weights) but not all checkpointed values were used. See above for specific issues. Use expect_partial() on the load status object, e.g. tf.train.Checkpoint.restore(...).expect_partial(), to silence these warnings, or use assert_consumed() to make the check explicit. See https://www.tensorflow.org/guide/checkpoint#loading_mechanics for details.\n",
      "WARNING:tensorflow:Unresolved object in checkpoint: (root).bilstm.forward_layer.cell.state_size\n",
      "WARNING:tensorflow:Unresolved object in checkpoint: (root).bilstm.backward_layer.cell.state_size\n",
      "WARNING:tensorflow:A checkpoint was restored (e.g. tf.train.Checkpoint.restore or tf.keras.Model.load_weights) but not all checkpointed values were used. See above for specific issues. Use expect_partial() on the load status object, e.g. tf.train.Checkpoint.restore(...).expect_partial(), to silence these warnings, or use assert_consumed() to make the check explicit. See https://www.tensorflow.org/guide/checkpoint#loading_mechanics for details.\n",
      "5/1671"
     ]
    },
    {
     "output_type": "error",
     "ename": "KeyboardInterrupt",
     "evalue": "",
     "traceback": [
      "\u001b[0;31m---------------------------------------------------------------------------\u001b[0m",
      "\u001b[0;31mKeyboardInterrupt\u001b[0m                         Traceback (most recent call last)",
      "\u001b[0;32m<ipython-input-18-fe98bdd58162>\u001b[0m in \u001b[0;36m<module>\u001b[0;34m\u001b[0m\n\u001b[1;32m     12\u001b[0m   \u001b[0mX_batch\u001b[0m\u001b[0;34m,\u001b[0m \u001b[0mX_batch_indeces_ext\u001b[0m\u001b[0;34m,\u001b[0m \u001b[0m_\u001b[0m\u001b[0;34m,\u001b[0m \u001b[0my_batch\u001b[0m\u001b[0;34m,\u001b[0m \u001b[0mmax_oov\u001b[0m\u001b[0;34m,\u001b[0m \u001b[0moov_vocab\u001b[0m \u001b[0;34m=\u001b[0m \u001b[0mmodel\u001b[0m\u001b[0;34m.\u001b[0m\u001b[0m_get_batch\u001b[0m\u001b[0;34m(\u001b[0m\u001b[0mbatch_i\u001b[0m\u001b[0;34m,\u001b[0m \u001b[0mval_data\u001b[0m\u001b[0;34m)\u001b[0m\u001b[0;34m\u001b[0m\u001b[0;34m\u001b[0m\u001b[0m\n\u001b[1;32m     13\u001b[0m \u001b[0;34m\u001b[0m\u001b[0m\n\u001b[0;32m---> 14\u001b[0;31m   \u001b[0mloss\u001b[0m\u001b[0;34m,\u001b[0m \u001b[0mrouge\u001b[0m\u001b[0;34m,\u001b[0m \u001b[0mpreds\u001b[0m \u001b[0;34m=\u001b[0m \u001b[0mmodel\u001b[0m\u001b[0;34m.\u001b[0m\u001b[0mevaluate\u001b[0m\u001b[0;34m(\u001b[0m\u001b[0mX_batch\u001b[0m\u001b[0;34m,\u001b[0m \u001b[0my_batch\u001b[0m\u001b[0;34m,\u001b[0m \u001b[0mX_batch_indeces_ext\u001b[0m\u001b[0;34m,\u001b[0m \u001b[0mmax_oov\u001b[0m\u001b[0;34m,\u001b[0m \u001b[0muse_coverage\u001b[0m\u001b[0;34m=\u001b[0m\u001b[0;32mFalse\u001b[0m\u001b[0;34m,\u001b[0m \u001b[0mcompute_rouge\u001b[0m\u001b[0;34m=\u001b[0m\u001b[0;32mTrue\u001b[0m\u001b[0;34m)\u001b[0m\u001b[0;34m\u001b[0m\u001b[0;34m\u001b[0m\u001b[0m\n\u001b[0m\u001b[1;32m     15\u001b[0m \u001b[0;34m\u001b[0m\u001b[0m\n\u001b[1;32m     16\u001b[0m   \u001b[0mlosses\u001b[0m\u001b[0;34m.\u001b[0m\u001b[0mappend\u001b[0m\u001b[0;34m(\u001b[0m\u001b[0mloss\u001b[0m\u001b[0;34m.\u001b[0m\u001b[0mnumpy\u001b[0m\u001b[0;34m(\u001b[0m\u001b[0;34m)\u001b[0m\u001b[0;34m)\u001b[0m\u001b[0;34m\u001b[0m\u001b[0;34m\u001b[0m\u001b[0m\n",
      "\u001b[0;32m~/dev/nlp_text_summarization/model.py\u001b[0m in \u001b[0;36mevaluate\u001b[0;34m(self, X, y, X_batch_indeces_ext, max_oov, use_coverage, compute_rouge, return_preds)\u001b[0m\n\u001b[1;32m    528\u001b[0m         \u001b[0mloss\u001b[0m \u001b[0;34m=\u001b[0m \u001b[0mself\u001b[0m\u001b[0;34m.\u001b[0m\u001b[0m_masked_average\u001b[0m\u001b[0;34m(\u001b[0m\u001b[0mlosses\u001b[0m\u001b[0;34m[\u001b[0m\u001b[0;34m:\u001b[0m\u001b[0;34m,\u001b[0m \u001b[0;36m1\u001b[0m\u001b[0;34m:\u001b[0m\u001b[0;34m]\u001b[0m\u001b[0;34m,\u001b[0m \u001b[0my_mask\u001b[0m\u001b[0;34m)\u001b[0m\u001b[0;34m\u001b[0m\u001b[0;34m\u001b[0m\u001b[0m\n\u001b[1;32m    529\u001b[0m \u001b[0;34m\u001b[0m\u001b[0m\n\u001b[0;32m--> 530\u001b[0;31m         \u001b[0;32mif\u001b[0m \u001b[0mcompute_rouge\u001b[0m\u001b[0;34m:\u001b[0m \u001b[0mrouge\u001b[0m \u001b[0;34m=\u001b[0m \u001b[0mtf_rouge_l\u001b[0m\u001b[0;34m(\u001b[0m\u001b[0mpreds\u001b[0m\u001b[0;34m[\u001b[0m\u001b[0;34m:\u001b[0m\u001b[0;34m,\u001b[0m \u001b[0;36m1\u001b[0m\u001b[0;34m:\u001b[0m\u001b[0;34m]\u001b[0m\u001b[0;34m,\u001b[0m \u001b[0my\u001b[0m\u001b[0;34m,\u001b[0m \u001b[0;36m2\u001b[0m\u001b[0;34m)\u001b[0m\u001b[0;34m\u001b[0m\u001b[0;34m\u001b[0m\u001b[0m\n\u001b[0m\u001b[1;32m    531\u001b[0m \u001b[0;34m\u001b[0m\u001b[0m\n\u001b[1;32m    532\u001b[0m         \u001b[0;32mif\u001b[0m \u001b[0muse_coverage\u001b[0m\u001b[0;34m:\u001b[0m\u001b[0;34m\u001b[0m\u001b[0;34m\u001b[0m\u001b[0m\n",
      "\u001b[0;32m~/dev/nlp_text_summarization/tfrouge.py\u001b[0m in \u001b[0;36mtf_rouge_l\u001b[0;34m(hyp_t, ref_t, end_id)\u001b[0m\n\u001b[1;32m     74\u001b[0m     \u001b[0mcond\u001b[0m\u001b[0;34m=\u001b[0m\u001b[0;32mlambda\u001b[0m \u001b[0mk\u001b[0m\u001b[0;34m,\u001b[0m \u001b[0;34m*\u001b[0m\u001b[0m_\u001b[0m\u001b[0;34m:\u001b[0m \u001b[0mk\u001b[0m\u001b[0;34m<\u001b[0m\u001b[0mbatch_size\u001b[0m\u001b[0;34m,\u001b[0m\u001b[0;34m\u001b[0m\u001b[0;34m\u001b[0m\u001b[0m\n\u001b[1;32m     75\u001b[0m     \u001b[0mbody\u001b[0m\u001b[0;34m=\u001b[0m\u001b[0m_step\u001b[0m\u001b[0;34m,\u001b[0m\u001b[0;34m\u001b[0m\u001b[0;34m\u001b[0m\u001b[0m\n\u001b[0;32m---> 76\u001b[0;31m     loop_vars=[k, total_rouge])\n\u001b[0m\u001b[1;32m     77\u001b[0m     \u001b[0;31m# get average ROUGE-L values\u001b[0m\u001b[0;34m\u001b[0m\u001b[0;34m\u001b[0m\u001b[0;34m\u001b[0m\u001b[0m\n\u001b[1;32m     78\u001b[0m     \u001b[0mrouge\u001b[0m \u001b[0;34m=\u001b[0m \u001b[0mtotal_rouge\u001b[0m \u001b[0;34m/\u001b[0m \u001b[0mtf\u001b[0m\u001b[0;34m.\u001b[0m\u001b[0mcast\u001b[0m\u001b[0;34m(\u001b[0m\u001b[0mbatch_size\u001b[0m\u001b[0;34m,\u001b[0m \u001b[0mtf\u001b[0m\u001b[0;34m.\u001b[0m\u001b[0mfloat32\u001b[0m\u001b[0;34m)\u001b[0m\u001b[0;34m\u001b[0m\u001b[0;34m\u001b[0m\u001b[0m\n",
      "\u001b[0;32m~/anaconda3/envs/ml/lib/python3.7/site-packages/tensorflow_core/python/ops/control_flow_ops.py\u001b[0m in \u001b[0;36mwhile_loop_v2\u001b[0;34m(cond, body, loop_vars, shape_invariants, parallel_iterations, back_prop, swap_memory, maximum_iterations, name)\u001b[0m\n\u001b[1;32m   2476\u001b[0m       \u001b[0mname\u001b[0m\u001b[0;34m=\u001b[0m\u001b[0mname\u001b[0m\u001b[0;34m,\u001b[0m\u001b[0;34m\u001b[0m\u001b[0;34m\u001b[0m\u001b[0m\n\u001b[1;32m   2477\u001b[0m       \u001b[0mmaximum_iterations\u001b[0m\u001b[0;34m=\u001b[0m\u001b[0mmaximum_iterations\u001b[0m\u001b[0;34m,\u001b[0m\u001b[0;34m\u001b[0m\u001b[0;34m\u001b[0m\u001b[0m\n\u001b[0;32m-> 2478\u001b[0;31m       return_same_structure=True)\n\u001b[0m\u001b[1;32m   2479\u001b[0m \u001b[0;34m\u001b[0m\u001b[0m\n\u001b[1;32m   2480\u001b[0m \u001b[0;34m\u001b[0m\u001b[0m\n",
      "\u001b[0;32m~/anaconda3/envs/ml/lib/python3.7/site-packages/tensorflow_core/python/ops/control_flow_ops.py\u001b[0m in \u001b[0;36mwhile_loop\u001b[0;34m(cond, body, loop_vars, shape_invariants, parallel_iterations, back_prop, swap_memory, name, maximum_iterations, return_same_structure)\u001b[0m\n\u001b[1;32m   2712\u001b[0m                                               list(loop_vars))\n\u001b[1;32m   2713\u001b[0m       \u001b[0;32mwhile\u001b[0m \u001b[0mcond\u001b[0m\u001b[0;34m(\u001b[0m\u001b[0;34m*\u001b[0m\u001b[0mloop_vars\u001b[0m\u001b[0;34m)\u001b[0m\u001b[0;34m:\u001b[0m\u001b[0;34m\u001b[0m\u001b[0;34m\u001b[0m\u001b[0m\n\u001b[0;32m-> 2714\u001b[0;31m         \u001b[0mloop_vars\u001b[0m \u001b[0;34m=\u001b[0m \u001b[0mbody\u001b[0m\u001b[0;34m(\u001b[0m\u001b[0;34m*\u001b[0m\u001b[0mloop_vars\u001b[0m\u001b[0;34m)\u001b[0m\u001b[0;34m\u001b[0m\u001b[0;34m\u001b[0m\u001b[0m\n\u001b[0m\u001b[1;32m   2715\u001b[0m         \u001b[0;32mif\u001b[0m \u001b[0mtry_to_pack\u001b[0m \u001b[0;32mand\u001b[0m \u001b[0;32mnot\u001b[0m \u001b[0misinstance\u001b[0m\u001b[0;34m(\u001b[0m\u001b[0mloop_vars\u001b[0m\u001b[0;34m,\u001b[0m \u001b[0;34m(\u001b[0m\u001b[0mlist\u001b[0m\u001b[0;34m,\u001b[0m \u001b[0m_basetuple\u001b[0m\u001b[0;34m)\u001b[0m\u001b[0;34m)\u001b[0m\u001b[0;34m:\u001b[0m\u001b[0;34m\u001b[0m\u001b[0;34m\u001b[0m\u001b[0m\n\u001b[1;32m   2716\u001b[0m           \u001b[0mpacked\u001b[0m \u001b[0;34m=\u001b[0m \u001b[0;32mTrue\u001b[0m\u001b[0;34m\u001b[0m\u001b[0;34m\u001b[0m\u001b[0m\n",
      "\u001b[0;32m~/dev/nlp_text_summarization/tfrouge.py\u001b[0m in \u001b[0;36m_step\u001b[0;34m(k, total_rouge)\u001b[0m\n\u001b[1;32m     66\u001b[0m     \u001b[0;32mdef\u001b[0m \u001b[0m_step\u001b[0m\u001b[0;34m(\u001b[0m\u001b[0mk\u001b[0m\u001b[0;34m,\u001b[0m \u001b[0mtotal_rouge\u001b[0m\u001b[0;34m)\u001b[0m\u001b[0;34m:\u001b[0m\u001b[0;34m\u001b[0m\u001b[0;34m\u001b[0m\u001b[0m\n\u001b[1;32m     67\u001b[0m         \u001b[0;31m# calculate ROUGE-L for every element\u001b[0m\u001b[0;34m\u001b[0m\u001b[0;34m\u001b[0m\u001b[0;34m\u001b[0m\u001b[0m\n\u001b[0;32m---> 68\u001b[0;31m         \u001b[0mllcs\u001b[0m \u001b[0;34m=\u001b[0m \u001b[0m_tf_len_lcs\u001b[0m\u001b[0;34m(\u001b[0m\u001b[0mhyp_t\u001b[0m\u001b[0;34m[\u001b[0m\u001b[0mk\u001b[0m\u001b[0;34m]\u001b[0m\u001b[0;34m,\u001b[0m \u001b[0mref_t\u001b[0m\u001b[0;34m[\u001b[0m\u001b[0mk\u001b[0m\u001b[0;34m]\u001b[0m\u001b[0;34m,\u001b[0m \u001b[0mm\u001b[0m\u001b[0;34m[\u001b[0m\u001b[0mk\u001b[0m\u001b[0;34m]\u001b[0m\u001b[0;34m,\u001b[0m \u001b[0mn\u001b[0m\u001b[0;34m[\u001b[0m\u001b[0mk\u001b[0m\u001b[0;34m]\u001b[0m\u001b[0;34m)\u001b[0m\u001b[0;34m\u001b[0m\u001b[0;34m\u001b[0m\u001b[0m\n\u001b[0m\u001b[1;32m     69\u001b[0m         \u001b[0mres\u001b[0m \u001b[0;34m=\u001b[0m \u001b[0m_f_p_r_lcs\u001b[0m\u001b[0;34m(\u001b[0m\u001b[0mllcs\u001b[0m\u001b[0;34m,\u001b[0m \u001b[0mm\u001b[0m\u001b[0;34m[\u001b[0m\u001b[0mk\u001b[0m\u001b[0;34m]\u001b[0m\u001b[0;34m,\u001b[0m \u001b[0mn\u001b[0m\u001b[0;34m[\u001b[0m\u001b[0mk\u001b[0m\u001b[0;34m]\u001b[0m\u001b[0;34m)\u001b[0m\u001b[0;34m\u001b[0m\u001b[0;34m\u001b[0m\u001b[0m\n\u001b[1;32m     70\u001b[0m         \u001b[0mres\u001b[0m \u001b[0;34m=\u001b[0m \u001b[0mtf\u001b[0m\u001b[0;34m.\u001b[0m\u001b[0mcast\u001b[0m\u001b[0;34m(\u001b[0m\u001b[0mres\u001b[0m\u001b[0;34m,\u001b[0m \u001b[0mtf\u001b[0m\u001b[0;34m.\u001b[0m\u001b[0mfloat32\u001b[0m\u001b[0;34m)\u001b[0m\u001b[0;34m\u001b[0m\u001b[0;34m\u001b[0m\u001b[0m\n",
      "\u001b[0;32m~/dev/nlp_text_summarization/tfrouge.py\u001b[0m in \u001b[0;36m_tf_len_lcs\u001b[0;34m(x, y, m, n)\u001b[0m\n\u001b[1;32m    112\u001b[0m       \u001b[0;36m0\u001b[0m\u001b[0;34m-\u001b[0m\u001b[0mD\u001b[0m \u001b[0mTensor\u001b[0m\u001b[0;34m.\u001b[0m \u001b[0mLength\u001b[0m \u001b[0mof\u001b[0m \u001b[0mLCS\u001b[0m\u001b[0;34m\u001b[0m\u001b[0;34m\u001b[0m\u001b[0m\n\u001b[1;32m    113\u001b[0m     \"\"\"\n\u001b[0;32m--> 114\u001b[0;31m     \u001b[0mtable\u001b[0m \u001b[0;34m=\u001b[0m \u001b[0m_tf_lcs\u001b[0m\u001b[0;34m(\u001b[0m\u001b[0mx\u001b[0m\u001b[0;34m,\u001b[0m \u001b[0my\u001b[0m\u001b[0;34m,\u001b[0m \u001b[0mm\u001b[0m\u001b[0;34m,\u001b[0m \u001b[0mn\u001b[0m\u001b[0;34m)\u001b[0m\u001b[0;34m\u001b[0m\u001b[0;34m\u001b[0m\u001b[0m\n\u001b[0m\u001b[1;32m    115\u001b[0m     \u001b[0;32mreturn\u001b[0m \u001b[0mtable\u001b[0m\u001b[0;34m[\u001b[0m\u001b[0mm\u001b[0m\u001b[0;34m,\u001b[0m \u001b[0mn\u001b[0m\u001b[0;34m]\u001b[0m\u001b[0;34m\u001b[0m\u001b[0;34m\u001b[0m\u001b[0m\n\u001b[1;32m    116\u001b[0m \u001b[0;34m\u001b[0m\u001b[0m\n",
      "\u001b[0;32m~/dev/nlp_text_summarization/tfrouge.py\u001b[0m in \u001b[0;36m_tf_lcs\u001b[0;34m(x, y, m, n)\u001b[0m\n\u001b[1;32m    148\u001b[0m     \u001b[0mcond\u001b[0m\u001b[0;34m=\u001b[0m\u001b[0;32mlambda\u001b[0m \u001b[0mk\u001b[0m\u001b[0;34m,\u001b[0m \u001b[0;34m*\u001b[0m\u001b[0m_\u001b[0m\u001b[0;34m:\u001b[0m \u001b[0mk\u001b[0m\u001b[0;34m<\u001b[0m\u001b[0mtable_size\u001b[0m\u001b[0;34m,\u001b[0m\u001b[0;34m\u001b[0m\u001b[0;34m\u001b[0m\u001b[0m\n\u001b[1;32m    149\u001b[0m     \u001b[0mbody\u001b[0m\u001b[0;34m=\u001b[0m\u001b[0mloop_step\u001b[0m\u001b[0;34m,\u001b[0m\u001b[0;34m\u001b[0m\u001b[0;34m\u001b[0m\u001b[0m\n\u001b[0;32m--> 150\u001b[0;31m     loop_vars=[k, table])\n\u001b[0m\u001b[1;32m    151\u001b[0m     \u001b[0;31m# stack and reshape table to 2d shape\u001b[0m\u001b[0;34m\u001b[0m\u001b[0;34m\u001b[0m\u001b[0;34m\u001b[0m\u001b[0m\n\u001b[1;32m    152\u001b[0m     \u001b[0mtable\u001b[0m \u001b[0;34m=\u001b[0m \u001b[0mtf\u001b[0m\u001b[0;34m.\u001b[0m\u001b[0mreshape\u001b[0m\u001b[0;34m(\u001b[0m\u001b[0mtable\u001b[0m\u001b[0;34m.\u001b[0m\u001b[0mstack\u001b[0m\u001b[0;34m(\u001b[0m\u001b[0;34m)\u001b[0m\u001b[0;34m,\u001b[0m \u001b[0;34m[\u001b[0m\u001b[0mm\u001b[0m\u001b[0;34m+\u001b[0m\u001b[0;36m1\u001b[0m\u001b[0;34m,\u001b[0m\u001b[0mn\u001b[0m\u001b[0;34m+\u001b[0m\u001b[0;36m1\u001b[0m\u001b[0;34m]\u001b[0m\u001b[0;34m)\u001b[0m\u001b[0;34m\u001b[0m\u001b[0;34m\u001b[0m\u001b[0m\n",
      "\u001b[0;32m~/anaconda3/envs/ml/lib/python3.7/site-packages/tensorflow_core/python/ops/control_flow_ops.py\u001b[0m in \u001b[0;36mwhile_loop_v2\u001b[0;34m(cond, body, loop_vars, shape_invariants, parallel_iterations, back_prop, swap_memory, maximum_iterations, name)\u001b[0m\n\u001b[1;32m   2476\u001b[0m       \u001b[0mname\u001b[0m\u001b[0;34m=\u001b[0m\u001b[0mname\u001b[0m\u001b[0;34m,\u001b[0m\u001b[0;34m\u001b[0m\u001b[0;34m\u001b[0m\u001b[0m\n\u001b[1;32m   2477\u001b[0m       \u001b[0mmaximum_iterations\u001b[0m\u001b[0;34m=\u001b[0m\u001b[0mmaximum_iterations\u001b[0m\u001b[0;34m,\u001b[0m\u001b[0;34m\u001b[0m\u001b[0;34m\u001b[0m\u001b[0m\n\u001b[0;32m-> 2478\u001b[0;31m       return_same_structure=True)\n\u001b[0m\u001b[1;32m   2479\u001b[0m \u001b[0;34m\u001b[0m\u001b[0m\n\u001b[1;32m   2480\u001b[0m \u001b[0;34m\u001b[0m\u001b[0m\n",
      "\u001b[0;32m~/anaconda3/envs/ml/lib/python3.7/site-packages/tensorflow_core/python/ops/control_flow_ops.py\u001b[0m in \u001b[0;36mwhile_loop\u001b[0;34m(cond, body, loop_vars, shape_invariants, parallel_iterations, back_prop, swap_memory, name, maximum_iterations, return_same_structure)\u001b[0m\n\u001b[1;32m   2712\u001b[0m                                               list(loop_vars))\n\u001b[1;32m   2713\u001b[0m       \u001b[0;32mwhile\u001b[0m \u001b[0mcond\u001b[0m\u001b[0;34m(\u001b[0m\u001b[0;34m*\u001b[0m\u001b[0mloop_vars\u001b[0m\u001b[0;34m)\u001b[0m\u001b[0;34m:\u001b[0m\u001b[0;34m\u001b[0m\u001b[0;34m\u001b[0m\u001b[0m\n\u001b[0;32m-> 2714\u001b[0;31m         \u001b[0mloop_vars\u001b[0m \u001b[0;34m=\u001b[0m \u001b[0mbody\u001b[0m\u001b[0;34m(\u001b[0m\u001b[0;34m*\u001b[0m\u001b[0mloop_vars\u001b[0m\u001b[0;34m)\u001b[0m\u001b[0;34m\u001b[0m\u001b[0;34m\u001b[0m\u001b[0m\n\u001b[0m\u001b[1;32m   2715\u001b[0m         \u001b[0;32mif\u001b[0m \u001b[0mtry_to_pack\u001b[0m \u001b[0;32mand\u001b[0m \u001b[0;32mnot\u001b[0m \u001b[0misinstance\u001b[0m\u001b[0;34m(\u001b[0m\u001b[0mloop_vars\u001b[0m\u001b[0;34m,\u001b[0m \u001b[0;34m(\u001b[0m\u001b[0mlist\u001b[0m\u001b[0;34m,\u001b[0m \u001b[0m_basetuple\u001b[0m\u001b[0;34m)\u001b[0m\u001b[0;34m)\u001b[0m\u001b[0;34m:\u001b[0m\u001b[0;34m\u001b[0m\u001b[0;34m\u001b[0m\u001b[0m\n\u001b[1;32m   2716\u001b[0m           \u001b[0mpacked\u001b[0m \u001b[0;34m=\u001b[0m \u001b[0;32mTrue\u001b[0m\u001b[0;34m\u001b[0m\u001b[0;34m\u001b[0m\u001b[0m\n",
      "\u001b[0;32m~/dev/nlp_text_summarization/tfrouge.py\u001b[0m in \u001b[0;36mloop_step\u001b[0;34m(k, table)\u001b[0m\n\u001b[1;32m    135\u001b[0m         \u001b[0;31m# get col and row index at current step (table is a 1d array but we treat it as a 2d array)\u001b[0m\u001b[0;34m\u001b[0m\u001b[0;34m\u001b[0m\u001b[0;34m\u001b[0m\u001b[0m\n\u001b[1;32m    136\u001b[0m         \u001b[0mj\u001b[0m \u001b[0;34m=\u001b[0m \u001b[0mtf\u001b[0m\u001b[0;34m.\u001b[0m\u001b[0mcast\u001b[0m\u001b[0;34m(\u001b[0m\u001b[0mk\u001b[0m \u001b[0;34m%\u001b[0m \u001b[0;34m(\u001b[0m\u001b[0mn\u001b[0m\u001b[0;34m+\u001b[0m\u001b[0;36m1\u001b[0m\u001b[0;34m)\u001b[0m\u001b[0;34m,\u001b[0m \u001b[0mtf\u001b[0m\u001b[0;34m.\u001b[0m\u001b[0mint32\u001b[0m\u001b[0;34m)\u001b[0m\u001b[0;34m\u001b[0m\u001b[0;34m\u001b[0m\u001b[0m\n\u001b[0;32m--> 137\u001b[0;31m         \u001b[0mi\u001b[0m \u001b[0;34m=\u001b[0m \u001b[0mtf\u001b[0m\u001b[0;34m.\u001b[0m\u001b[0mcast\u001b[0m\u001b[0;34m(\u001b[0m\u001b[0;34m(\u001b[0m\u001b[0mk\u001b[0m \u001b[0;34m-\u001b[0m \u001b[0mj\u001b[0m\u001b[0;34m)\u001b[0m \u001b[0;34m/\u001b[0m \u001b[0;34m(\u001b[0m\u001b[0mn\u001b[0m\u001b[0;34m+\u001b[0m\u001b[0;36m1\u001b[0m\u001b[0;34m)\u001b[0m\u001b[0;34m,\u001b[0m \u001b[0mtf\u001b[0m\u001b[0;34m.\u001b[0m\u001b[0mint32\u001b[0m\u001b[0;34m)\u001b[0m\u001b[0;34m\u001b[0m\u001b[0;34m\u001b[0m\u001b[0m\n\u001b[0m\u001b[1;32m    138\u001b[0m         \u001b[0;31m# get and write value for current index\u001b[0m\u001b[0;34m\u001b[0m\u001b[0;34m\u001b[0m\u001b[0;34m\u001b[0m\u001b[0m\n\u001b[1;32m    139\u001b[0m         val = tf.cond(tf.logical_or(tf.equal(i,0),tf.equal(j,0)),\n",
      "\u001b[0;32m~/anaconda3/envs/ml/lib/python3.7/site-packages/tensorflow_core/python/ops/math_ops.py\u001b[0m in \u001b[0;36mr_binary_op_wrapper\u001b[0;34m(y, x)\u001b[0m\n\u001b[1;32m    924\u001b[0m \u001b[0;34m\u001b[0m\u001b[0m\n\u001b[1;32m    925\u001b[0m   \u001b[0;32mdef\u001b[0m \u001b[0mr_binary_op_wrapper\u001b[0m\u001b[0;34m(\u001b[0m\u001b[0my\u001b[0m\u001b[0;34m,\u001b[0m \u001b[0mx\u001b[0m\u001b[0;34m)\u001b[0m\u001b[0;34m:\u001b[0m\u001b[0;34m\u001b[0m\u001b[0;34m\u001b[0m\u001b[0m\n\u001b[0;32m--> 926\u001b[0;31m     \u001b[0;32mwith\u001b[0m \u001b[0mops\u001b[0m\u001b[0;34m.\u001b[0m\u001b[0mname_scope\u001b[0m\u001b[0;34m(\u001b[0m\u001b[0;32mNone\u001b[0m\u001b[0;34m,\u001b[0m \u001b[0mop_name\u001b[0m\u001b[0;34m,\u001b[0m \u001b[0;34m[\u001b[0m\u001b[0mx\u001b[0m\u001b[0;34m,\u001b[0m \u001b[0my\u001b[0m\u001b[0;34m]\u001b[0m\u001b[0;34m)\u001b[0m \u001b[0;32mas\u001b[0m \u001b[0mname\u001b[0m\u001b[0;34m:\u001b[0m\u001b[0;34m\u001b[0m\u001b[0;34m\u001b[0m\u001b[0m\n\u001b[0m\u001b[1;32m    927\u001b[0m       \u001b[0mx\u001b[0m \u001b[0;34m=\u001b[0m \u001b[0mops\u001b[0m\u001b[0;34m.\u001b[0m\u001b[0mconvert_to_tensor\u001b[0m\u001b[0;34m(\u001b[0m\u001b[0mx\u001b[0m\u001b[0;34m,\u001b[0m \u001b[0mdtype\u001b[0m\u001b[0;34m=\u001b[0m\u001b[0my\u001b[0m\u001b[0;34m.\u001b[0m\u001b[0mdtype\u001b[0m\u001b[0;34m.\u001b[0m\u001b[0mbase_dtype\u001b[0m\u001b[0;34m,\u001b[0m \u001b[0mname\u001b[0m\u001b[0;34m=\u001b[0m\u001b[0;34m\"x\"\u001b[0m\u001b[0;34m)\u001b[0m\u001b[0;34m\u001b[0m\u001b[0;34m\u001b[0m\u001b[0m\n\u001b[1;32m    928\u001b[0m       \u001b[0;32mreturn\u001b[0m \u001b[0mfunc\u001b[0m\u001b[0;34m(\u001b[0m\u001b[0mx\u001b[0m\u001b[0;34m,\u001b[0m \u001b[0my\u001b[0m\u001b[0;34m,\u001b[0m \u001b[0mname\u001b[0m\u001b[0;34m=\u001b[0m\u001b[0mname\u001b[0m\u001b[0;34m)\u001b[0m\u001b[0;34m\u001b[0m\u001b[0;34m\u001b[0m\u001b[0m\n",
      "\u001b[0;32m~/anaconda3/envs/ml/lib/python3.7/site-packages/tensorflow_core/python/framework/ops.py\u001b[0m in \u001b[0;36m__enter__\u001b[0;34m(self)\u001b[0m\n\u001b[1;32m   6373\u001b[0m     \u001b[0;32mreturn\u001b[0m \u001b[0mself\u001b[0m\u001b[0;34m.\u001b[0m\u001b[0m_name\u001b[0m\u001b[0;34m\u001b[0m\u001b[0;34m\u001b[0m\u001b[0m\n\u001b[1;32m   6374\u001b[0m \u001b[0;34m\u001b[0m\u001b[0m\n\u001b[0;32m-> 6375\u001b[0;31m   \u001b[0;32mdef\u001b[0m \u001b[0m__enter__\u001b[0m\u001b[0;34m(\u001b[0m\u001b[0mself\u001b[0m\u001b[0;34m)\u001b[0m\u001b[0;34m:\u001b[0m\u001b[0;34m\u001b[0m\u001b[0;34m\u001b[0m\u001b[0m\n\u001b[0m\u001b[1;32m   6376\u001b[0m     \"\"\"Start the scope block.\n\u001b[1;32m   6377\u001b[0m \u001b[0;34m\u001b[0m\u001b[0m\n",
      "\u001b[0;31mKeyboardInterrupt\u001b[0m: "
     ]
    }
   ],
   "metadata": {}
  },
  {
   "cell_type": "code",
   "execution_count": 27,
   "source": [
    "b = 5\n",
    "\n",
    "t = [[] for _ in range(BATCH_SIZE)]\n",
    "\n",
    "for i in range(len(x[b])): \n",
    "  t[x[b][i, 0]].append(x[b][i, 1])\n",
    "\n",
    "text = [fix_text(model.indeces_to_words(seq, oov_vocab, remove_paddings=True)) for seq, oov_vocab in zip(t, oov_vocabs[b])]\n",
    "y_summ = [fix_text(model.indeces_to_words(seq, oov_vocab, remove_paddings=True)) for seq, oov_vocab in zip(y[b], oov_vocabs[b])]\n",
    "y_hat_summ = [fix_text(model.indeces_to_words(seq, oov_vocab, remove_paddings=True)) for seq, oov_vocab in zip(predictions[b], oov_vocabs[b])]\n",
    "\n",
    "\n",
    "for i in range(len(y)):\n",
    "  print(\"x:\", text[i])\n",
    "  print(\"\")\n",
    "  print(\"gold:\", y_summ[i])\n",
    "  print(\"\")\n",
    "  print(\"pred:\", y_hat_summ[i])\n",
    "  #print(rouge_scores[0][i])\n",
    "  print(\"------------------------------------\\n\")\n",
    "\n",
    "print(rouge_scores[b])"
   ],
   "outputs": [
    {
     "output_type": "stream",
     "name": "stdout",
     "text": [
      "x: Glasgow warriors will hope their nine returning scotland internationals will be fired up by thoughts of revenge as they take on leinster on friday night. Stuart hogg, tommy seymour, mark bennett, finn russell, fraser brown, tim swinson and rob harley have been named in the starting xv for the guinness pro12 clash, while jonny gray and adam ashe both start on the bench at the rds arena. All nine featured for the dark blues as they ended their rbs 6 nations with a fifth and final defeat to ireland last sunday. Stuart hogg right looks dejected as scotland are beaten by ireland in their final six nations match. But they will have extra motivation for their club return as they take on a leinster outfit that features seven of joe schmidt's victorious side from murrayfield in their matchday 23. Ian madigan, eoin reddan, marty moore and jordi murphy all start, while sean cronin, cian healy and luke fitzgerald are named among the replacements just six days on from playing winning roles in the 40 10 triumph which sealed their second title in a row during a thrilling climax to the championship. Warriors head coach gregor townsend said 'we're looking forward to returning to action after our recent break and we've been boosted this week by the return of our scotland internationals. 'we've had some great battles with leinster over the past few seasons and we're expecting another one on friday evening. Mark bennett goes over against england at twickenham to score his second try of the tournament. 'it'll be the first time we've returned to the rds since last season's pro12 final and we know we'll need to play our best rugby if we're to come away with a positive result against the defending champions. 'Hogg returns at full back, while seymour comes in on the right wing and canadian international dth van der merwe continues on the opposite side. Peter horne and mark bennett form the centre partnership, while russell takes up his slot at stand off. Niko matawalu keeps his place at scrum half. Alex allan comes in at loosehead, brown returns at hooker and after a number of stand out performances for scotland under 20s, zander fagerson starts his\n",
      "\n",
      "gold: Nine scotland players return for guinness pro12 clash in dublin. Stuart hogg among seven of those to start for glasgow. Match is a repeat of last season's final, which leinster won. <eos>\n",
      "\n",
      "pred: Scotland internationals will be fired up by thoughts of revenge as they take on leinster on friday night. Stuart hogg, tommy seymour, mark bennett, finn russell, fraser brown, tim swinson and rob harley have been named in the starting xv for the guinness pro12 clash. Jonny gray and adam ashe both start on the bench at the rds arena. <eos> will have extra motivation for their club return as they take on a leinster outfit that features seven of joe schmidt's victorious side from murrayfield in their matchday 23. <eos>,\n",
      "------------------------------------\n",
      "\n",
      "x: A hapless smuggler who tried sneaking an incredible 146 iphones through chinese customs by strapping them to his body was caught after officers spotted him walking strangely. Chan shih, 30, was found with 126 phones taped around his waist and another 20 around his legs while travelling from hong kong to the chinese mainland, reports people's daily online. A customs spokesman said 'he appeared to be a big man and was wearing a very loose fitting t shirt and trousers and had a small carry bag. Caught smuggler chan shih, 30, with the iphones he had tried to smuggle into china from hong kong. 'but as he moved towards the nothing to declare exit officers noticed he was having difficulty with walking and asked him if he was ok. 'he said he had injured his back after falling over but officers were suspicious so asked him to go through a metal detector. 'when it went off he said it was because of his gold bracelet, but when officers searched him they found the phones cellotaped around his stomach. 'then they found more around his calves. 'Cunning plan he had 126 handsets taped around his waist and another 20 around his legs. The haul from the known smuggler was the biggest ever seized by chinese customs. The customs official from louhu checkpoint in shenzhen added that this was not the first time the man had been caught trying to sneak electronic goods onto the mainland, but it was the first time he had been caught with so many. It was also a record in phone smuggling for a single person. The spokesman said 'this is the fifth time he has been caught smuggling since 2011. 'in total he has tried to bring in 511 iphones and 127 cpus, all of which he strapped to parts of his body. 'he needs to think of a new way of doing it as it is getting a bit obvious.' The man was arrested and is now awaiting trial.\n",
      "\n",
      "gold: Chan shih, 30, a known smuggler, arrived in china from hong kong. After setting off metal detector, officials noticed him walking strangely. He had 126 iphones taped around his waist and another 20 around his legs. <eos>\n",
      "\n",
      "pred: Chan shih, 30, was found with 126 phones taped around his waist. He was found with 126 phones taped around his waist and another 20. He was found with 126 phones taped around his waist and another 20. He was found with 126 phones taped around his waist and another 20. <eos> was the biggest ever seized by chinese customs. <eos> was the biggest ever seized by chinese customs. <eos> was the biggest ever seized by chinese customs. <eos> was the first time he had been caught trying to sneak electronic\n",
      "------------------------------------\n",
      "\n",
      "x: Shocking video footage has emerged showing the moment passers by refused to help a fatally injured young man who burst into flames while trying to steal copper wire from an electricity substation. The unidentified south african, who appears to be in his teens, was seen with horrific burns covering most of his upper body following the incident in the outskirts of the city of witbank in north western mpumalanga province. With his terrible injuries clearly visible, the young man says he is in agony and begs passers by to take him to the hospital but he is cruelly told to walk if he wants treatment. The burns victim then walked to a nearby health clinic, where an ambulance was called but he is understood to have died hours later. Scroll down for video. Fatally injured the unidentified south african, who appears to be in his teens, was seen with horrific burns covering most of his upper body. He is heard begging passers by to take him to the hospital but he is cruelly told to walk if he wants treatment. The man died the following day. The explosive blast was also seen by locals at the same time as the electricity cut out throughout the witbank suburbs. As they rushed over to see what had happened they saw the man smoking and shouting for help as he climbed out of the botha substation in the city's lynnvill suburb. According to the local council's acting municipal manager theo van vuuren, the thief had probably been attempting to repeat the success of an earlier theft at the same substation. During that incident electrical wiring was stolen leaving the areas of lynnville and ackerville without electricity. 'today a thief attempted to steal and vandalise botha substation, only weeks ago this same substation was hit leaving lynnville and ackerville without electricity, 'van vuuren said. 'the team has managed to restore power to lynnville and part of ackerville. After restoring power a cable fault emerged and this is affecting part of ackerville as well as thushanang.' He did not comment on the video footage of the young thief that appeared a short while later showing people refusing to assist the man as he screamed in pain and shouted for\n",
      "\n",
      "gold: Young thief was horrifically burnt in the outskirts of the city of witbank. He begged passers by to call him an ambulance but they all refused. They said he brought his injuries on himself and should walk to hospital. Man made his way to a clinic where nurses called him an ambulance. But he is understood to have died at a nearby hospital the following day. Warning graphic content. <eos>\n",
      "\n",
      "pred: South african, who appears to be in his teens, was seen with horrific burns covering most of his upper body. The unidentified south african, who appears to be in his teens, was seen with horrific burns covering most of his upper body. The unidentified south african, who appears to be in his teens, was seen with horrific burns covering most of his upper body. <eos> is understood to have died hours later. <eos> is understood to have died hours later. <eos> was seen with horrific burns covering most of\n",
      "------------------------------------\n",
      "\n",
      "x: Scrap learning her abcs, this baby's getting a surf lesson. Kris strong, 35, from clearwater, florida, decided to show his seven month old daughter how to ride the waves. The duo were filmed at home in the nursery room as they writhed around on the floor, paddling their arms over the carpet. Baby strong appears to take to surfing like a duck to water. 'swimming on the surf board, then stand up, 'mr strong says as he lays on his belly. He continues to repeat a swimming and push up action, with his daughter cleverly following his moves. Strong then takes the lesson up a gear. Swimming on the board scrap learning her abcs, this baby's getting a surf lesson. Then push up kris strong, 35, from clearwater, florida, decided to show his seven month old daughter how to ride the waves. That's the way the duo were filmed at home in the nursery room as they writhed around on the floor, paddling their arms over the carpet. 'now we're going to go the whole way. Swim, push to standing,' the doting father instructs. He is seen helping his student up on two feet and spreading her arms wide. A woman filming the scene is heard laughing in the background as the youngster wobbles up straight. Many viewers have deemed the beginner surf lesson 'cute' and 'adorable'. Taking it up a gear 'now we're going to go the whole way. Swim, push to standing, 'the doting father instructs. Cool dude a woman filming the scene is heard laughing in the background as the youngster wobbles up straight many viewers have deemed the beginner surf lesson 'cute' and 'adorable'\n",
      "\n",
      "gold: Kris strong, 35, from clearwater, florida, decided to show his seven month old daughter how to surf. The beginner lesson took place in her nursery at home. <eos>\n",
      "\n",
      "pred: Kris strong, 35, from clearwater, florida, decided to show his seven month old daughter how to ride the waves. The duo were filmed at home in the nursery room as they writhed around on the floor, paddling their arms over the carpet. <eos>, then stand up, says he lays on his belly and continues to repeat a swimming and push up action. <eos> is the doting father instructs. <eos> <eos> <eos> <eos> <eos> <eos> <eos> <eos> <eos> <eos> <eos> <eos> <eos> <eos> <eos> <eos> <eos> <eos> <eos> <eos> <eos>\n",
      "------------------------------------\n",
      "\n",
      "x: Dozens of pupils were given detentions for watching the solar eclipse at a school that had boasted it would be celebrating the rare and spectacular phenomenon. But only younger children at the merseyside secondary were allowed to watch the once in a generation event, with the rest of the school ordered to remain indoors. Hilbre high school, wirral, had announced an eclipse based science project with its younger pupils, who had spent the previous week making safety goggles so they could watch it, saying key stage 3 will be focused on the rare and spectacular event. Hilbre high school pictured in wirral, merseyside, organised an eclipse based project with its younger pupils but told the rest of the school to stay indoors. 'it is great to see students engaging in real life events. But the ban on older children watching the eclipse sparked a revolt, with an entire class skipping lessons so they would not miss out. Almost 30 year 10 pupils streamed out into the streets to watch the moon pass in front of the sun, only to be given immediate detentions. Orders the school pictured logo gave detentions for the class of 30 children that skipped lessons after warning about looking at the eclipse with the naked eye. Last night, parents complained their children had been punished just for showing curiosity about the world around them. Clifford stott, whose daughter was one of those given a detention, said it was the perfect platform for engaging the children with a whole range of educational issues physics, mathematics and cosmology. 'to punish them does little more than alienate them. I feel outraged. The school insisted it had punished the children for disobeying warnings during assembly at the start of the day about the dangers of looking at the eclipse with the naked eye. Principal jan levenson said it was a question of safety. At the heart of this has been the protection of children from the harmful effects of viewing the eclipse without proper eye protection. During detention, she added, pupils were asked to reflect on their misbehaviour, their truanting and the fact they put themselves at very serious risk. The solar eclipse on friday morning was the\n",
      "\n",
      "gold: Hilbre high school announced an eclipse based project for younger pupils. Rest of the school were ordered to remain indoors during the phenomenon. But an entire class of older pupils skipped lessons to watch solar eclipse. They were given immediate detentions after 'looking at it with naked eye' parents have complained children were punished for showing curiosity. <eos>\n",
      "\n",
      "pred: Hilbre high school, wirral, had announced an eclipse based science project. But only younger children at the merseyside secondary were allowed to watch the once in a generation event. But only younger children at the merseyside secondary were allowed to watch the once in a generation event. <eos> dozens of pupils were given detentions for watching the solar eclipse at a school that had boasted it would be celebrating the rare and spectacular phenomenon. <eos> dozens of pupils were given detentions for watching the solar eclipse at a school that had boasted it would\n",
      "------------------------------------\n",
      "\n",
      "x: Police in vermont are desperate to speak to robert durst after he was linked to a teenage girl who went missing 44 years ago. College student lynne schulze, 18, vanished in middlebury, vermont in 1971, at a time when durst owned a health food store in town called all good things. She was last seen standing at a bus stop opposite the store. Middlebury police chief tom hanley said at a press conference on tuesday that durst's name was first connected with the missing girl in 2012, following a tip from a member of the public about him owning the store but who was unaware of his link to schulze. Investigators searched durst's former property in the area last year but found 'nothing of interest in this case', the chief told a press conference on tuesday afternoon. Scroll down for video. College student lynne schulze, 18, vanished in middlebury, vermont in 1971, at a time when durst owned a health food store in town called all good things. She was last seen at a bus stop opposite the store after buying prunes inside. Robert durst and his first wife, kathleen mccormack in an undated picture. The couple lived in vermont in the early seventies around the time a teenage girl vanished from the area. Kathleen durst later went missing in 1982. She has never been found. On the day she vanished, miss schulze, who was a freshman at middlebury college, was seen at 12. 30pm across the street from durst's store at a bus stop, eating prunes she had bought inside. She was trying to catch a bus to new york city on december 10, the case's lead detective kristine bowdish said on tuesday, but it had already left. The teen returned to her nearby college dorm room at 12. 45pm and remained there for ten minutes. At 1pm, her final exam began but she did not attend. At 2. 15pm she was seen once again at the bus stop across from the health food store. She has not been seen since. Miss schulze was last seen wearing blue jeans, a maroon sweater, parka and boots. She was\n",
      "\n",
      "gold: Lynne schulze, 18, vanished in middlebury, vermont in 1971, at a time when durst owned a health food store in town called all good things. Investigators searched durst's former property in the area last year but found 'nothing of interest in this case' on the day she vanished, miss schulze bought prunes from durst's store and was seen at a bus stop across the street. Durst was not questioned at the time of the teen's disappearance; police made the connection following an anonymous tip in 2012. The 71 year old <eos>\n",
      "\n",
      "pred: Lynne schulze, 18, vanished in middlebury, vermont in 1971. She was last seen at a bus stop opposite the store in 1971. She was last seen at a bus stop opposite the store after buying prunes. She was last seen at a bus stop opposite the store after buying prunes. <eos> owned a health food store in town called all good things. <eos> owned a health food store in town called all good things. <eos> owned a health food store in town called all good things. <eos> owned a health\n",
      "------------------------------------\n",
      "\n",
      "[0.3215353 0.3606298 0.3352106]\n"
     ]
    }
   ],
   "metadata": {
    "tags": []
   }
  },
  {
   "cell_type": "code",
   "execution_count": null,
   "source": [
    "\"\"\"\n",
    "reverse order of input\n",
    "leraning rate?\n",
    "add modified dataset diff eos\n",
    "test saving models on gcloud\n",
    "1cycle policy?\n",
    "\"\"\""
   ],
   "outputs": [],
   "metadata": {}
  },
  {
   "cell_type": "code",
   "execution_count": 28,
   "source": [
    "history = model.history"
   ],
   "outputs": [],
   "metadata": {}
  },
  {
   "cell_type": "code",
   "execution_count": 29,
   "source": [
    "fig, ax = plt.subplots(2,2, figsize=(15,9))\n",
    "ax[0, 0].plot(range(len(history['train_loss'])), history['train_loss'], 'ro', label='val_acc')\n",
    "ax[0, 1].plot(range(len(history['train_acc'])), history['train_acc'], 'bo')\n",
    "ax[1, 0].plot(range(len(history['val_loss'])), history['val_loss'], 'ro')\n",
    "ax[1, 1].plot(range(len(history['val_acc'])), history['val_acc'], 'bo')\n",
    "\n",
    "ax[0, 0].set_title(\"train_loss\")\n",
    "ax[0, 0].set_xlabel(\"record each 10th batch\")\n",
    "ax[0, 1].set_title(\"train_acc\")\n",
    "ax[1, 0].set_title(\"val_loss\")\n",
    "ax[1, 1].set_title(\"val_acc\")"
   ],
   "outputs": [
    {
     "output_type": "execute_result",
     "data": {
      "text/plain": [
       "Text(0.5, 1.0, 'val_acc')"
      ]
     },
     "metadata": {},
     "execution_count": 29
    },
    {
     "output_type": "display_data",
     "data": {
      "text/plain": [
       "<Figure size 1080x648 with 4 Axes>"
      ],
      "image/png": "[encoded data removed]",
      "image/svg+xml": "<?xml version=\"1.0\" encoding=\"utf-8\" standalone=\"no\"?>\n<!DOCTYPE svg PUBLIC \"-//W3C//DTD SVG 1.1//EN\"\n  \"http://www.w3.org/Graphics/SVG/1.1/DTD/svg11.dtd\">\n<!-- Created with matplotlib (https://matplotlib.org/) -->\n<svg height=\"535.43625pt\" version=\"1.1\" viewBox=\"0 0 874.303125 535.43625\" width=\"874.303125pt\" xmlns=\"http://www.w3.org/2000/svg\" xmlns:xlink=\"http://www.w3.org/1999/xlink\">\n <metadata>\n  <rdf:RDF xmlns:cc=\"http://creativecommons.org/ns#\" xmlns:dc=\"http://purl.org/dc/elements/1.1/\" xmlns:rdf=\"http://www.w3.org/1999/02/22-rdf-syntax-ns#\">\n   <cc:Work>\n    <dc:type rdf:resource=\"http://purl.org/dc/dcmitype/StillImage\"/>\n    <dc:date>2021-03-01T17:48:00.029420</dc:date>\n    <dc:format>image/svg+xml</dc:format>\n    <dc:creator>\n     <cc:Agent>\n      <dc:title>Matplotlib v3.3.3, https://matplotlib.org/</dc:title>\n     </cc:Agent>\n    </dc:creator>\n   </cc:Work>\n  </rdf:RDF>\n </metadata>\n <defs>\n  <style type=\"text/css\">*{stroke-linecap:butt;stroke-linejoin:round;}</style>\n </defs>\n <g id=\"figure_1\">\n  <g id=\"patch_1\">\n   <path d=\"M 0 535.43625 \nL 874.303125 535.43625 \nL 874.303125 0 \nL 0 0 \nz\n\" style=\"fill:none;\"/>\n  </g>\n  <g id=\"axes_1\">\n   <g id=\"patch_2\">\n    <path d=\"M 30.103125 244.699943 \nL 410.55767 244.699943 \nL 410.55767 22.318125 \nL 30.103125 22.318125 \nz\n\" style=\"fill:#ffffff;\"/>\n   </g>\n   <g id=\"matplotlib.axis_1\">\n    <g id=\"xtick_1\">\n     <g id=\"line2d_1\">\n      <defs>\n       <path d=\"M 0 0 \nL 0 3.5 \n\" id=\"mffbda234c3\" style=\"stroke:#000000;stroke-width:0.8;\"/>\n      </defs>\n      <g>\n       <use style=\"stroke:#000000;stroke-width:0.8;\" x=\"47.396513\" xlink:href=\"#mffbda234c3\" y=\"244.699943\"/>\n      </g>\n     </g>\n     <g id=\"text_1\">\n      <!-- 0 -->\n      <g transform=\"translate(44.215263 259.298381)scale(0.1 -0.1)\">\n       <defs>\n        <path d=\"M 31.78125 66.40625 \nQ 24.171875 66.40625 20.328125 58.90625 \nQ 16.5 51.421875 16.5 36.375 \nQ 16.5 21.390625 20.328125 13.890625 \nQ 24.171875 6.390625 31.78125 6.390625 \nQ 39.453125 6.390625 43.28125 13.890625 \nQ 47.125 21.390625 47.125 36.375 \nQ 47.125 51.421875 43.28125 58.90625 \nQ 39.453125 66.40625 31.78125 66.40625 \nz\nM 31.78125 74.21875 \nQ 44.046875 74.21875 50.515625 64.515625 \nQ 56.984375 54.828125 56.984375 36.375 \nQ 56.984375 17.96875 50.515625 8.265625 \nQ 44.046875 -1.421875 31.78125 -1.421875 \nQ 19.53125 -1.421875 13.0625 8.265625 \nQ 6.59375 17.96875 6.59375 36.375 \nQ 6.59375 54.828125 13.0625 64.515625 \nQ 19.53125 74.21875 31.78125 74.21875 \nz\n\" id=\"DejaVuSans-48\"/>\n       </defs>\n       <use xlink:href=\"#DejaVuSans-48\"/>\n      </g>\n     </g>\n    </g>\n    <g id=\"xtick_2\">\n     <g id=\"line2d_2\">\n      <g>\n       <use style=\"stroke:#000000;stroke-width:0.8;\" x=\"105.041142\" xlink:href=\"#mffbda234c3\" y=\"244.699943\"/>\n      </g>\n     </g>\n     <g id=\"text_2\">\n      <!-- 2 -->\n      <g transform=\"translate(101.859892 259.298381)scale(0.1 -0.1)\">\n       <defs>\n        <path d=\"M 19.1875 8.296875 \nL 53.609375 8.296875 \nL 53.609375 0 \nL 7.328125 0 \nL 7.328125 8.296875 \nQ 12.9375 14.109375 22.625 23.890625 \nQ 32.328125 33.6875 34.8125 36.53125 \nQ 39.546875 41.84375 41.421875 45.53125 \nQ 43.3125 49.21875 43.3125 52.78125 \nQ 43.3125 58.59375 39.234375 62.25 \nQ 35.15625 65.921875 28.609375 65.921875 \nQ 23.96875 65.921875 18.8125 64.3125 \nQ 13.671875 62.703125 7.8125 59.421875 \nL 7.8125 69.390625 \nQ 13.765625 71.78125 18.9375 73 \nQ 24.125 74.21875 28.421875 74.21875 \nQ 39.75 74.21875 46.484375 68.546875 \nQ 53.21875 62.890625 53.21875 53.421875 \nQ 53.21875 48.921875 51.53125 44.890625 \nQ 49.859375 40.875 45.40625 35.40625 \nQ 44.1875 33.984375 37.640625 27.21875 \nQ 31.109375 20.453125 19.1875 8.296875 \nz\n\" id=\"DejaVuSans-50\"/>\n       </defs>\n       <use xlink:href=\"#DejaVuSans-50\"/>\n      </g>\n     </g>\n    </g>\n    <g id=\"xtick_3\">\n     <g id=\"line2d_3\">\n      <g>\n       <use style=\"stroke:#000000;stroke-width:0.8;\" x=\"162.68577\" xlink:href=\"#mffbda234c3\" y=\"244.699943\"/>\n      </g>\n     </g>\n     <g id=\"text_3\">\n      <!-- 4 -->\n      <g transform=\"translate(159.50452 259.298381)scale(0.1 -0.1)\">\n       <defs>\n        <path d=\"M 37.796875 64.3125 \nL 12.890625 25.390625 \nL 37.796875 25.390625 \nz\nM 35.203125 72.90625 \nL 47.609375 72.90625 \nL 47.609375 25.390625 \nL 58.015625 25.390625 \nL 58.015625 17.1875 \nL 47.609375 17.1875 \nL 47.609375 0 \nL 37.796875 0 \nL 37.796875 17.1875 \nL 4.890625 17.1875 \nL 4.890625 26.703125 \nz\n\" id=\"DejaVuSans-52\"/>\n       </defs>\n       <use xlink:href=\"#DejaVuSans-52\"/>\n      </g>\n     </g>\n    </g>\n    <g id=\"xtick_4\">\n     <g id=\"line2d_4\">\n      <g>\n       <use style=\"stroke:#000000;stroke-width:0.8;\" x=\"220.330398\" xlink:href=\"#mffbda234c3\" y=\"244.699943\"/>\n      </g>\n     </g>\n     <g id=\"text_4\">\n      <!-- 6 -->\n      <g transform=\"translate(217.149148 259.298381)scale(0.1 -0.1)\">\n       <defs>\n        <path d=\"M 33.015625 40.375 \nQ 26.375 40.375 22.484375 35.828125 \nQ 18.609375 31.296875 18.609375 23.390625 \nQ 18.609375 15.53125 22.484375 10.953125 \nQ 26.375 6.390625 33.015625 6.390625 \nQ 39.65625 6.390625 43.53125 10.953125 \nQ 47.40625 15.53125 47.40625 23.390625 \nQ 47.40625 31.296875 43.53125 35.828125 \nQ 39.65625 40.375 33.015625 40.375 \nz\nM 52.59375 71.296875 \nL 52.59375 62.3125 \nQ 48.875 64.0625 45.09375 64.984375 \nQ 41.3125 65.921875 37.59375 65.921875 \nQ 27.828125 65.921875 22.671875 59.328125 \nQ 17.53125 52.734375 16.796875 39.40625 \nQ 19.671875 43.65625 24.015625 45.921875 \nQ 28.375 48.1875 33.59375 48.1875 \nQ 44.578125 48.1875 50.953125 41.515625 \nQ 57.328125 34.859375 57.328125 23.390625 \nQ 57.328125 12.15625 50.6875 5.359375 \nQ 44.046875 -1.421875 33.015625 -1.421875 \nQ 20.359375 -1.421875 13.671875 8.265625 \nQ 6.984375 17.96875 6.984375 36.375 \nQ 6.984375 53.65625 15.1875 63.9375 \nQ 23.390625 74.21875 37.203125 74.21875 \nQ 40.921875 74.21875 44.703125 73.484375 \nQ 48.484375 72.75 52.59375 71.296875 \nz\n\" id=\"DejaVuSans-54\"/>\n       </defs>\n       <use xlink:href=\"#DejaVuSans-54\"/>\n      </g>\n     </g>\n    </g>\n    <g id=\"xtick_5\">\n     <g id=\"line2d_5\">\n      <g>\n       <use style=\"stroke:#000000;stroke-width:0.8;\" x=\"277.975026\" xlink:href=\"#mffbda234c3\" y=\"244.699943\"/>\n      </g>\n     </g>\n     <g id=\"text_5\">\n      <!-- 8 -->\n      <g transform=\"translate(274.793776 259.298381)scale(0.1 -0.1)\">\n       <defs>\n        <path d=\"M 31.78125 34.625 \nQ 24.75 34.625 20.71875 30.859375 \nQ 16.703125 27.09375 16.703125 20.515625 \nQ 16.703125 13.921875 20.71875 10.15625 \nQ 24.75 6.390625 31.78125 6.390625 \nQ 38.8125 6.390625 42.859375 10.171875 \nQ 46.921875 13.96875 46.921875 20.515625 \nQ 46.921875 27.09375 42.890625 30.859375 \nQ 38.875 34.625 31.78125 34.625 \nz\nM 21.921875 38.8125 \nQ 15.578125 40.375 12.03125 44.71875 \nQ 8.5 49.078125 8.5 55.328125 \nQ 8.5 64.0625 14.71875 69.140625 \nQ 20.953125 74.21875 31.78125 74.21875 \nQ 42.671875 74.21875 48.875 69.140625 \nQ 55.078125 64.0625 55.078125 55.328125 \nQ 55.078125 49.078125 51.53125 44.71875 \nQ 48 40.375 41.703125 38.8125 \nQ 48.828125 37.15625 52.796875 32.3125 \nQ 56.78125 27.484375 56.78125 20.515625 \nQ 56.78125 9.90625 50.3125 4.234375 \nQ 43.84375 -1.421875 31.78125 -1.421875 \nQ 19.734375 -1.421875 13.25 4.234375 \nQ 6.78125 9.90625 6.78125 20.515625 \nQ 6.78125 27.484375 10.78125 32.3125 \nQ 14.796875 37.15625 21.921875 38.8125 \nz\nM 18.3125 54.390625 \nQ 18.3125 48.734375 21.84375 45.5625 \nQ 25.390625 42.390625 31.78125 42.390625 \nQ 38.140625 42.390625 41.71875 45.5625 \nQ 45.3125 48.734375 45.3125 54.390625 \nQ 45.3125 60.0625 41.71875 63.234375 \nQ 38.140625 66.40625 31.78125 66.40625 \nQ 25.390625 66.40625 21.84375 63.234375 \nQ 18.3125 60.0625 18.3125 54.390625 \nz\n\" id=\"DejaVuSans-56\"/>\n       </defs>\n       <use xlink:href=\"#DejaVuSans-56\"/>\n      </g>\n     </g>\n    </g>\n    <g id=\"xtick_6\">\n     <g id=\"line2d_6\">\n      <g>\n       <use style=\"stroke:#000000;stroke-width:0.8;\" x=\"335.619654\" xlink:href=\"#mffbda234c3\" y=\"244.699943\"/>\n      </g>\n     </g>\n     <g id=\"text_6\">\n      <!-- 10 -->\n      <g transform=\"translate(329.257154 259.298381)scale(0.1 -0.1)\">\n       <defs>\n        <path d=\"M 12.40625 8.296875 \nL 28.515625 8.296875 \nL 28.515625 63.921875 \nL 10.984375 60.40625 \nL 10.984375 69.390625 \nL 28.421875 72.90625 \nL 38.28125 72.90625 \nL 38.28125 8.296875 \nL 54.390625 8.296875 \nL 54.390625 0 \nL 12.40625 0 \nz\n\" id=\"DejaVuSans-49\"/>\n       </defs>\n       <use xlink:href=\"#DejaVuSans-49\"/>\n       <use x=\"63.623047\" xlink:href=\"#DejaVuSans-48\"/>\n      </g>\n     </g>\n    </g>\n    <g id=\"xtick_7\">\n     <g id=\"line2d_7\">\n      <g>\n       <use style=\"stroke:#000000;stroke-width:0.8;\" x=\"393.264282\" xlink:href=\"#mffbda234c3\" y=\"244.699943\"/>\n      </g>\n     </g>\n     <g id=\"text_7\">\n      <!-- 12 -->\n      <g transform=\"translate(386.901782 259.298381)scale(0.1 -0.1)\">\n       <use xlink:href=\"#DejaVuSans-49\"/>\n       <use x=\"63.623047\" xlink:href=\"#DejaVuSans-50\"/>\n      </g>\n     </g>\n    </g>\n    <g id=\"text_8\">\n     <!-- 10s of batches -->\n     <g transform=\"translate(183.567898 272.976506)scale(0.1 -0.1)\">\n      <defs>\n       <path d=\"M 44.28125 53.078125 \nL 44.28125 44.578125 \nQ 40.484375 46.53125 36.375 47.5 \nQ 32.28125 48.484375 27.875 48.484375 \nQ 21.1875 48.484375 17.84375 46.4375 \nQ 14.5 44.390625 14.5 40.28125 \nQ 14.5 37.15625 16.890625 35.375 \nQ 19.28125 33.59375 26.515625 31.984375 \nL 29.59375 31.296875 \nQ 39.15625 29.25 43.1875 25.515625 \nQ 47.21875 21.78125 47.21875 15.09375 \nQ 47.21875 7.46875 41.1875 3.015625 \nQ 35.15625 -1.421875 24.609375 -1.421875 \nQ 20.21875 -1.421875 15.453125 -0.5625 \nQ 10.6875 0.296875 5.421875 2 \nL 5.421875 11.28125 \nQ 10.40625 8.6875 15.234375 7.390625 \nQ 20.0625 6.109375 24.8125 6.109375 \nQ 31.15625 6.109375 34.5625 8.28125 \nQ 37.984375 10.453125 37.984375 14.40625 \nQ 37.984375 18.0625 35.515625 20.015625 \nQ 33.0625 21.96875 24.703125 23.78125 \nL 21.578125 24.515625 \nQ 13.234375 26.265625 9.515625 29.90625 \nQ 5.8125 33.546875 5.8125 39.890625 \nQ 5.8125 47.609375 11.28125 51.796875 \nQ 16.75 56 26.8125 56 \nQ 31.78125 56 36.171875 55.265625 \nQ 40.578125 54.546875 44.28125 53.078125 \nz\n\" id=\"DejaVuSans-115\"/>\n       <path id=\"DejaVuSans-32\"/>\n       <path d=\"M 30.609375 48.390625 \nQ 23.390625 48.390625 19.1875 42.75 \nQ 14.984375 37.109375 14.984375 27.296875 \nQ 14.984375 17.484375 19.15625 11.84375 \nQ 23.34375 6.203125 30.609375 6.203125 \nQ 37.796875 6.203125 41.984375 11.859375 \nQ 46.1875 17.53125 46.1875 27.296875 \nQ 46.1875 37.015625 41.984375 42.703125 \nQ 37.796875 48.390625 30.609375 48.390625 \nz\nM 30.609375 56 \nQ 42.328125 56 49.015625 48.375 \nQ 55.71875 40.765625 55.71875 27.296875 \nQ 55.71875 13.875 49.015625 6.21875 \nQ 42.328125 -1.421875 30.609375 -1.421875 \nQ 18.84375 -1.421875 12.171875 6.21875 \nQ 5.515625 13.875 5.515625 27.296875 \nQ 5.515625 40.765625 12.171875 48.375 \nQ 18.84375 56 30.609375 56 \nz\n\" id=\"DejaVuSans-111\"/>\n       <path d=\"M 37.109375 75.984375 \nL 37.109375 68.5 \nL 28.515625 68.5 \nQ 23.6875 68.5 21.796875 66.546875 \nQ 19.921875 64.59375 19.921875 59.515625 \nL 19.921875 54.6875 \nL 34.71875 54.6875 \nL 34.71875 47.703125 \nL 19.921875 47.703125 \nL 19.921875 0 \nL 10.890625 0 \nL 10.890625 47.703125 \nL 2.296875 47.703125 \nL 2.296875 54.6875 \nL 10.890625 54.6875 \nL 10.890625 58.5 \nQ 10.890625 67.625 15.140625 71.796875 \nQ 19.390625 75.984375 28.609375 75.984375 \nz\n\" id=\"DejaVuSans-102\"/>\n       <path d=\"M 48.6875 27.296875 \nQ 48.6875 37.203125 44.609375 42.84375 \nQ 40.53125 48.484375 33.40625 48.484375 \nQ 26.265625 48.484375 22.1875 42.84375 \nQ 18.109375 37.203125 18.109375 27.296875 \nQ 18.109375 17.390625 22.1875 11.75 \nQ 26.265625 6.109375 33.40625 6.109375 \nQ 40.53125 6.109375 44.609375 11.75 \nQ 48.6875 17.390625 48.6875 27.296875 \nz\nM 18.109375 46.390625 \nQ 20.953125 51.265625 25.265625 53.625 \nQ 29.59375 56 35.59375 56 \nQ 45.5625 56 51.78125 48.09375 \nQ 58.015625 40.1875 58.015625 27.296875 \nQ 58.015625 14.40625 51.78125 6.484375 \nQ 45.5625 -1.421875 35.59375 -1.421875 \nQ 29.59375 -1.421875 25.265625 0.953125 \nQ 20.953125 3.328125 18.109375 8.203125 \nL 18.109375 0 \nL 9.078125 0 \nL 9.078125 75.984375 \nL 18.109375 75.984375 \nz\n\" id=\"DejaVuSans-98\"/>\n       <path d=\"M 34.28125 27.484375 \nQ 23.390625 27.484375 19.1875 25 \nQ 14.984375 22.515625 14.984375 16.5 \nQ 14.984375 11.71875 18.140625 8.90625 \nQ 21.296875 6.109375 26.703125 6.109375 \nQ 34.1875 6.109375 38.703125 11.40625 \nQ 43.21875 16.703125 43.21875 25.484375 \nL 43.21875 27.484375 \nz\nM 52.203125 31.203125 \nL 52.203125 0 \nL 43.21875 0 \nL 43.21875 8.296875 \nQ 40.140625 3.328125 35.546875 0.953125 \nQ 30.953125 -1.421875 24.3125 -1.421875 \nQ 15.921875 -1.421875 10.953125 3.296875 \nQ 6 8.015625 6 15.921875 \nQ 6 25.140625 12.171875 29.828125 \nQ 18.359375 34.515625 30.609375 34.515625 \nL 43.21875 34.515625 \nL 43.21875 35.40625 \nQ 43.21875 41.609375 39.140625 45 \nQ 35.0625 48.390625 27.6875 48.390625 \nQ 23 48.390625 18.546875 47.265625 \nQ 14.109375 46.140625 10.015625 43.890625 \nL 10.015625 52.203125 \nQ 14.9375 54.109375 19.578125 55.046875 \nQ 24.21875 56 28.609375 56 \nQ 40.484375 56 46.34375 49.84375 \nQ 52.203125 43.703125 52.203125 31.203125 \nz\n\" id=\"DejaVuSans-97\"/>\n       <path d=\"M 18.3125 70.21875 \nL 18.3125 54.6875 \nL 36.8125 54.6875 \nL 36.8125 47.703125 \nL 18.3125 47.703125 \nL 18.3125 18.015625 \nQ 18.3125 11.328125 20.140625 9.421875 \nQ 21.96875 7.515625 27.59375 7.515625 \nL 36.8125 7.515625 \nL 36.8125 0 \nL 27.59375 0 \nQ 17.1875 0 13.234375 3.875 \nQ 9.28125 7.765625 9.28125 18.015625 \nL 9.28125 47.703125 \nL 2.6875 47.703125 \nL 2.6875 54.6875 \nL 9.28125 54.6875 \nL 9.28125 70.21875 \nz\n\" id=\"DejaVuSans-116\"/>\n       <path d=\"M 48.78125 52.59375 \nL 48.78125 44.1875 \nQ 44.96875 46.296875 41.140625 47.34375 \nQ 37.3125 48.390625 33.40625 48.390625 \nQ 24.65625 48.390625 19.8125 42.84375 \nQ 14.984375 37.3125 14.984375 27.296875 \nQ 14.984375 17.28125 19.8125 11.734375 \nQ 24.65625 6.203125 33.40625 6.203125 \nQ 37.3125 6.203125 41.140625 7.25 \nQ 44.96875 8.296875 48.78125 10.40625 \nL 48.78125 2.09375 \nQ 45.015625 0.34375 40.984375 -0.53125 \nQ 36.96875 -1.421875 32.421875 -1.421875 \nQ 20.0625 -1.421875 12.78125 6.34375 \nQ 5.515625 14.109375 5.515625 27.296875 \nQ 5.515625 40.671875 12.859375 48.328125 \nQ 20.21875 56 33.015625 56 \nQ 37.15625 56 41.109375 55.140625 \nQ 45.0625 54.296875 48.78125 52.59375 \nz\n\" id=\"DejaVuSans-99\"/>\n       <path d=\"M 54.890625 33.015625 \nL 54.890625 0 \nL 45.90625 0 \nL 45.90625 32.71875 \nQ 45.90625 40.484375 42.875 44.328125 \nQ 39.84375 48.1875 33.796875 48.1875 \nQ 26.515625 48.1875 22.3125 43.546875 \nQ 18.109375 38.921875 18.109375 30.90625 \nL 18.109375 0 \nL 9.078125 0 \nL 9.078125 75.984375 \nL 18.109375 75.984375 \nL 18.109375 46.1875 \nQ 21.34375 51.125 25.703125 53.5625 \nQ 30.078125 56 35.796875 56 \nQ 45.21875 56 50.046875 50.171875 \nQ 54.890625 44.34375 54.890625 33.015625 \nz\n\" id=\"DejaVuSans-104\"/>\n       <path d=\"M 56.203125 29.59375 \nL 56.203125 25.203125 \nL 14.890625 25.203125 \nQ 15.484375 15.921875 20.484375 11.0625 \nQ 25.484375 6.203125 34.421875 6.203125 \nQ 39.59375 6.203125 44.453125 7.46875 \nQ 49.3125 8.734375 54.109375 11.28125 \nL 54.109375 2.78125 \nQ 49.265625 0.734375 44.1875 -0.34375 \nQ 39.109375 -1.421875 33.890625 -1.421875 \nQ 20.796875 -1.421875 13.15625 6.1875 \nQ 5.515625 13.8125 5.515625 26.8125 \nQ 5.515625 40.234375 12.765625 48.109375 \nQ 20.015625 56 32.328125 56 \nQ 43.359375 56 49.78125 48.890625 \nQ 56.203125 41.796875 56.203125 29.59375 \nz\nM 47.21875 32.234375 \nQ 47.125 39.59375 43.09375 43.984375 \nQ 39.0625 48.390625 32.421875 48.390625 \nQ 24.90625 48.390625 20.390625 44.140625 \nQ 15.875 39.890625 15.1875 32.171875 \nz\n\" id=\"DejaVuSans-101\"/>\n      </defs>\n      <use xlink:href=\"#DejaVuSans-49\"/>\n      <use x=\"63.623047\" xlink:href=\"#DejaVuSans-48\"/>\n      <use x=\"127.246094\" xlink:href=\"#DejaVuSans-115\"/>\n      <use x=\"179.345703\" xlink:href=\"#DejaVuSans-32\"/>\n      <use x=\"211.132812\" xlink:href=\"#DejaVuSans-111\"/>\n      <use x=\"272.314453\" xlink:href=\"#DejaVuSans-102\"/>\n      <use x=\"307.519531\" xlink:href=\"#DejaVuSans-32\"/>\n      <use x=\"339.306641\" xlink:href=\"#DejaVuSans-98\"/>\n      <use x=\"402.783203\" xlink:href=\"#DejaVuSans-97\"/>\n      <use x=\"464.0625\" xlink:href=\"#DejaVuSans-116\"/>\n      <use x=\"503.271484\" xlink:href=\"#DejaVuSans-99\"/>\n      <use x=\"558.251953\" xlink:href=\"#DejaVuSans-104\"/>\n      <use x=\"621.630859\" xlink:href=\"#DejaVuSans-101\"/>\n      <use x=\"683.154297\" xlink:href=\"#DejaVuSans-115\"/>\n     </g>\n    </g>\n   </g>\n   <g id=\"matplotlib.axis_2\">\n    <g id=\"ytick_1\">\n     <g id=\"line2d_8\">\n      <defs>\n       <path d=\"M 0 0 \nL -3.5 0 \n\" id=\"me8824bb57d\" style=\"stroke:#000000;stroke-width:0.8;\"/>\n      </defs>\n      <g>\n       <use style=\"stroke:#000000;stroke-width:0.8;\" x=\"30.103125\" xlink:href=\"#me8824bb57d\" y=\"235.032042\"/>\n      </g>\n     </g>\n     <g id=\"text_9\">\n      <!-- 6.6 -->\n      <g transform=\"translate(7.2 238.831261)scale(0.1 -0.1)\">\n       <defs>\n        <path d=\"M 10.6875 12.40625 \nL 21 12.40625 \nL 21 0 \nL 10.6875 0 \nz\n\" id=\"DejaVuSans-46\"/>\n       </defs>\n       <use xlink:href=\"#DejaVuSans-54\"/>\n       <use x=\"63.623047\" xlink:href=\"#DejaVuSans-46\"/>\n       <use x=\"95.410156\" xlink:href=\"#DejaVuSans-54\"/>\n      </g>\n     </g>\n    </g>\n    <g id=\"ytick_2\">\n     <g id=\"line2d_9\">\n      <g>\n       <use style=\"stroke:#000000;stroke-width:0.8;\" x=\"30.103125\" xlink:href=\"#me8824bb57d\" y=\"200.350168\"/>\n      </g>\n     </g>\n     <g id=\"text_10\">\n      <!-- 6.7 -->\n      <g transform=\"translate(7.2 204.149387)scale(0.1 -0.1)\">\n       <defs>\n        <path d=\"M 8.203125 72.90625 \nL 55.078125 72.90625 \nL 55.078125 68.703125 \nL 28.609375 0 \nL 18.3125 0 \nL 43.21875 64.59375 \nL 8.203125 64.59375 \nz\n\" id=\"DejaVuSans-55\"/>\n       </defs>\n       <use xlink:href=\"#DejaVuSans-54\"/>\n       <use x=\"63.623047\" xlink:href=\"#DejaVuSans-46\"/>\n       <use x=\"95.410156\" xlink:href=\"#DejaVuSans-55\"/>\n      </g>\n     </g>\n    </g>\n    <g id=\"ytick_3\">\n     <g id=\"line2d_10\">\n      <g>\n       <use style=\"stroke:#000000;stroke-width:0.8;\" x=\"30.103125\" xlink:href=\"#me8824bb57d\" y=\"165.668295\"/>\n      </g>\n     </g>\n     <g id=\"text_11\">\n      <!-- 6.8 -->\n      <g transform=\"translate(7.2 169.467513)scale(0.1 -0.1)\">\n       <use xlink:href=\"#DejaVuSans-54\"/>\n       <use x=\"63.623047\" xlink:href=\"#DejaVuSans-46\"/>\n       <use x=\"95.410156\" xlink:href=\"#DejaVuSans-56\"/>\n      </g>\n     </g>\n    </g>\n    <g id=\"ytick_4\">\n     <g id=\"line2d_11\">\n      <g>\n       <use style=\"stroke:#000000;stroke-width:0.8;\" x=\"30.103125\" xlink:href=\"#me8824bb57d\" y=\"130.986421\"/>\n      </g>\n     </g>\n     <g id=\"text_12\">\n      <!-- 6.9 -->\n      <g transform=\"translate(7.2 134.785639)scale(0.1 -0.1)\">\n       <defs>\n        <path d=\"M 10.984375 1.515625 \nL 10.984375 10.5 \nQ 14.703125 8.734375 18.5 7.8125 \nQ 22.3125 6.890625 25.984375 6.890625 \nQ 35.75 6.890625 40.890625 13.453125 \nQ 46.046875 20.015625 46.78125 33.40625 \nQ 43.953125 29.203125 39.59375 26.953125 \nQ 35.25 24.703125 29.984375 24.703125 \nQ 19.046875 24.703125 12.671875 31.3125 \nQ 6.296875 37.9375 6.296875 49.421875 \nQ 6.296875 60.640625 12.9375 67.421875 \nQ 19.578125 74.21875 30.609375 74.21875 \nQ 43.265625 74.21875 49.921875 64.515625 \nQ 56.59375 54.828125 56.59375 36.375 \nQ 56.59375 19.140625 48.40625 8.859375 \nQ 40.234375 -1.421875 26.421875 -1.421875 \nQ 22.703125 -1.421875 18.890625 -0.6875 \nQ 15.09375 0.046875 10.984375 1.515625 \nz\nM 30.609375 32.421875 \nQ 37.25 32.421875 41.125 36.953125 \nQ 45.015625 41.5 45.015625 49.421875 \nQ 45.015625 57.28125 41.125 61.84375 \nQ 37.25 66.40625 30.609375 66.40625 \nQ 23.96875 66.40625 20.09375 61.84375 \nQ 16.21875 57.28125 16.21875 49.421875 \nQ 16.21875 41.5 20.09375 36.953125 \nQ 23.96875 32.421875 30.609375 32.421875 \nz\n\" id=\"DejaVuSans-57\"/>\n       </defs>\n       <use xlink:href=\"#DejaVuSans-54\"/>\n       <use x=\"63.623047\" xlink:href=\"#DejaVuSans-46\"/>\n       <use x=\"95.410156\" xlink:href=\"#DejaVuSans-57\"/>\n      </g>\n     </g>\n    </g>\n    <g id=\"ytick_5\">\n     <g id=\"line2d_12\">\n      <g>\n       <use style=\"stroke:#000000;stroke-width:0.8;\" x=\"30.103125\" xlink:href=\"#me8824bb57d\" y=\"96.304547\"/>\n      </g>\n     </g>\n     <g id=\"text_13\">\n      <!-- 7.0 -->\n      <g transform=\"translate(7.2 100.103766)scale(0.1 -0.1)\">\n       <use xlink:href=\"#DejaVuSans-55\"/>\n       <use x=\"63.623047\" xlink:href=\"#DejaVuSans-46\"/>\n       <use x=\"95.410156\" xlink:href=\"#DejaVuSans-48\"/>\n      </g>\n     </g>\n    </g>\n    <g id=\"ytick_6\">\n     <g id=\"line2d_13\">\n      <g>\n       <use style=\"stroke:#000000;stroke-width:0.8;\" x=\"30.103125\" xlink:href=\"#me8824bb57d\" y=\"61.622673\"/>\n      </g>\n     </g>\n     <g id=\"text_14\">\n      <!-- 7.1 -->\n      <g transform=\"translate(7.2 65.421892)scale(0.1 -0.1)\">\n       <use xlink:href=\"#DejaVuSans-55\"/>\n       <use x=\"63.623047\" xlink:href=\"#DejaVuSans-46\"/>\n       <use x=\"95.410156\" xlink:href=\"#DejaVuSans-49\"/>\n      </g>\n     </g>\n    </g>\n    <g id=\"ytick_7\">\n     <g id=\"line2d_14\">\n      <g>\n       <use style=\"stroke:#000000;stroke-width:0.8;\" x=\"30.103125\" xlink:href=\"#me8824bb57d\" y=\"26.940799\"/>\n      </g>\n     </g>\n     <g id=\"text_15\">\n      <!-- 7.2 -->\n      <g transform=\"translate(7.2 30.740018)scale(0.1 -0.1)\">\n       <use xlink:href=\"#DejaVuSans-55\"/>\n       <use x=\"63.623047\" xlink:href=\"#DejaVuSans-46\"/>\n       <use x=\"95.410156\" xlink:href=\"#DejaVuSans-50\"/>\n      </g>\n     </g>\n    </g>\n   </g>\n   <g id=\"line2d_15\">\n    <defs>\n     <path d=\"M 0 3 \nC 0.795609 3 1.55874 2.683901 2.12132 2.12132 \nC 2.683901 1.55874 3 0.795609 3 0 \nC 3 -0.795609 2.683901 -1.55874 2.12132 -2.12132 \nC 1.55874 -2.683901 0.795609 -3 0 -3 \nC -0.795609 -3 -1.55874 -2.683901 -2.12132 -2.12132 \nC -2.683901 -1.55874 -3 -0.795609 -3 0 \nC -3 0.795609 -2.683901 1.55874 -2.12132 2.12132 \nC -1.55874 2.683901 -0.795609 3 0 3 \nz\n\" id=\"m3b32e2e72e\" style=\"stroke:#ff0000;\"/>\n    </defs>\n    <g clip-path=\"url(#pe4f8c19e87)\">\n     <use style=\"fill:#ff0000;stroke:#ff0000;\" x=\"47.396513\" xlink:href=\"#m3b32e2e72e\" y=\"88.735285\"/>\n     <use style=\"fill:#ff0000;stroke:#ff0000;\" x=\"76.218827\" xlink:href=\"#m3b32e2e72e\" y=\"112.616249\"/>\n     <use style=\"fill:#ff0000;stroke:#ff0000;\" x=\"105.041142\" xlink:href=\"#m3b32e2e72e\" y=\"92.938317\"/>\n     <use style=\"fill:#ff0000;stroke:#ff0000;\" x=\"133.863456\" xlink:href=\"#m3b32e2e72e\" y=\"39.93347\"/>\n     <use style=\"fill:#ff0000;stroke:#ff0000;\" x=\"162.68577\" xlink:href=\"#m3b32e2e72e\" y=\"32.426389\"/>\n     <use style=\"fill:#ff0000;stroke:#ff0000;\" x=\"191.508084\" xlink:href=\"#m3b32e2e72e\" y=\"136.661929\"/>\n     <use style=\"fill:#ff0000;stroke:#ff0000;\" x=\"220.330398\" xlink:href=\"#m3b32e2e72e\" y=\"102.929016\"/>\n     <use style=\"fill:#ff0000;stroke:#ff0000;\" x=\"249.152712\" xlink:href=\"#m3b32e2e72e\" y=\"43.853214\"/>\n     <use style=\"fill:#ff0000;stroke:#ff0000;\" x=\"277.975026\" xlink:href=\"#m3b32e2e72e\" y=\"132.287567\"/>\n     <use style=\"fill:#ff0000;stroke:#ff0000;\" x=\"306.79734\" xlink:href=\"#m3b32e2e72e\" y=\"67.751708\"/>\n     <use style=\"fill:#ff0000;stroke:#ff0000;\" x=\"335.619654\" xlink:href=\"#m3b32e2e72e\" y=\"183.86373\"/>\n     <use style=\"fill:#ff0000;stroke:#ff0000;\" x=\"364.441968\" xlink:href=\"#m3b32e2e72e\" y=\"234.591679\"/>\n     <use style=\"fill:#ff0000;stroke:#ff0000;\" x=\"393.264282\" xlink:href=\"#m3b32e2e72e\" y=\"150.346798\"/>\n    </g>\n   </g>\n   <g id=\"patch_3\">\n    <path d=\"M 30.103125 244.699943 \nL 30.103125 22.318125 \n\" style=\"fill:none;stroke:#000000;stroke-linecap:square;stroke-linejoin:miter;stroke-width:0.8;\"/>\n   </g>\n   <g id=\"patch_4\">\n    <path d=\"M 410.55767 244.699943 \nL 410.55767 22.318125 \n\" style=\"fill:none;stroke:#000000;stroke-linecap:square;stroke-linejoin:miter;stroke-width:0.8;\"/>\n   </g>\n   <g id=\"patch_5\">\n    <path d=\"M 30.103125 244.699943 \nL 410.55767 244.699943 \n\" style=\"fill:none;stroke:#000000;stroke-linecap:square;stroke-linejoin:miter;stroke-width:0.8;\"/>\n   </g>\n   <g id=\"patch_6\">\n    <path d=\"M 30.103125 22.318125 \nL 410.55767 22.318125 \n\" style=\"fill:none;stroke:#000000;stroke-linecap:square;stroke-linejoin:miter;stroke-width:0.8;\"/>\n   </g>\n   <g id=\"text_16\">\n    <!-- train_loss -->\n    <g transform=\"translate(191.776023 16.318125)scale(0.12 -0.12)\">\n     <defs>\n      <path d=\"M 41.109375 46.296875 \nQ 39.59375 47.171875 37.8125 47.578125 \nQ 36.03125 48 33.890625 48 \nQ 26.265625 48 22.1875 43.046875 \nQ 18.109375 38.09375 18.109375 28.8125 \nL 18.109375 0 \nL 9.078125 0 \nL 9.078125 54.6875 \nL 18.109375 54.6875 \nL 18.109375 46.1875 \nQ 20.953125 51.171875 25.484375 53.578125 \nQ 30.03125 56 36.53125 56 \nQ 37.453125 56 38.578125 55.875 \nQ 39.703125 55.765625 41.0625 55.515625 \nz\n\" id=\"DejaVuSans-114\"/>\n      <path d=\"M 9.421875 54.6875 \nL 18.40625 54.6875 \nL 18.40625 0 \nL 9.421875 0 \nz\nM 9.421875 75.984375 \nL 18.40625 75.984375 \nL 18.40625 64.59375 \nL 9.421875 64.59375 \nz\n\" id=\"DejaVuSans-105\"/>\n      <path d=\"M 54.890625 33.015625 \nL 54.890625 0 \nL 45.90625 0 \nL 45.90625 32.71875 \nQ 45.90625 40.484375 42.875 44.328125 \nQ 39.84375 48.1875 33.796875 48.1875 \nQ 26.515625 48.1875 22.3125 43.546875 \nQ 18.109375 38.921875 18.109375 30.90625 \nL 18.109375 0 \nL 9.078125 0 \nL 9.078125 54.6875 \nL 18.109375 54.6875 \nL 18.109375 46.1875 \nQ 21.34375 51.125 25.703125 53.5625 \nQ 30.078125 56 35.796875 56 \nQ 45.21875 56 50.046875 50.171875 \nQ 54.890625 44.34375 54.890625 33.015625 \nz\n\" id=\"DejaVuSans-110\"/>\n      <path d=\"M 50.984375 -16.609375 \nL 50.984375 -23.578125 \nL -0.984375 -23.578125 \nL -0.984375 -16.609375 \nz\n\" id=\"DejaVuSans-95\"/>\n      <path d=\"M 9.421875 75.984375 \nL 18.40625 75.984375 \nL 18.40625 0 \nL 9.421875 0 \nz\n\" id=\"DejaVuSans-108\"/>\n     </defs>\n     <use xlink:href=\"#DejaVuSans-116\"/>\n     <use x=\"39.208984\" xlink:href=\"#DejaVuSans-114\"/>\n     <use x=\"80.322266\" xlink:href=\"#DejaVuSans-97\"/>\n     <use x=\"141.601562\" xlink:href=\"#DejaVuSans-105\"/>\n     <use x=\"169.384766\" xlink:href=\"#DejaVuSans-110\"/>\n     <use x=\"232.763672\" xlink:href=\"#DejaVuSans-95\"/>\n     <use x=\"282.763672\" xlink:href=\"#DejaVuSans-108\"/>\n     <use x=\"310.546875\" xlink:href=\"#DejaVuSans-111\"/>\n     <use x=\"371.728516\" xlink:href=\"#DejaVuSans-115\"/>\n     <use x=\"423.828125\" xlink:href=\"#DejaVuSans-115\"/>\n    </g>\n   </g>\n  </g>\n  <g id=\"axes_2\">\n   <g id=\"patch_7\">\n    <path d=\"M 486.64858 244.699943 \nL 867.103125 244.699943 \nL 867.103125 22.318125 \nL 486.64858 22.318125 \nz\n\" style=\"fill:#ffffff;\"/>\n   </g>\n   <g id=\"matplotlib.axis_3\">\n    <g id=\"xtick_8\">\n     <g id=\"line2d_16\">\n      <g>\n       <use style=\"stroke:#000000;stroke-width:0.8;\" x=\"503.941968\" xlink:href=\"#mffbda234c3\" y=\"244.699943\"/>\n      </g>\n     </g>\n     <g id=\"text_17\">\n      <!-- 0 -->\n      <g transform=\"translate(500.760718 259.298381)scale(0.1 -0.1)\">\n       <use xlink:href=\"#DejaVuSans-48\"/>\n      </g>\n     </g>\n    </g>\n    <g id=\"xtick_9\">\n     <g id=\"line2d_17\">\n      <g>\n       <use style=\"stroke:#000000;stroke-width:0.8;\" x=\"561.586596\" xlink:href=\"#mffbda234c3\" y=\"244.699943\"/>\n      </g>\n     </g>\n     <g id=\"text_18\">\n      <!-- 2 -->\n      <g transform=\"translate(558.405346 259.298381)scale(0.1 -0.1)\">\n       <use xlink:href=\"#DejaVuSans-50\"/>\n      </g>\n     </g>\n    </g>\n    <g id=\"xtick_10\">\n     <g id=\"line2d_18\">\n      <g>\n       <use style=\"stroke:#000000;stroke-width:0.8;\" x=\"619.231224\" xlink:href=\"#mffbda234c3\" y=\"244.699943\"/>\n      </g>\n     </g>\n     <g id=\"text_19\">\n      <!-- 4 -->\n      <g transform=\"translate(616.049974 259.298381)scale(0.1 -0.1)\">\n       <use xlink:href=\"#DejaVuSans-52\"/>\n      </g>\n     </g>\n    </g>\n    <g id=\"xtick_11\">\n     <g id=\"line2d_19\">\n      <g>\n       <use style=\"stroke:#000000;stroke-width:0.8;\" x=\"676.875852\" xlink:href=\"#mffbda234c3\" y=\"244.699943\"/>\n      </g>\n     </g>\n     <g id=\"text_20\">\n      <!-- 6 -->\n      <g transform=\"translate(673.694602 259.298381)scale(0.1 -0.1)\">\n       <use xlink:href=\"#DejaVuSans-54\"/>\n      </g>\n     </g>\n    </g>\n    <g id=\"xtick_12\">\n     <g id=\"line2d_20\">\n      <g>\n       <use style=\"stroke:#000000;stroke-width:0.8;\" x=\"734.52048\" xlink:href=\"#mffbda234c3\" y=\"244.699943\"/>\n      </g>\n     </g>\n     <g id=\"text_21\">\n      <!-- 8 -->\n      <g transform=\"translate(731.33923 259.298381)scale(0.1 -0.1)\">\n       <use xlink:href=\"#DejaVuSans-56\"/>\n      </g>\n     </g>\n    </g>\n    <g id=\"xtick_13\">\n     <g id=\"line2d_21\">\n      <g>\n       <use style=\"stroke:#000000;stroke-width:0.8;\" x=\"792.165108\" xlink:href=\"#mffbda234c3\" y=\"244.699943\"/>\n      </g>\n     </g>\n     <g id=\"text_22\">\n      <!-- 10 -->\n      <g transform=\"translate(785.802608 259.298381)scale(0.1 -0.1)\">\n       <use xlink:href=\"#DejaVuSans-49\"/>\n       <use x=\"63.623047\" xlink:href=\"#DejaVuSans-48\"/>\n      </g>\n     </g>\n    </g>\n    <g id=\"xtick_14\">\n     <g id=\"line2d_22\">\n      <g>\n       <use style=\"stroke:#000000;stroke-width:0.8;\" x=\"849.809737\" xlink:href=\"#mffbda234c3\" y=\"244.699943\"/>\n      </g>\n     </g>\n     <g id=\"text_23\">\n      <!-- 12 -->\n      <g transform=\"translate(843.447237 259.298381)scale(0.1 -0.1)\">\n       <use xlink:href=\"#DejaVuSans-49\"/>\n       <use x=\"63.623047\" xlink:href=\"#DejaVuSans-50\"/>\n      </g>\n     </g>\n    </g>\n   </g>\n   <g id=\"matplotlib.axis_4\">\n    <g id=\"ytick_8\">\n     <g id=\"line2d_23\">\n      <g>\n       <use style=\"stroke:#000000;stroke-width:0.8;\" x=\"486.64858\" xlink:href=\"#me8824bb57d\" y=\"229.160449\"/>\n      </g>\n     </g>\n     <g id=\"text_24\">\n      <!-- 0.0121 -->\n      <g transform=\"translate(444.657955 232.959668)scale(0.1 -0.1)\">\n       <use xlink:href=\"#DejaVuSans-48\"/>\n       <use x=\"63.623047\" xlink:href=\"#DejaVuSans-46\"/>\n       <use x=\"95.410156\" xlink:href=\"#DejaVuSans-48\"/>\n       <use x=\"159.033203\" xlink:href=\"#DejaVuSans-49\"/>\n       <use x=\"222.65625\" xlink:href=\"#DejaVuSans-50\"/>\n       <use x=\"286.279297\" xlink:href=\"#DejaVuSans-49\"/>\n      </g>\n     </g>\n    </g>\n    <g id=\"ytick_9\">\n     <g id=\"line2d_24\">\n      <g>\n       <use style=\"stroke:#000000;stroke-width:0.8;\" x=\"486.64858\" xlink:href=\"#me8824bb57d\" y=\"194.970881\"/>\n      </g>\n     </g>\n     <g id=\"text_25\">\n      <!-- 0.0122 -->\n      <g transform=\"translate(444.657955 198.7701)scale(0.1 -0.1)\">\n       <use xlink:href=\"#DejaVuSans-48\"/>\n       <use x=\"63.623047\" xlink:href=\"#DejaVuSans-46\"/>\n       <use x=\"95.410156\" xlink:href=\"#DejaVuSans-48\"/>\n       <use x=\"159.033203\" xlink:href=\"#DejaVuSans-49\"/>\n       <use x=\"222.65625\" xlink:href=\"#DejaVuSans-50\"/>\n       <use x=\"286.279297\" xlink:href=\"#DejaVuSans-50\"/>\n      </g>\n     </g>\n    </g>\n    <g id=\"ytick_10\">\n     <g id=\"line2d_25\">\n      <g>\n       <use style=\"stroke:#000000;stroke-width:0.8;\" x=\"486.64858\" xlink:href=\"#me8824bb57d\" y=\"160.781313\"/>\n      </g>\n     </g>\n     <g id=\"text_26\">\n      <!-- 0.0123 -->\n      <g transform=\"translate(444.657955 164.580532)scale(0.1 -0.1)\">\n       <defs>\n        <path d=\"M 40.578125 39.3125 \nQ 47.65625 37.796875 51.625 33 \nQ 55.609375 28.21875 55.609375 21.1875 \nQ 55.609375 10.40625 48.1875 4.484375 \nQ 40.765625 -1.421875 27.09375 -1.421875 \nQ 22.515625 -1.421875 17.65625 -0.515625 \nQ 12.796875 0.390625 7.625 2.203125 \nL 7.625 11.71875 \nQ 11.71875 9.328125 16.59375 8.109375 \nQ 21.484375 6.890625 26.8125 6.890625 \nQ 36.078125 6.890625 40.9375 10.546875 \nQ 45.796875 14.203125 45.796875 21.1875 \nQ 45.796875 27.640625 41.28125 31.265625 \nQ 36.765625 34.90625 28.71875 34.90625 \nL 20.21875 34.90625 \nL 20.21875 43.015625 \nL 29.109375 43.015625 \nQ 36.375 43.015625 40.234375 45.921875 \nQ 44.09375 48.828125 44.09375 54.296875 \nQ 44.09375 59.90625 40.109375 62.90625 \nQ 36.140625 65.921875 28.71875 65.921875 \nQ 24.65625 65.921875 20.015625 65.03125 \nQ 15.375 64.15625 9.8125 62.3125 \nL 9.8125 71.09375 \nQ 15.4375 72.65625 20.34375 73.4375 \nQ 25.25 74.21875 29.59375 74.21875 \nQ 40.828125 74.21875 47.359375 69.109375 \nQ 53.90625 64.015625 53.90625 55.328125 \nQ 53.90625 49.265625 50.4375 45.09375 \nQ 46.96875 40.921875 40.578125 39.3125 \nz\n\" id=\"DejaVuSans-51\"/>\n       </defs>\n       <use xlink:href=\"#DejaVuSans-48\"/>\n       <use x=\"63.623047\" xlink:href=\"#DejaVuSans-46\"/>\n       <use x=\"95.410156\" xlink:href=\"#DejaVuSans-48\"/>\n       <use x=\"159.033203\" xlink:href=\"#DejaVuSans-49\"/>\n       <use x=\"222.65625\" xlink:href=\"#DejaVuSans-50\"/>\n       <use x=\"286.279297\" xlink:href=\"#DejaVuSans-51\"/>\n      </g>\n     </g>\n    </g>\n    <g id=\"ytick_11\">\n     <g id=\"line2d_26\">\n      <g>\n       <use style=\"stroke:#000000;stroke-width:0.8;\" x=\"486.64858\" xlink:href=\"#me8824bb57d\" y=\"126.591746\"/>\n      </g>\n     </g>\n     <g id=\"text_27\">\n      <!-- 0.0124 -->\n      <g transform=\"translate(444.657955 130.390964)scale(0.1 -0.1)\">\n       <use xlink:href=\"#DejaVuSans-48\"/>\n       <use x=\"63.623047\" xlink:href=\"#DejaVuSans-46\"/>\n       <use x=\"95.410156\" xlink:href=\"#DejaVuSans-48\"/>\n       <use x=\"159.033203\" xlink:href=\"#DejaVuSans-49\"/>\n       <use x=\"222.65625\" xlink:href=\"#DejaVuSans-50\"/>\n       <use x=\"286.279297\" xlink:href=\"#DejaVuSans-52\"/>\n      </g>\n     </g>\n    </g>\n    <g id=\"ytick_12\">\n     <g id=\"line2d_27\">\n      <g>\n       <use style=\"stroke:#000000;stroke-width:0.8;\" x=\"486.64858\" xlink:href=\"#me8824bb57d\" y=\"92.402178\"/>\n      </g>\n     </g>\n     <g id=\"text_28\">\n      <!-- 0.0125 -->\n      <g transform=\"translate(444.657955 96.201397)scale(0.1 -0.1)\">\n       <defs>\n        <path d=\"M 10.796875 72.90625 \nL 49.515625 72.90625 \nL 49.515625 64.59375 \nL 19.828125 64.59375 \nL 19.828125 46.734375 \nQ 21.96875 47.46875 24.109375 47.828125 \nQ 26.265625 48.1875 28.421875 48.1875 \nQ 40.625 48.1875 47.75 41.5 \nQ 54.890625 34.8125 54.890625 23.390625 \nQ 54.890625 11.625 47.5625 5.09375 \nQ 40.234375 -1.421875 26.90625 -1.421875 \nQ 22.3125 -1.421875 17.546875 -0.640625 \nQ 12.796875 0.140625 7.71875 1.703125 \nL 7.71875 11.625 \nQ 12.109375 9.234375 16.796875 8.0625 \nQ 21.484375 6.890625 26.703125 6.890625 \nQ 35.15625 6.890625 40.078125 11.328125 \nQ 45.015625 15.765625 45.015625 23.390625 \nQ 45.015625 31 40.078125 35.4375 \nQ 35.15625 39.890625 26.703125 39.890625 \nQ 22.75 39.890625 18.8125 39.015625 \nQ 14.890625 38.140625 10.796875 36.28125 \nz\n\" id=\"DejaVuSans-53\"/>\n       </defs>\n       <use xlink:href=\"#DejaVuSans-48\"/>\n       <use x=\"63.623047\" xlink:href=\"#DejaVuSans-46\"/>\n       <use x=\"95.410156\" xlink:href=\"#DejaVuSans-48\"/>\n       <use x=\"159.033203\" xlink:href=\"#DejaVuSans-49\"/>\n       <use x=\"222.65625\" xlink:href=\"#DejaVuSans-50\"/>\n       <use x=\"286.279297\" xlink:href=\"#DejaVuSans-53\"/>\n      </g>\n     </g>\n    </g>\n    <g id=\"ytick_13\">\n     <g id=\"line2d_28\">\n      <g>\n       <use style=\"stroke:#000000;stroke-width:0.8;\" x=\"486.64858\" xlink:href=\"#me8824bb57d\" y=\"58.21261\"/>\n      </g>\n     </g>\n     <g id=\"text_29\">\n      <!-- 0.0126 -->\n      <g transform=\"translate(444.657955 62.011829)scale(0.1 -0.1)\">\n       <use xlink:href=\"#DejaVuSans-48\"/>\n       <use x=\"63.623047\" xlink:href=\"#DejaVuSans-46\"/>\n       <use x=\"95.410156\" xlink:href=\"#DejaVuSans-48\"/>\n       <use x=\"159.033203\" xlink:href=\"#DejaVuSans-49\"/>\n       <use x=\"222.65625\" xlink:href=\"#DejaVuSans-50\"/>\n       <use x=\"286.279297\" xlink:href=\"#DejaVuSans-54\"/>\n      </g>\n     </g>\n    </g>\n    <g id=\"ytick_14\">\n     <g id=\"line2d_29\">\n      <g>\n       <use style=\"stroke:#000000;stroke-width:0.8;\" x=\"486.64858\" xlink:href=\"#me8824bb57d\" y=\"24.023042\"/>\n      </g>\n     </g>\n     <g id=\"text_30\">\n      <!-- 0.0127 -->\n      <g transform=\"translate(444.657955 27.822261)scale(0.1 -0.1)\">\n       <use xlink:href=\"#DejaVuSans-48\"/>\n       <use x=\"63.623047\" xlink:href=\"#DejaVuSans-46\"/>\n       <use x=\"95.410156\" xlink:href=\"#DejaVuSans-48\"/>\n       <use x=\"159.033203\" xlink:href=\"#DejaVuSans-49\"/>\n       <use x=\"222.65625\" xlink:href=\"#DejaVuSans-50\"/>\n       <use x=\"286.279297\" xlink:href=\"#DejaVuSans-55\"/>\n      </g>\n     </g>\n    </g>\n   </g>\n   <g id=\"line2d_30\">\n    <defs>\n     <path d=\"M 0 3 \nC 0.795609 3 1.55874 2.683901 2.12132 2.12132 \nC 2.683901 1.55874 3 0.795609 3 0 \nC 3 -0.795609 2.683901 -1.55874 2.12132 -2.12132 \nC 1.55874 -2.683901 0.795609 -3 0 -3 \nC -0.795609 -3 -1.55874 -2.683901 -2.12132 -2.12132 \nC -2.683901 -1.55874 -3 -0.795609 -3 0 \nC -3 0.795609 -2.683901 1.55874 -2.12132 2.12132 \nC -1.55874 2.683901 -0.795609 3 0 3 \nz\n\" id=\"mb096da4a75\" style=\"stroke:#0000ff;\"/>\n    </defs>\n    <g clip-path=\"url(#p14c0130ae9)\">\n     <use style=\"fill:#0000ff;stroke:#0000ff;\" x=\"503.941968\" xlink:href=\"#mb096da4a75\" y=\"234.591679\"/>\n     <use style=\"fill:#0000ff;stroke:#0000ff;\" x=\"532.764282\" xlink:href=\"#mb096da4a75\" y=\"217.368921\"/>\n     <use style=\"fill:#0000ff;stroke:#0000ff;\" x=\"561.586596\" xlink:href=\"#mb096da4a75\" y=\"203.326812\"/>\n     <use style=\"fill:#0000ff;stroke:#0000ff;\" x=\"590.40891\" xlink:href=\"#mb096da4a75\" y=\"191.626966\"/>\n     <use style=\"fill:#0000ff;stroke:#0000ff;\" x=\"619.231224\" xlink:href=\"#mb096da4a75\" y=\"175.763522\"/>\n     <use style=\"fill:#0000ff;stroke:#0000ff;\" x=\"648.053538\" xlink:href=\"#mb096da4a75\" y=\"146.543836\"/>\n     <use style=\"fill:#0000ff;stroke:#0000ff;\" x=\"676.875852\" xlink:href=\"#mb096da4a75\" y=\"136.484465\"/>\n     <use style=\"fill:#0000ff;stroke:#0000ff;\" x=\"705.698166\" xlink:href=\"#mb096da4a75\" y=\"116.844617\"/>\n     <use style=\"fill:#0000ff;stroke:#0000ff;\" x=\"734.52048\" xlink:href=\"#mb096da4a75\" y=\"94.217081\"/>\n     <use style=\"fill:#0000ff;stroke:#0000ff;\" x=\"763.342794\" xlink:href=\"#mb096da4a75\" y=\"75.995773\"/>\n     <use style=\"fill:#0000ff;stroke:#0000ff;\" x=\"792.165108\" xlink:href=\"#mb096da4a75\" y=\"75.85981\"/>\n     <use style=\"fill:#0000ff;stroke:#0000ff;\" x=\"820.987423\" xlink:href=\"#mb096da4a75\" y=\"56.978427\"/>\n     <use style=\"fill:#0000ff;stroke:#0000ff;\" x=\"849.809737\" xlink:href=\"#mb096da4a75\" y=\"32.426389\"/>\n    </g>\n   </g>\n   <g id=\"patch_8\">\n    <path d=\"M 486.64858 244.699943 \nL 486.64858 22.318125 \n\" style=\"fill:none;stroke:#000000;stroke-linecap:square;stroke-linejoin:miter;stroke-width:0.8;\"/>\n   </g>\n   <g id=\"patch_9\">\n    <path d=\"M 867.103125 244.699943 \nL 867.103125 22.318125 \n\" style=\"fill:none;stroke:#000000;stroke-linecap:square;stroke-linejoin:miter;stroke-width:0.8;\"/>\n   </g>\n   <g id=\"patch_10\">\n    <path d=\"M 486.64858 244.699943 \nL 867.103125 244.699943 \n\" style=\"fill:none;stroke:#000000;stroke-linecap:square;stroke-linejoin:miter;stroke-width:0.8;\"/>\n   </g>\n   <g id=\"patch_11\">\n    <path d=\"M 486.64858 22.318125 \nL 867.103125 22.318125 \n\" style=\"fill:none;stroke:#000000;stroke-linecap:square;stroke-linejoin:miter;stroke-width:0.8;\"/>\n   </g>\n   <g id=\"text_31\">\n    <!-- train_acc -->\n    <g transform=\"translate(649.635852 16.318125)scale(0.12 -0.12)\">\n     <use xlink:href=\"#DejaVuSans-116\"/>\n     <use x=\"39.208984\" xlink:href=\"#DejaVuSans-114\"/>\n     <use x=\"80.322266\" xlink:href=\"#DejaVuSans-97\"/>\n     <use x=\"141.601562\" xlink:href=\"#DejaVuSans-105\"/>\n     <use x=\"169.384766\" xlink:href=\"#DejaVuSans-110\"/>\n     <use x=\"232.763672\" xlink:href=\"#DejaVuSans-95\"/>\n     <use x=\"282.763672\" xlink:href=\"#DejaVuSans-97\"/>\n     <use x=\"344.042969\" xlink:href=\"#DejaVuSans-99\"/>\n     <use x=\"399.023438\" xlink:href=\"#DejaVuSans-99\"/>\n    </g>\n   </g>\n  </g>\n  <g id=\"axes_3\">\n   <g id=\"patch_12\">\n    <path d=\"M 30.103125 511.558125 \nL 410.55767 511.558125 \nL 410.55767 289.176307 \nL 30.103125 289.176307 \nz\n\" style=\"fill:#ffffff;\"/>\n   </g>\n   <g id=\"matplotlib.axis_5\">\n    <g id=\"xtick_15\">\n     <g id=\"line2d_31\">\n      <g>\n       <use style=\"stroke:#000000;stroke-width:0.8;\" x=\"47.396513\" xlink:href=\"#mffbda234c3\" y=\"511.558125\"/>\n      </g>\n     </g>\n     <g id=\"text_32\">\n      <!-- 0 -->\n      <g transform=\"translate(44.215263 526.156562)scale(0.1 -0.1)\">\n       <use xlink:href=\"#DejaVuSans-48\"/>\n      </g>\n     </g>\n    </g>\n    <g id=\"xtick_16\">\n     <g id=\"line2d_32\">\n      <g>\n       <use style=\"stroke:#000000;stroke-width:0.8;\" x=\"124.256018\" xlink:href=\"#mffbda234c3\" y=\"511.558125\"/>\n      </g>\n     </g>\n     <g id=\"text_33\">\n      <!-- 2 -->\n      <g transform=\"translate(121.074768 526.156562)scale(0.1 -0.1)\">\n       <use xlink:href=\"#DejaVuSans-50\"/>\n      </g>\n     </g>\n    </g>\n    <g id=\"xtick_17\">\n     <g id=\"line2d_33\">\n      <g>\n       <use style=\"stroke:#000000;stroke-width:0.8;\" x=\"201.115522\" xlink:href=\"#mffbda234c3\" y=\"511.558125\"/>\n      </g>\n     </g>\n     <g id=\"text_34\">\n      <!-- 4 -->\n      <g transform=\"translate(197.934272 526.156562)scale(0.1 -0.1)\">\n       <use xlink:href=\"#DejaVuSans-52\"/>\n      </g>\n     </g>\n    </g>\n    <g id=\"xtick_18\">\n     <g id=\"line2d_34\">\n      <g>\n       <use style=\"stroke:#000000;stroke-width:0.8;\" x=\"277.975026\" xlink:href=\"#mffbda234c3\" y=\"511.558125\"/>\n      </g>\n     </g>\n     <g id=\"text_35\">\n      <!-- 6 -->\n      <g transform=\"translate(274.793776 526.156562)scale(0.1 -0.1)\">\n       <use xlink:href=\"#DejaVuSans-54\"/>\n      </g>\n     </g>\n    </g>\n    <g id=\"xtick_19\">\n     <g id=\"line2d_35\">\n      <g>\n       <use style=\"stroke:#000000;stroke-width:0.8;\" x=\"354.83453\" xlink:href=\"#mffbda234c3\" y=\"511.558125\"/>\n      </g>\n     </g>\n     <g id=\"text_36\">\n      <!-- 8 -->\n      <g transform=\"translate(351.65328 526.156562)scale(0.1 -0.1)\">\n       <use xlink:href=\"#DejaVuSans-56\"/>\n      </g>\n     </g>\n    </g>\n   </g>\n   <g id=\"matplotlib.axis_6\">\n    <g id=\"ytick_15\">\n     <g id=\"line2d_36\">\n      <g>\n       <use style=\"stroke:#000000;stroke-width:0.8;\" x=\"30.103125\" xlink:href=\"#me8824bb57d\" y=\"492.932276\"/>\n      </g>\n     </g>\n     <g id=\"text_37\">\n      <!-- 7.0 -->\n      <g transform=\"translate(7.2 496.731495)scale(0.1 -0.1)\">\n       <use xlink:href=\"#DejaVuSans-55\"/>\n       <use x=\"63.623047\" xlink:href=\"#DejaVuSans-46\"/>\n       <use x=\"95.410156\" xlink:href=\"#DejaVuSans-48\"/>\n      </g>\n     </g>\n    </g>\n    <g id=\"ytick_16\">\n     <g id=\"line2d_37\">\n      <g>\n       <use style=\"stroke:#000000;stroke-width:0.8;\" x=\"30.103125\" xlink:href=\"#me8824bb57d\" y=\"451.105203\"/>\n      </g>\n     </g>\n     <g id=\"text_38\">\n      <!-- 7.1 -->\n      <g transform=\"translate(7.2 454.904422)scale(0.1 -0.1)\">\n       <use xlink:href=\"#DejaVuSans-55\"/>\n       <use x=\"63.623047\" xlink:href=\"#DejaVuSans-46\"/>\n       <use x=\"95.410156\" xlink:href=\"#DejaVuSans-49\"/>\n      </g>\n     </g>\n    </g>\n    <g id=\"ytick_17\">\n     <g id=\"line2d_38\">\n      <g>\n       <use style=\"stroke:#000000;stroke-width:0.8;\" x=\"30.103125\" xlink:href=\"#me8824bb57d\" y=\"409.27813\"/>\n      </g>\n     </g>\n     <g id=\"text_39\">\n      <!-- 7.2 -->\n      <g transform=\"translate(7.2 413.077349)scale(0.1 -0.1)\">\n       <use xlink:href=\"#DejaVuSans-55\"/>\n       <use x=\"63.623047\" xlink:href=\"#DejaVuSans-46\"/>\n       <use x=\"95.410156\" xlink:href=\"#DejaVuSans-50\"/>\n      </g>\n     </g>\n    </g>\n    <g id=\"ytick_18\">\n     <g id=\"line2d_39\">\n      <g>\n       <use style=\"stroke:#000000;stroke-width:0.8;\" x=\"30.103125\" xlink:href=\"#me8824bb57d\" y=\"367.451057\"/>\n      </g>\n     </g>\n     <g id=\"text_40\">\n      <!-- 7.3 -->\n      <g transform=\"translate(7.2 371.250276)scale(0.1 -0.1)\">\n       <use xlink:href=\"#DejaVuSans-55\"/>\n       <use x=\"63.623047\" xlink:href=\"#DejaVuSans-46\"/>\n       <use x=\"95.410156\" xlink:href=\"#DejaVuSans-51\"/>\n      </g>\n     </g>\n    </g>\n    <g id=\"ytick_19\">\n     <g id=\"line2d_40\">\n      <g>\n       <use style=\"stroke:#000000;stroke-width:0.8;\" x=\"30.103125\" xlink:href=\"#me8824bb57d\" y=\"325.623984\"/>\n      </g>\n     </g>\n     <g id=\"text_41\">\n      <!-- 7.4 -->\n      <g transform=\"translate(7.2 329.423203)scale(0.1 -0.1)\">\n       <use xlink:href=\"#DejaVuSans-55\"/>\n       <use x=\"63.623047\" xlink:href=\"#DejaVuSans-46\"/>\n       <use x=\"95.410156\" xlink:href=\"#DejaVuSans-52\"/>\n      </g>\n     </g>\n    </g>\n   </g>\n   <g id=\"line2d_41\">\n    <g clip-path=\"url(#p3e364039a6)\">\n     <use style=\"fill:#ff0000;stroke:#ff0000;\" x=\"47.396513\" xlink:href=\"#m3b32e2e72e\" y=\"345.443594\"/>\n     <use style=\"fill:#ff0000;stroke:#ff0000;\" x=\"85.826265\" xlink:href=\"#m3b32e2e72e\" y=\"408.640977\"/>\n     <use style=\"fill:#ff0000;stroke:#ff0000;\" x=\"124.256018\" xlink:href=\"#m3b32e2e72e\" y=\"378.637163\"/>\n     <use style=\"fill:#ff0000;stroke:#ff0000;\" x=\"162.68577\" xlink:href=\"#m3b32e2e72e\" y=\"359.599945\"/>\n     <use style=\"fill:#ff0000;stroke:#ff0000;\" x=\"201.115522\" xlink:href=\"#m3b32e2e72e\" y=\"360.577235\"/>\n     <use style=\"fill:#ff0000;stroke:#ff0000;\" x=\"239.545274\" xlink:href=\"#m3b32e2e72e\" y=\"372.02709\"/>\n     <use style=\"fill:#ff0000;stroke:#ff0000;\" x=\"277.975026\" xlink:href=\"#m3b32e2e72e\" y=\"322.166131\"/>\n     <use style=\"fill:#ff0000;stroke:#ff0000;\" x=\"316.404778\" xlink:href=\"#m3b32e2e72e\" y=\"299.284571\"/>\n     <use style=\"fill:#ff0000;stroke:#ff0000;\" x=\"354.83453\" xlink:href=\"#m3b32e2e72e\" y=\"501.449861\"/>\n     <use style=\"fill:#ff0000;stroke:#ff0000;\" x=\"393.264282\" xlink:href=\"#m3b32e2e72e\" y=\"352.738169\"/>\n    </g>\n   </g>\n   <g id=\"patch_13\">\n    <path d=\"M 30.103125 511.558125 \nL 30.103125 289.176307 \n\" style=\"fill:none;stroke:#000000;stroke-linecap:square;stroke-linejoin:miter;stroke-width:0.8;\"/>\n   </g>\n   <g id=\"patch_14\">\n    <path d=\"M 410.55767 511.558125 \nL 410.55767 289.176307 \n\" style=\"fill:none;stroke:#000000;stroke-linecap:square;stroke-linejoin:miter;stroke-width:0.8;\"/>\n   </g>\n   <g id=\"patch_15\">\n    <path d=\"M 30.103125 511.558125 \nL 410.55767 511.558125 \n\" style=\"fill:none;stroke:#000000;stroke-linecap:square;stroke-linejoin:miter;stroke-width:0.8;\"/>\n   </g>\n   <g id=\"patch_16\">\n    <path d=\"M 30.103125 289.176307 \nL 410.55767 289.176307 \n\" style=\"fill:none;stroke:#000000;stroke-linecap:square;stroke-linejoin:miter;stroke-width:0.8;\"/>\n   </g>\n   <g id=\"text_42\">\n    <!-- val_loss -->\n    <g transform=\"translate(196.846023 283.176307)scale(0.12 -0.12)\">\n     <defs>\n      <path d=\"M 2.984375 54.6875 \nL 12.5 54.6875 \nL 29.59375 8.796875 \nL 46.6875 54.6875 \nL 56.203125 54.6875 \nL 35.6875 0 \nL 23.484375 0 \nz\n\" id=\"DejaVuSans-118\"/>\n     </defs>\n     <use xlink:href=\"#DejaVuSans-118\"/>\n     <use x=\"59.179688\" xlink:href=\"#DejaVuSans-97\"/>\n     <use x=\"120.458984\" xlink:href=\"#DejaVuSans-108\"/>\n     <use x=\"148.242188\" xlink:href=\"#DejaVuSans-95\"/>\n     <use x=\"198.242188\" xlink:href=\"#DejaVuSans-108\"/>\n     <use x=\"226.025391\" xlink:href=\"#DejaVuSans-111\"/>\n     <use x=\"287.207031\" xlink:href=\"#DejaVuSans-115\"/>\n     <use x=\"339.306641\" xlink:href=\"#DejaVuSans-115\"/>\n    </g>\n   </g>\n  </g>\n  <g id=\"axes_4\">\n   <g id=\"patch_17\">\n    <path d=\"M 486.64858 511.558125 \nL 867.103125 511.558125 \nL 867.103125 289.176307 \nL 486.64858 289.176307 \nz\n\" style=\"fill:#ffffff;\"/>\n   </g>\n   <g id=\"matplotlib.axis_7\">\n    <g id=\"xtick_20\">\n     <g id=\"line2d_42\">\n      <g>\n       <use style=\"stroke:#000000;stroke-width:0.8;\" x=\"503.941968\" xlink:href=\"#mffbda234c3\" y=\"511.558125\"/>\n      </g>\n     </g>\n     <g id=\"text_43\">\n      <!-- 0 -->\n      <g transform=\"translate(500.760718 526.156562)scale(0.1 -0.1)\">\n       <use xlink:href=\"#DejaVuSans-48\"/>\n      </g>\n     </g>\n    </g>\n    <g id=\"xtick_21\">\n     <g id=\"line2d_43\">\n      <g>\n       <use style=\"stroke:#000000;stroke-width:0.8;\" x=\"580.801472\" xlink:href=\"#mffbda234c3\" y=\"511.558125\"/>\n      </g>\n     </g>\n     <g id=\"text_44\">\n      <!-- 2 -->\n      <g transform=\"translate(577.620222 526.156562)scale(0.1 -0.1)\">\n       <use xlink:href=\"#DejaVuSans-50\"/>\n      </g>\n     </g>\n    </g>\n    <g id=\"xtick_22\">\n     <g id=\"line2d_44\">\n      <g>\n       <use style=\"stroke:#000000;stroke-width:0.8;\" x=\"657.660976\" xlink:href=\"#mffbda234c3\" y=\"511.558125\"/>\n      </g>\n     </g>\n     <g id=\"text_45\">\n      <!-- 4 -->\n      <g transform=\"translate(654.479726 526.156562)scale(0.1 -0.1)\">\n       <use xlink:href=\"#DejaVuSans-52\"/>\n      </g>\n     </g>\n    </g>\n    <g id=\"xtick_23\">\n     <g id=\"line2d_45\">\n      <g>\n       <use style=\"stroke:#000000;stroke-width:0.8;\" x=\"734.52048\" xlink:href=\"#mffbda234c3\" y=\"511.558125\"/>\n      </g>\n     </g>\n     <g id=\"text_46\">\n      <!-- 6 -->\n      <g transform=\"translate(731.33923 526.156562)scale(0.1 -0.1)\">\n       <use xlink:href=\"#DejaVuSans-54\"/>\n      </g>\n     </g>\n    </g>\n    <g id=\"xtick_24\">\n     <g id=\"line2d_46\">\n      <g>\n       <use style=\"stroke:#000000;stroke-width:0.8;\" x=\"811.379985\" xlink:href=\"#mffbda234c3\" y=\"511.558125\"/>\n      </g>\n     </g>\n     <g id=\"text_47\">\n      <!-- 8 -->\n      <g transform=\"translate(808.198735 526.156562)scale(0.1 -0.1)\">\n       <use xlink:href=\"#DejaVuSans-56\"/>\n      </g>\n     </g>\n    </g>\n   </g>\n   <g id=\"matplotlib.axis_8\">\n    <g id=\"ytick_20\">\n     <g id=\"line2d_47\">\n      <g>\n       <use style=\"stroke:#000000;stroke-width:0.8;\" x=\"486.64858\" xlink:href=\"#me8824bb57d\" y=\"498.045039\"/>\n      </g>\n     </g>\n     <g id=\"text_48\">\n      <!-- 0.01230 -->\n      <g transform=\"translate(438.295455 501.844257)scale(0.1 -0.1)\">\n       <use xlink:href=\"#DejaVuSans-48\"/>\n       <use x=\"63.623047\" xlink:href=\"#DejaVuSans-46\"/>\n       <use x=\"95.410156\" xlink:href=\"#DejaVuSans-48\"/>\n       <use x=\"159.033203\" xlink:href=\"#DejaVuSans-49\"/>\n       <use x=\"222.65625\" xlink:href=\"#DejaVuSans-50\"/>\n       <use x=\"286.279297\" xlink:href=\"#DejaVuSans-51\"/>\n       <use x=\"349.902344\" xlink:href=\"#DejaVuSans-48\"/>\n      </g>\n     </g>\n    </g>\n    <g id=\"ytick_21\">\n     <g id=\"line2d_48\">\n      <g>\n       <use style=\"stroke:#000000;stroke-width:0.8;\" x=\"486.64858\" xlink:href=\"#me8824bb57d\" y=\"462.588287\"/>\n      </g>\n     </g>\n     <g id=\"text_49\">\n      <!-- 0.01235 -->\n      <g transform=\"translate(438.295455 466.387505)scale(0.1 -0.1)\">\n       <use xlink:href=\"#DejaVuSans-48\"/>\n       <use x=\"63.623047\" xlink:href=\"#DejaVuSans-46\"/>\n       <use x=\"95.410156\" xlink:href=\"#DejaVuSans-48\"/>\n       <use x=\"159.033203\" xlink:href=\"#DejaVuSans-49\"/>\n       <use x=\"222.65625\" xlink:href=\"#DejaVuSans-50\"/>\n       <use x=\"286.279297\" xlink:href=\"#DejaVuSans-51\"/>\n       <use x=\"349.902344\" xlink:href=\"#DejaVuSans-53\"/>\n      </g>\n     </g>\n    </g>\n    <g id=\"ytick_22\">\n     <g id=\"line2d_49\">\n      <g>\n       <use style=\"stroke:#000000;stroke-width:0.8;\" x=\"486.64858\" xlink:href=\"#me8824bb57d\" y=\"427.131535\"/>\n      </g>\n     </g>\n     <g id=\"text_50\">\n      <!-- 0.01240 -->\n      <g transform=\"translate(438.295455 430.930754)scale(0.1 -0.1)\">\n       <use xlink:href=\"#DejaVuSans-48\"/>\n       <use x=\"63.623047\" xlink:href=\"#DejaVuSans-46\"/>\n       <use x=\"95.410156\" xlink:href=\"#DejaVuSans-48\"/>\n       <use x=\"159.033203\" xlink:href=\"#DejaVuSans-49\"/>\n       <use x=\"222.65625\" xlink:href=\"#DejaVuSans-50\"/>\n       <use x=\"286.279297\" xlink:href=\"#DejaVuSans-52\"/>\n       <use x=\"349.902344\" xlink:href=\"#DejaVuSans-48\"/>\n      </g>\n     </g>\n    </g>\n    <g id=\"ytick_23\">\n     <g id=\"line2d_50\">\n      <g>\n       <use style=\"stroke:#000000;stroke-width:0.8;\" x=\"486.64858\" xlink:href=\"#me8824bb57d\" y=\"391.674783\"/>\n      </g>\n     </g>\n     <g id=\"text_51\">\n      <!-- 0.01245 -->\n      <g transform=\"translate(438.295455 395.474002)scale(0.1 -0.1)\">\n       <use xlink:href=\"#DejaVuSans-48\"/>\n       <use x=\"63.623047\" xlink:href=\"#DejaVuSans-46\"/>\n       <use x=\"95.410156\" xlink:href=\"#DejaVuSans-48\"/>\n       <use x=\"159.033203\" xlink:href=\"#DejaVuSans-49\"/>\n       <use x=\"222.65625\" xlink:href=\"#DejaVuSans-50\"/>\n       <use x=\"286.279297\" xlink:href=\"#DejaVuSans-52\"/>\n       <use x=\"349.902344\" xlink:href=\"#DejaVuSans-53\"/>\n      </g>\n     </g>\n    </g>\n    <g id=\"ytick_24\">\n     <g id=\"line2d_51\">\n      <g>\n       <use style=\"stroke:#000000;stroke-width:0.8;\" x=\"486.64858\" xlink:href=\"#me8824bb57d\" y=\"356.218031\"/>\n      </g>\n     </g>\n     <g id=\"text_52\">\n      <!-- 0.01250 -->\n      <g transform=\"translate(438.295455 360.01725)scale(0.1 -0.1)\">\n       <use xlink:href=\"#DejaVuSans-48\"/>\n       <use x=\"63.623047\" xlink:href=\"#DejaVuSans-46\"/>\n       <use x=\"95.410156\" xlink:href=\"#DejaVuSans-48\"/>\n       <use x=\"159.033203\" xlink:href=\"#DejaVuSans-49\"/>\n       <use x=\"222.65625\" xlink:href=\"#DejaVuSans-50\"/>\n       <use x=\"286.279297\" xlink:href=\"#DejaVuSans-53\"/>\n       <use x=\"349.902344\" xlink:href=\"#DejaVuSans-48\"/>\n      </g>\n     </g>\n    </g>\n    <g id=\"ytick_25\">\n     <g id=\"line2d_52\">\n      <g>\n       <use style=\"stroke:#000000;stroke-width:0.8;\" x=\"486.64858\" xlink:href=\"#me8824bb57d\" y=\"320.761279\"/>\n      </g>\n     </g>\n     <g id=\"text_53\">\n      <!-- 0.01255 -->\n      <g transform=\"translate(438.295455 324.560498)scale(0.1 -0.1)\">\n       <use xlink:href=\"#DejaVuSans-48\"/>\n       <use x=\"63.623047\" xlink:href=\"#DejaVuSans-46\"/>\n       <use x=\"95.410156\" xlink:href=\"#DejaVuSans-48\"/>\n       <use x=\"159.033203\" xlink:href=\"#DejaVuSans-49\"/>\n       <use x=\"222.65625\" xlink:href=\"#DejaVuSans-50\"/>\n       <use x=\"286.279297\" xlink:href=\"#DejaVuSans-53\"/>\n       <use x=\"349.902344\" xlink:href=\"#DejaVuSans-53\"/>\n      </g>\n     </g>\n    </g>\n   </g>\n   <g id=\"line2d_53\">\n    <g clip-path=\"url(#pb9c674bde1)\">\n     <use style=\"fill:#0000ff;stroke:#0000ff;\" x=\"503.941968\" xlink:href=\"#mb096da4a75\" y=\"501.449861\"/>\n     <use style=\"fill:#0000ff;stroke:#0000ff;\" x=\"542.37172\" xlink:href=\"#mb096da4a75\" y=\"490.526291\"/>\n     <use style=\"fill:#0000ff;stroke:#0000ff;\" x=\"580.801472\" xlink:href=\"#mb096da4a75\" y=\"496.704646\"/>\n     <use style=\"fill:#0000ff;stroke:#0000ff;\" x=\"619.231224\" xlink:href=\"#mb096da4a75\" y=\"490.754801\"/>\n     <use style=\"fill:#0000ff;stroke:#0000ff;\" x=\"657.660976\" xlink:href=\"#mb096da4a75\" y=\"483.971489\"/>\n     <use style=\"fill:#0000ff;stroke:#0000ff;\" x=\"696.090728\" xlink:href=\"#mb096da4a75\" y=\"299.284571\"/>\n     <use style=\"fill:#0000ff;stroke:#0000ff;\" x=\"734.52048\" xlink:href=\"#mb096da4a75\" y=\"310.241823\"/>\n     <use style=\"fill:#0000ff;stroke:#0000ff;\" x=\"772.950232\" xlink:href=\"#mb096da4a75\" y=\"315.671907\"/>\n     <use style=\"fill:#0000ff;stroke:#0000ff;\" x=\"811.379985\" xlink:href=\"#mb096da4a75\" y=\"317.939175\"/>\n     <use style=\"fill:#0000ff;stroke:#0000ff;\" x=\"849.809737\" xlink:href=\"#mb096da4a75\" y=\"323.546916\"/>\n    </g>\n   </g>\n   <g id=\"patch_18\">\n    <path d=\"M 486.64858 511.558125 \nL 486.64858 289.176307 \n\" style=\"fill:none;stroke:#000000;stroke-linecap:square;stroke-linejoin:miter;stroke-width:0.8;\"/>\n   </g>\n   <g id=\"patch_19\">\n    <path d=\"M 867.103125 511.558125 \nL 867.103125 289.176307 \n\" style=\"fill:none;stroke:#000000;stroke-linecap:square;stroke-linejoin:miter;stroke-width:0.8;\"/>\n   </g>\n   <g id=\"patch_20\">\n    <path d=\"M 486.64858 511.558125 \nL 867.103125 511.558125 \n\" style=\"fill:none;stroke:#000000;stroke-linecap:square;stroke-linejoin:miter;stroke-width:0.8;\"/>\n   </g>\n   <g id=\"patch_21\">\n    <path d=\"M 486.64858 289.176307 \nL 867.103125 289.176307 \n\" style=\"fill:none;stroke:#000000;stroke-linecap:square;stroke-linejoin:miter;stroke-width:0.8;\"/>\n   </g>\n   <g id=\"text_54\">\n    <!-- val_acc -->\n    <g transform=\"translate(654.705852 283.176307)scale(0.12 -0.12)\">\n     <use xlink:href=\"#DejaVuSans-118\"/>\n     <use x=\"59.179688\" xlink:href=\"#DejaVuSans-97\"/>\n     <use x=\"120.458984\" xlink:href=\"#DejaVuSans-108\"/>\n     <use x=\"148.242188\" xlink:href=\"#DejaVuSans-95\"/>\n     <use x=\"198.242188\" xlink:href=\"#DejaVuSans-97\"/>\n     <use x=\"259.521484\" xlink:href=\"#DejaVuSans-99\"/>\n     <use x=\"314.501953\" xlink:href=\"#DejaVuSans-99\"/>\n    </g>\n   </g>\n  </g>\n </g>\n <defs>\n  <clipPath id=\"pe4f8c19e87\">\n   <rect height=\"222.381818\" width=\"380.454545\" x=\"30.103125\" y=\"22.318125\"/>\n  </clipPath>\n  <clipPath id=\"p14c0130ae9\">\n   <rect height=\"222.381818\" width=\"380.454545\" x=\"486.64858\" y=\"22.318125\"/>\n  </clipPath>\n  <clipPath id=\"p3e364039a6\">\n   <rect height=\"222.381818\" width=\"380.454545\" x=\"30.103125\" y=\"289.176307\"/>\n  </clipPath>\n  <clipPath id=\"pb9c674bde1\">\n   <rect height=\"222.381818\" width=\"380.454545\" x=\"486.64858\" y=\"289.176307\"/>\n  </clipPath>\n </defs>\n</svg>\n"
     },
     "metadata": {
      "needs_background": "light"
     }
    }
   ],
   "metadata": {}
  }
 ],
 "metadata": {
  "interpreter": {
   "hash": "05eef6f311b747570f89eafc30ac4b19cb1d6844b383f87a424a5e4387413a6c"
  },
  "kernelspec": {
   "name": "python3",
   "display_name": "Python 3.7.10 64-bit ('ml': conda)"
  },
  "language_info": {
   "codemirror_mode": {
    "name": "ipython",
    "version": 3
   },
   "file_extension": ".py",
   "mimetype": "text/x-python",
   "name": "python",
   "nbconvert_exporter": "python",
   "pygments_lexer": "ipython3",
   "version": "3.7.10"
  },
  "metadata": {
   "interpreter": {
    "hash": "05eef6f311b747570f89eafc30ac4b19cb1d6844b383f87a424a5e4387413a6c"
   }
  },
  "orig_nbformat": 2
 },
 "nbformat": 4,
 "nbformat_minor": 2
}